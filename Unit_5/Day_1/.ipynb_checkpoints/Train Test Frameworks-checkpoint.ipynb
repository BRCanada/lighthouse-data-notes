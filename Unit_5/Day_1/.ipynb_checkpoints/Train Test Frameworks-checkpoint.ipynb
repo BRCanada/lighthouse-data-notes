{
 "cells": [
  {
   "cell_type": "markdown",
   "id": "28f5f819-f0cb-49fc-a60a-7b68ca4de6a0",
   "metadata": {},
   "source": [
    "# Understanding SciKit-learn data splitting\n",
    "\n",
    "We are going to work with scikit-learn to practice splitting data into training and test sets. First, make a list of integers from 0-9:"
   ]
  },
  {
   "cell_type": "code",
   "execution_count": 6,
   "id": "2f97c2c8-40d4-462a-9c4e-57aaee09a5fd",
   "metadata": {},
   "outputs": [
    {
     "name": "stdout",
     "output_type": "stream",
     "text": [
      "[0, 1, 2, 3, 4, 5, 6, 7, 8, 9]\n"
     ]
    }
   ],
   "source": [
    "X =  list(range(10))\n",
    "print (X)"
   ]
  },
  {
   "cell_type": "markdown",
   "id": "7e0088e6-4709-452d-b13a-7fa8079a35b4",
   "metadata": {},
   "source": [
    "Then, we create another list which contains the square values of numbers in X using list comprehension:"
   ]
  },
  {
   "cell_type": "code",
   "execution_count": 7,
   "id": "63549385-0482-4f91-a42b-090a7a9633fb",
   "metadata": {},
   "outputs": [
    {
     "name": "stdout",
     "output_type": "stream",
     "text": [
      "[0, 1, 4, 9, 16, 25, 36, 49, 64, 81]\n"
     ]
    }
   ],
   "source": [
    "y = [x*x for x in X]\n",
    "print (y)"
   ]
  },
  {
   "cell_type": "markdown",
   "id": "b5dd8fce-fc03-47a3-8f42-70f81b4fc5cb",
   "metadata": {},
   "source": [
    "Next, we will import ```model_selection``` from scikit-learn, and use the function ```train_test_split()``` to split our data into two sets:"
   ]
  },
  {
   "cell_type": "code",
   "execution_count": 8,
   "id": "84591d51-5c28-46b3-b680-0003dea55a53",
   "metadata": {},
   "outputs": [
    {
     "name": "stdout",
     "output_type": "stream",
     "text": [
      "X_train:  [4, 9, 3, 5, 7, 6, 1]\n",
      "y_train:  [16, 81, 9, 25, 49, 36, 1]\n",
      "X_test:  [8, 2, 0]\n",
      "y_test:  [64, 4, 0]\n"
     ]
    }
   ],
   "source": [
    "import sklearn.model_selection as model_selection\n",
    "\n",
    "#Define train/test variables for X and y\n",
    "\n",
    "X_train, X_test, y_train, y_test = model_selection.train_test_split(X, y, train_size=0.75,test_size=0.25, random_state=101)\n",
    "\n",
    "\n",
    "print (\"X_train: \", X_train)\n",
    "print (\"y_train: \", y_train)\n",
    "print (\"X_test: \", X_test)\n",
    "print (\"y_test: \", y_test)"
   ]
  },
  {
   "cell_type": "markdown",
   "id": "2d7e58e9-4e00-4cef-9570-6fe084730b29",
   "metadata": {},
   "source": [
    "By specifying ```train_size=0.75```, we aim to put 75% of the data into our training set, and the rest of the data into the test set. Because we only have 10 data points, the program automatically rounded the ratio to 7:3. It's okay to omit the test_size parameter, if you already got the ```train_size``` specified.\n",
    "<br>\n",
    "Now we have to apply sk-learn's cross validation method to our data:"
   ]
  },
  {
   "cell_type": "code",
   "execution_count": 15,
   "id": "0f1b2742-a08c-4343-885f-69438fd21a39",
   "metadata": {},
   "outputs": [],
   "source": [
    "from sklearn.model_selection import train_test_split\n",
    "X_train, X_test, y_train, y_test = train_test_split(X, y, train_size=0.75, random_state=101)"
   ]
  },
  {
   "cell_type": "markdown",
   "id": "d2c51e62-e860-47e0-9d11-0f89e0ab44e4",
   "metadata": {},
   "source": [
    "The ```Random_state``` number is a random seed that is set so the algorithm can be replicated by other programmers. If you want your results to be stochastic each time, simply leave it as the default value “None”.\n",
    "<br>\n",
    "<br>\n",
    "For cross-validation, we can use the KFold() function to split your dataset into n consecutive folds."
   ]
  },
  {
   "cell_type": "code",
   "execution_count": 16,
   "id": "5387c1e2-33f8-4902-8f2d-cea73e3d4c45",
   "metadata": {
    "tags": []
   },
   "outputs": [
    {
     "name": "stdout",
     "output_type": "stream",
     "text": [
      "X_test:  [0 1]\n",
      "X_test:  [2 3]\n",
      "X_test:  [4 5]\n",
      "X_test:  [6 7]\n",
      "X_test:  [8 9]\n"
     ]
    }
   ],
   "source": [
    "from sklearn.model_selection import KFold\n",
    "import numpy as np\n",
    "\n",
    "# Define KFold segments\n",
    "kf = KFold(n_splits=5)\n",
    "\n",
    "# Define data as X and \n",
    "X = np.array(X)\n",
    "y = np.array(y)\n",
    "\n",
    "#Run the KFold cross validation\n",
    "for train_index, test_index in kf.split(X):\n",
    "    X_train, X_test = X[train_index], X[test_index]\n",
    "    y_train, y_test = y[train_index], y[test_index]\n",
    "    print(\"X_test: \", X_test)"
   ]
  },
  {
   "cell_type": "markdown",
   "id": "b82d7178-12c7-40c0-b3ef-9c8b7d041fd9",
   "metadata": {},
   "source": [
    "By specifying the n_splits parameter as 5, both of the X and y sets were divided into five folds (the y sets now shown here). Notice that the program always picked two neighboring numbers from the original data sets.\n",
    "<br>\n",
    "<br>\n",
    "Nevertheless, using kf = KFold(n_splits=5, shuffle=True) will give you the same mixing effect for the original data sets as what we’ve seen before.\n",
    "<br>\n",
    "<br>\n",
    "In addition, scikit-learn provides useful built-in functions to calculate the error metrics of multiple folds of test sets to evaluate machine learning models. \n",
    "<br>\n",
    "<br>\n",
    "For example,\n",
    "```\n",
    "model_selection.cross_val_score(model, X, y, cv=kf, scoring=‘neg_mean_absolute_error’)\n",
    "```\n",
    "will report one score of mean absolute error.\n"
   ]
  },
  {
   "cell_type": "code",
   "execution_count": null,
   "id": "9dde9d1e-4ab4-4644-9ecb-86c9b3a04e9c",
   "metadata": {},
   "outputs": [],
   "source": []
  }
 ],
 "metadata": {
  "kernelspec": {
   "display_name": "Python 3 (ipykernel)",
   "language": "python",
   "name": "python3"
  },
  "language_info": {
   "codemirror_mode": {
    "name": "ipython",
    "version": 3
   },
   "file_extension": ".py",
   "mimetype": "text/x-python",
   "name": "python",
   "nbconvert_exporter": "python",
   "pygments_lexer": "ipython3",
   "version": "3.8.13"
  }
 },
 "nbformat": 4,
 "nbformat_minor": 5
}
