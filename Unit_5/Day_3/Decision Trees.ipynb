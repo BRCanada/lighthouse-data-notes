{
 "cells": [
  {
   "cell_type": "markdown",
   "id": "b83620eb-c2dc-4571-a85c-0bf2bb7fe56c",
   "metadata": {},
   "source": [
    "# Decision Trees in Python\n",
    "### Decision Tree Algorithm\n",
    "A decision tree is a flowchart-like tree structure where an internal node represents feature(or attribute), the branch represents a decision rule, and each leaf node represents the outcome. The top note is referred to as the *Root* node, and it learns to partition on the basis of the attribute value. \n",
    "<br>\n",
    "<br> Partitions are made in a recursive manner. And this structure helps with decision making. It's closest relative is a generic flow chart, which essentially mimics human-level thinking."
   ]
  },
  {
   "cell_type": "markdown",
   "id": "a5403389-c5fe-4fe7-83a1-752a5e1b2465",
   "metadata": {},
   "source": [
    "### How Does it Work?\n",
    "Here is the basic idea of a decision tree's parts:\n",
    "1. Select the best attribute using Attribute Selection Measures to split the data records.\n",
    "2. Make that attribute a decision node and breaks the dataset into smaller subsets.\n",
    "3. Starts tree building by repeating this proceess recursively for each child until one of the conditions will match:\n",
    "    * All the tuples belong to the same attribute value\n",
    "    * There are no more remaining attributes\n",
    "    * There are no more instances"
   ]
  },
  {
   "cell_type": "markdown",
   "id": "1362b560-8090-4566-b5b7-3bb1b51a1084",
   "metadata": {},
   "source": [
    "### Attribute Selection Measures\n",
    "This is a heuristic for selecting the splitting criterion that partition data in the best possible manner. It is also known as 'splitting rules' because it helps us to determine breakpoints for tuples on a given node. ASM provides a rank to each feature(or attribute) by explaining the given dataset. The attribute with the best score (i.e. lowest Gini value) will be selected as a splitting attribute. Popular measures are Information Gain, Gain Ratio and Gini Index."
   ]
  },
  {
   "cell_type": "markdown",
   "id": "27fc419a-8d53-4517-aa96-e6082905fbed",
   "metadata": {},
   "source": [
    "#### Information Gain\n",
    "Shannon coined the concept of entropy, which measures the impurity of the input set. In physics and mathematics, entropy referred as the randomness or the impurity in the system. In information theory, it refers to the impurity in a group of examples. Information Gain is the decrease in entropy. IG computes the difference between entropy before the split, and the average entropy after the split based on given attribute values. The **Iterative Dichotomiser (ID3** decision tree algorithm uses the IG method.\n",
    "\n",
    "$$ Gain(A) = Info(D) - Info_{A}(D) $$"
   ]
  },
  {
   "cell_type": "markdown",
   "id": "41f48266-1df2-4d62-8ab3-67d5a6f8400c",
   "metadata": {
    "tags": []
   },
   "source": [
    "#### Gain Ratio\n",
    "Information Gain is biased for the attributes that have many outcomes. This means IG prefers the attribute with a *large number* of distinct values. For instance, consider if an attribute with a unique identifier, such as customer_ID, has *no* info due to pure partition. This maximizes information gain and creates useless partitioning.\n",
    "<br>\n",
    "<br>\n",
    "**C4.5**, an improvement of the **ID3** algorithm, uses an extension to information gain known as the *Gain Ratio*. Gain Ratio handles the issue of bias by normalizing the information gain using split info.\n",
    "\n",
    "$$ GainRatio(A) = \\frac{Gain(A)}{SplitInfo_{A}(D)} $$\n",
    "\n",
    "The attribute with the highest gain ratio is chosen as the splitting attribute"
   ]
  },
  {
   "cell_type": "markdown",
   "id": "96493d6d-dc64-4bed-a903-74d991e06cf9",
   "metadata": {},
   "source": [
    "#### Gini Index\n",
    "Another decision tree algorithm, **CART (Classification and Regression Tree)**, uses the Gini method to create split points. The Gini Index considers a binary split for each attribute. You can compute a weighted sum of the impurity if each partition. If a binary split on attribute *A* partitions data *D* into *D1* and D2*, the Gini Index of D is:\n",
    "<br> \n",
    "\n",
    "$$ Gini_{A}(D) = \\frac{D1}{D}Gini(D_{1})+\\frac{D2}{D} Gini(D_{2}) $$\n",
    "\n",
    "<br>\n",
    "<br>\n",
    "In case of a discrete-valued attribute, the subset that gives the minimum Gini Index for that chosen attribute is selected as the splitting attribute. In cases of continuous-valued attributes, the strategy is to select each pair of adjacent values as a possible split-point and the point with a smaller Gini Index will be chosen as the splitting point."
   ]
  },
  {
   "cell_type": "markdown",
   "id": "c206d29b-cf64-427c-aa6a-3a985bc5acc5",
   "metadata": {},
   "source": [
    "### Decision Tree Classifier Building in Scikit-learn"
   ]
  },
  {
   "cell_type": "code",
   "execution_count": 1,
   "id": "39b20869-e8ad-4eff-bee8-079262b43cc3",
   "metadata": {},
   "outputs": [],
   "source": [
    "#Import Libraries\n",
    "import pandas as pd\n",
    "from sklearn.tree import DecisionTreeClassifier\n",
    "from sklearn.model_selection import train_test_split\n",
    "\n",
    "# Import metrics module for accuracy calculation\n",
    "from sklearn import metrics"
   ]
  },
  {
   "cell_type": "code",
   "execution_count": 2,
   "id": "4651c4e9-6374-4db6-86e7-c1a172f8294d",
   "metadata": {},
   "outputs": [],
   "source": [
    "# Load our data (Pima Indian Diabetes Data)\n",
    "col_names = ['pregnant', 'glucose', 'bp', 'skin', 'insulin', 'bmi', 'pedigree', 'age', 'label']\n",
    "# load dataset\n",
    "pima = pd.read_csv(\"diabetes.csv\", header=None, names=col_names)"
   ]
  },
  {
   "cell_type": "code",
   "execution_count": 3,
   "id": "194d2a7b-192b-4118-96d5-cdcbedd1e6b7",
   "metadata": {},
   "outputs": [
    {
     "data": {
      "text/html": [
       "<div>\n",
       "<style scoped>\n",
       "    .dataframe tbody tr th:only-of-type {\n",
       "        vertical-align: middle;\n",
       "    }\n",
       "\n",
       "    .dataframe tbody tr th {\n",
       "        vertical-align: top;\n",
       "    }\n",
       "\n",
       "    .dataframe thead th {\n",
       "        text-align: right;\n",
       "    }\n",
       "</style>\n",
       "<table border=\"1\" class=\"dataframe\">\n",
       "  <thead>\n",
       "    <tr style=\"text-align: right;\">\n",
       "      <th></th>\n",
       "      <th>pregnant</th>\n",
       "      <th>glucose</th>\n",
       "      <th>bp</th>\n",
       "      <th>skin</th>\n",
       "      <th>insulin</th>\n",
       "      <th>bmi</th>\n",
       "      <th>pedigree</th>\n",
       "      <th>age</th>\n",
       "      <th>label</th>\n",
       "    </tr>\n",
       "  </thead>\n",
       "  <tbody>\n",
       "    <tr>\n",
       "      <th>0</th>\n",
       "      <td>Pregnancies</td>\n",
       "      <td>Glucose</td>\n",
       "      <td>BloodPressure</td>\n",
       "      <td>SkinThickness</td>\n",
       "      <td>Insulin</td>\n",
       "      <td>BMI</td>\n",
       "      <td>DiabetesPedigreeFunction</td>\n",
       "      <td>Age</td>\n",
       "      <td>Outcome</td>\n",
       "    </tr>\n",
       "    <tr>\n",
       "      <th>1</th>\n",
       "      <td>6</td>\n",
       "      <td>148</td>\n",
       "      <td>72</td>\n",
       "      <td>35</td>\n",
       "      <td>0</td>\n",
       "      <td>33.6</td>\n",
       "      <td>0.627</td>\n",
       "      <td>50</td>\n",
       "      <td>1</td>\n",
       "    </tr>\n",
       "    <tr>\n",
       "      <th>2</th>\n",
       "      <td>1</td>\n",
       "      <td>85</td>\n",
       "      <td>66</td>\n",
       "      <td>29</td>\n",
       "      <td>0</td>\n",
       "      <td>26.6</td>\n",
       "      <td>0.351</td>\n",
       "      <td>31</td>\n",
       "      <td>0</td>\n",
       "    </tr>\n",
       "    <tr>\n",
       "      <th>3</th>\n",
       "      <td>8</td>\n",
       "      <td>183</td>\n",
       "      <td>64</td>\n",
       "      <td>0</td>\n",
       "      <td>0</td>\n",
       "      <td>23.3</td>\n",
       "      <td>0.672</td>\n",
       "      <td>32</td>\n",
       "      <td>1</td>\n",
       "    </tr>\n",
       "    <tr>\n",
       "      <th>4</th>\n",
       "      <td>1</td>\n",
       "      <td>89</td>\n",
       "      <td>66</td>\n",
       "      <td>23</td>\n",
       "      <td>94</td>\n",
       "      <td>28.1</td>\n",
       "      <td>0.167</td>\n",
       "      <td>21</td>\n",
       "      <td>0</td>\n",
       "    </tr>\n",
       "  </tbody>\n",
       "</table>\n",
       "</div>"
      ],
      "text/plain": [
       "      pregnant  glucose             bp           skin  insulin   bmi  \\\n",
       "0  Pregnancies  Glucose  BloodPressure  SkinThickness  Insulin   BMI   \n",
       "1            6      148             72             35        0  33.6   \n",
       "2            1       85             66             29        0  26.6   \n",
       "3            8      183             64              0        0  23.3   \n",
       "4            1       89             66             23       94  28.1   \n",
       "\n",
       "                   pedigree  age    label  \n",
       "0  DiabetesPedigreeFunction  Age  Outcome  \n",
       "1                     0.627   50        1  \n",
       "2                     0.351   31        0  \n",
       "3                     0.672   32        1  \n",
       "4                     0.167   21        0  "
      ]
     },
     "execution_count": 3,
     "metadata": {},
     "output_type": "execute_result"
    }
   ],
   "source": [
    "pima.head()"
   ]
  },
  {
   "cell_type": "markdown",
   "id": "9f8fc1da-2b10-4691-a674-fc612f2c978c",
   "metadata": {
    "tags": []
   },
   "source": [
    "#### Feature Selection\n",
    "Here, we need to divide the given columns into two types of variables:\n",
    "1. Dependent (or target variable)\n",
    "2. Independent (or feature variables)"
   ]
  },
  {
   "cell_type": "code",
   "execution_count": 4,
   "id": "737192ea-db85-4467-a521-cd4d6c948641",
   "metadata": {},
   "outputs": [
    {
     "data": {
      "text/html": [
       "<div>\n",
       "<style scoped>\n",
       "    .dataframe tbody tr th:only-of-type {\n",
       "        vertical-align: middle;\n",
       "    }\n",
       "\n",
       "    .dataframe tbody tr th {\n",
       "        vertical-align: top;\n",
       "    }\n",
       "\n",
       "    .dataframe thead th {\n",
       "        text-align: right;\n",
       "    }\n",
       "</style>\n",
       "<table border=\"1\" class=\"dataframe\">\n",
       "  <thead>\n",
       "    <tr style=\"text-align: right;\">\n",
       "      <th></th>\n",
       "      <th>pregnant</th>\n",
       "      <th>glucose</th>\n",
       "      <th>bp</th>\n",
       "      <th>skin</th>\n",
       "      <th>insulin</th>\n",
       "      <th>bmi</th>\n",
       "      <th>pedigree</th>\n",
       "      <th>age</th>\n",
       "      <th>label</th>\n",
       "    </tr>\n",
       "  </thead>\n",
       "  <tbody>\n",
       "    <tr>\n",
       "      <th>1</th>\n",
       "      <td>6</td>\n",
       "      <td>148</td>\n",
       "      <td>72</td>\n",
       "      <td>35</td>\n",
       "      <td>0</td>\n",
       "      <td>33.6</td>\n",
       "      <td>0.627</td>\n",
       "      <td>50</td>\n",
       "      <td>1</td>\n",
       "    </tr>\n",
       "    <tr>\n",
       "      <th>2</th>\n",
       "      <td>1</td>\n",
       "      <td>85</td>\n",
       "      <td>66</td>\n",
       "      <td>29</td>\n",
       "      <td>0</td>\n",
       "      <td>26.6</td>\n",
       "      <td>0.351</td>\n",
       "      <td>31</td>\n",
       "      <td>0</td>\n",
       "    </tr>\n",
       "    <tr>\n",
       "      <th>3</th>\n",
       "      <td>8</td>\n",
       "      <td>183</td>\n",
       "      <td>64</td>\n",
       "      <td>0</td>\n",
       "      <td>0</td>\n",
       "      <td>23.3</td>\n",
       "      <td>0.672</td>\n",
       "      <td>32</td>\n",
       "      <td>1</td>\n",
       "    </tr>\n",
       "  </tbody>\n",
       "</table>\n",
       "</div>"
      ],
      "text/plain": [
       "  pregnant glucose  bp skin insulin   bmi pedigree age label\n",
       "1        6     148  72   35       0  33.6    0.627  50     1\n",
       "2        1      85  66   29       0  26.6    0.351  31     0\n",
       "3        8     183  64    0       0  23.3    0.672  32     1"
      ]
     },
     "execution_count": 4,
     "metadata": {},
     "output_type": "execute_result"
    }
   ],
   "source": [
    "#Drop Index 0\n",
    "pima.drop(index=pima.index[0],axis=0,inplace=True)\n",
    "pima.head(3)"
   ]
  },
  {
   "cell_type": "code",
   "execution_count": 5,
   "id": "e28323e8-a33d-4a1c-b4dc-cbe56aeec093",
   "metadata": {},
   "outputs": [],
   "source": [
    "#split dataset in features and target variable\n",
    "feature_cols = ['pregnant', 'insulin', 'bmi', 'age','glucose','bp','pedigree']\n",
    "X = pima[feature_cols] # Features\n",
    "y = pima.label # Target variable"
   ]
  },
  {
   "cell_type": "markdown",
   "id": "ba36d4a5-6ef9-4036-a0bb-36630fbfb583",
   "metadata": {},
   "source": [
    "#### Splitting Data\n",
    "To understand model performance, dividing the dataset into train and test sets is recommended. We can use the function train_test_split(). We will also need to pass 3 parameters features, target, and test_set size."
   ]
  },
  {
   "cell_type": "code",
   "execution_count": 6,
   "id": "e12ff6ae-266d-4593-a31c-cce026e72f80",
   "metadata": {},
   "outputs": [],
   "source": [
    "# Split dataset into training set and test set\n",
    "X_train, X_test, y_train, y_test = train_test_split(X, y, test_size=0.3, random_state=1) # 70% training and 30% test"
   ]
  },
  {
   "cell_type": "markdown",
   "id": "d2ea60d3-0882-42e1-ae92-549c9beaa1f1",
   "metadata": {},
   "source": [
    "#### Building the decision tree model"
   ]
  },
  {
   "cell_type": "code",
   "execution_count": 7,
   "id": "07b70460-160b-4788-bb8d-71fd918be715",
   "metadata": {},
   "outputs": [],
   "source": [
    "# Create Decision Tree classifer object\n",
    "clf = DecisionTreeClassifier()\n",
    "\n",
    "# Train Decision Tree Classifer\n",
    "clf = clf.fit(X_train,y_train)\n",
    "\n",
    "#Predict the response for test dataset\n",
    "y_pred = clf.predict(X_test)"
   ]
  },
  {
   "cell_type": "markdown",
   "id": "3bc15d96-e0bd-4e61-a1df-5cea9f1dd070",
   "metadata": {},
   "source": [
    "#### Evaluate the Model\n",
    "Let's estimate, how accurately the classifier or model can predict the type of cultivars. Accuracy can be computed by comparing actual test set values and predicted values."
   ]
  },
  {
   "cell_type": "code",
   "execution_count": 8,
   "id": "aac3f023-1fab-4880-a989-3e57daf956d9",
   "metadata": {},
   "outputs": [
    {
     "name": "stdout",
     "output_type": "stream",
     "text": [
      "Accuracy: 0.683982683982684\n"
     ]
    }
   ],
   "source": [
    "# Model Accuracy, how often is the classifier correct?\n",
    "print(\"Accuracy:\",metrics.accuracy_score(y_test, y_pred))"
   ]
  },
  {
   "cell_type": "markdown",
   "id": "809b1d49-f665-4950-bcf8-bd98fd351cc3",
   "metadata": {},
   "source": [
    "~66% is a relatively good accuracy rating, and we can improve it by fine tunung the parameters in our decision tree algorithm.\n",
    "\n",
    "#### Visualizing Decision Tree\n",
    "You can use Scikit-learn's *export_graphviz* function to display the tree within Jupyter. For plotting, you also will need to install graphviz and pydotplus.\n",
    "<br>\n",
    "<br> *export_graphviz* converts the decision tree classifier into a dot file and pydotplus converts this dot file to png or another displayable format on Jupyter."
   ]
  },
  {
   "cell_type": "code",
   "execution_count": 10,
   "id": "1beaa28a-bbd8-4c7a-8ada-b57d2aaf2fcb",
   "metadata": {},
   "outputs": [
    {
     "ename": "InvocationException",
     "evalue": "GraphViz's executables not found",
     "output_type": "error",
     "traceback": [
      "\u001b[0;31m---------------------------------------------------------------------------\u001b[0m",
      "\u001b[0;31mInvocationException\u001b[0m                       Traceback (most recent call last)",
      "Cell \u001b[0;32mIn [10], line 11\u001b[0m\n\u001b[1;32m      7\u001b[0m export_graphviz(clf, out_file\u001b[38;5;241m=\u001b[39mdot_data,  \n\u001b[1;32m      8\u001b[0m                 filled\u001b[38;5;241m=\u001b[39m\u001b[38;5;28;01mTrue\u001b[39;00m, rounded\u001b[38;5;241m=\u001b[39m\u001b[38;5;28;01mTrue\u001b[39;00m,\n\u001b[1;32m      9\u001b[0m                 special_characters\u001b[38;5;241m=\u001b[39m\u001b[38;5;28;01mTrue\u001b[39;00m,feature_names \u001b[38;5;241m=\u001b[39m feature_cols,class_names\u001b[38;5;241m=\u001b[39m[\u001b[38;5;124m'\u001b[39m\u001b[38;5;124m0\u001b[39m\u001b[38;5;124m'\u001b[39m,\u001b[38;5;124m'\u001b[39m\u001b[38;5;124m1\u001b[39m\u001b[38;5;124m'\u001b[39m])\n\u001b[1;32m     10\u001b[0m graph \u001b[38;5;241m=\u001b[39m pydotplus\u001b[38;5;241m.\u001b[39mgraph_from_dot_data(dot_data\u001b[38;5;241m.\u001b[39mgetvalue())  \n\u001b[0;32m---> 11\u001b[0m graph\u001b[38;5;241m.\u001b[39mwrite_png(\u001b[38;5;124m'\u001b[39m\u001b[38;5;124mdiabetes.png\u001b[39m\u001b[38;5;124m'\u001b[39m)\n\u001b[1;32m     12\u001b[0m Image(graph\u001b[38;5;241m.\u001b[39mcreate_png())\n",
      "File \u001b[0;32m/opt/homebrew/Caskroom/miniforge/base/envs/base_env/lib/python3.8/site-packages/pydotplus/graphviz.py:1810\u001b[0m, in \u001b[0;36mDot.__init__.<locals>.<lambda>\u001b[0;34m(path, f, prog)\u001b[0m\n\u001b[1;32m   1800\u001b[0m     f\u001b[38;5;241m.\u001b[39m\u001b[38;5;18m__doc__\u001b[39m \u001b[38;5;241m=\u001b[39m (\n\u001b[1;32m   1801\u001b[0m         \u001b[38;5;124;03m'''Refer to the docstring accompanying the'''\u001b[39;00m\n\u001b[1;32m   1802\u001b[0m         \u001b[38;5;124;03m''''create' method for more information.'''\u001b[39;00m\n\u001b[1;32m   1803\u001b[0m     )\n\u001b[1;32m   1805\u001b[0m \u001b[38;5;28;01mfor\u001b[39;00m frmt \u001b[38;5;129;01min\u001b[39;00m \u001b[38;5;28mself\u001b[39m\u001b[38;5;241m.\u001b[39mformats \u001b[38;5;241m+\u001b[39m [\u001b[38;5;124m'\u001b[39m\u001b[38;5;124mraw\u001b[39m\u001b[38;5;124m'\u001b[39m]:\n\u001b[1;32m   1806\u001b[0m     \u001b[38;5;28mself\u001b[39m\u001b[38;5;241m.\u001b[39m\u001b[38;5;21m__setattr__\u001b[39m(\n\u001b[1;32m   1807\u001b[0m         \u001b[38;5;124m'\u001b[39m\u001b[38;5;124mwrite_\u001b[39m\u001b[38;5;124m'\u001b[39m \u001b[38;5;241m+\u001b[39m frmt,\n\u001b[1;32m   1808\u001b[0m         \u001b[38;5;28;01mlambda\u001b[39;00m path,\n\u001b[1;32m   1809\u001b[0m         f\u001b[38;5;241m=\u001b[39mfrmt,\n\u001b[0;32m-> 1810\u001b[0m         prog\u001b[38;5;241m=\u001b[39m\u001b[38;5;28mself\u001b[39m\u001b[38;5;241m.\u001b[39mprog: \u001b[38;5;28;43mself\u001b[39;49m\u001b[38;5;241;43m.\u001b[39;49m\u001b[43mwrite\u001b[49m\u001b[43m(\u001b[49m\u001b[43mpath\u001b[49m\u001b[43m,\u001b[49m\u001b[43m \u001b[49m\u001b[38;5;28;43mformat\u001b[39;49m\u001b[38;5;241;43m=\u001b[39;49m\u001b[43mf\u001b[49m\u001b[43m,\u001b[49m\u001b[43m \u001b[49m\u001b[43mprog\u001b[49m\u001b[38;5;241;43m=\u001b[39;49m\u001b[43mprog\u001b[49m\u001b[43m)\u001b[49m\n\u001b[1;32m   1811\u001b[0m     )\n\u001b[1;32m   1813\u001b[0m     f \u001b[38;5;241m=\u001b[39m \u001b[38;5;28mself\u001b[39m\u001b[38;5;241m.\u001b[39m\u001b[38;5;18m__dict__\u001b[39m[\u001b[38;5;124m'\u001b[39m\u001b[38;5;124mwrite_\u001b[39m\u001b[38;5;124m'\u001b[39m \u001b[38;5;241m+\u001b[39m frmt]\n\u001b[1;32m   1814\u001b[0m     f\u001b[38;5;241m.\u001b[39m\u001b[38;5;18m__doc__\u001b[39m \u001b[38;5;241m=\u001b[39m (\n\u001b[1;32m   1815\u001b[0m         \u001b[38;5;124;03m'''Refer to the docstring accompanying the'''\u001b[39;00m\n\u001b[1;32m   1816\u001b[0m         \u001b[38;5;124;03m''''write' method for more information.'''\u001b[39;00m\n\u001b[1;32m   1817\u001b[0m     )\n",
      "File \u001b[0;32m/opt/homebrew/Caskroom/miniforge/base/envs/base_env/lib/python3.8/site-packages/pydotplus/graphviz.py:1918\u001b[0m, in \u001b[0;36mDot.write\u001b[0;34m(self, path, prog, format)\u001b[0m\n\u001b[1;32m   1915\u001b[0m         fobj\u001b[38;5;241m.\u001b[39mwrite(data)\n\u001b[1;32m   1917\u001b[0m     \u001b[38;5;28;01melse\u001b[39;00m:\n\u001b[0;32m-> 1918\u001b[0m         fobj\u001b[38;5;241m.\u001b[39mwrite(\u001b[38;5;28;43mself\u001b[39;49m\u001b[38;5;241;43m.\u001b[39;49m\u001b[43mcreate\u001b[49m\u001b[43m(\u001b[49m\u001b[43mprog\u001b[49m\u001b[43m,\u001b[49m\u001b[43m \u001b[49m\u001b[38;5;28;43mformat\u001b[39;49m\u001b[43m)\u001b[49m)\n\u001b[1;32m   1919\u001b[0m \u001b[38;5;28;01mfinally\u001b[39;00m:\n\u001b[1;32m   1920\u001b[0m     \u001b[38;5;28;01mif\u001b[39;00m close:\n",
      "File \u001b[0;32m/opt/homebrew/Caskroom/miniforge/base/envs/base_env/lib/python3.8/site-packages/pydotplus/graphviz.py:1959\u001b[0m, in \u001b[0;36mDot.create\u001b[0;34m(self, prog, format)\u001b[0m\n\u001b[1;32m   1957\u001b[0m     \u001b[38;5;28mself\u001b[39m\u001b[38;5;241m.\u001b[39mprogs \u001b[38;5;241m=\u001b[39m find_graphviz()\n\u001b[1;32m   1958\u001b[0m     \u001b[38;5;28;01mif\u001b[39;00m \u001b[38;5;28mself\u001b[39m\u001b[38;5;241m.\u001b[39mprogs \u001b[38;5;129;01mis\u001b[39;00m \u001b[38;5;28;01mNone\u001b[39;00m:\n\u001b[0;32m-> 1959\u001b[0m         \u001b[38;5;28;01mraise\u001b[39;00m InvocationException(\n\u001b[1;32m   1960\u001b[0m             \u001b[38;5;124m'\u001b[39m\u001b[38;5;124mGraphViz\u001b[39m\u001b[38;5;130;01m\\'\u001b[39;00m\u001b[38;5;124ms executables not found\u001b[39m\u001b[38;5;124m'\u001b[39m)\n\u001b[1;32m   1962\u001b[0m \u001b[38;5;28;01mif\u001b[39;00m prog \u001b[38;5;129;01mnot\u001b[39;00m \u001b[38;5;129;01min\u001b[39;00m \u001b[38;5;28mself\u001b[39m\u001b[38;5;241m.\u001b[39mprogs:\n\u001b[1;32m   1963\u001b[0m     \u001b[38;5;28;01mraise\u001b[39;00m InvocationException(\n\u001b[1;32m   1964\u001b[0m         \u001b[38;5;124m'\u001b[39m\u001b[38;5;124mGraphViz\u001b[39m\u001b[38;5;130;01m\\'\u001b[39;00m\u001b[38;5;124ms executable \u001b[39m\u001b[38;5;124m\"\u001b[39m\u001b[38;5;132;01m%s\u001b[39;00m\u001b[38;5;124m\"\u001b[39m\u001b[38;5;124m not found\u001b[39m\u001b[38;5;124m'\u001b[39m \u001b[38;5;241m%\u001b[39m prog)\n",
      "\u001b[0;31mInvocationException\u001b[0m: GraphViz's executables not found"
     ]
    }
   ],
   "source": [
    "from sklearn.tree import export_graphviz\n",
    "from io import StringIO  \n",
    "from IPython.display import Image  \n",
    "import pydotplus\n",
    "\n",
    "dot_data = StringIO()\n",
    "export_graphviz(clf, out_file=dot_data,  \n",
    "                filled=True, rounded=True,\n",
    "                special_characters=True,feature_names = feature_cols,class_names=['0','1'])\n",
    "graph = pydotplus.graph_from_dot_data(dot_data.getvalue())  \n",
    "graph.write_png('diabetes.png')\n",
    "Image(graph.create_png())"
   ]
  },
  {
   "cell_type": "code",
   "execution_count": null,
   "id": "640e5806-c7c2-4d58-a78f-772c1812a3d7",
   "metadata": {},
   "outputs": [],
   "source": []
  }
 ],
 "metadata": {
  "kernelspec": {
   "display_name": "Python 3 (ipykernel)",
   "language": "python",
   "name": "python3"
  },
  "language_info": {
   "codemirror_mode": {
    "name": "ipython",
    "version": 3
   },
   "file_extension": ".py",
   "mimetype": "text/x-python",
   "name": "python",
   "nbconvert_exporter": "python",
   "pygments_lexer": "ipython3",
   "version": "3.8.13"
  }
 },
 "nbformat": 4,
 "nbformat_minor": 5
}
