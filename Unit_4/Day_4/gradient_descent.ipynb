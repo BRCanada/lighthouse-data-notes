{
 "cells": [
  {
   "cell_type": "markdown",
   "metadata": {},
   "source": [
    "## Gradient Descent\n",
    "\n",
    "In this notebook we will implement gradient descent for a single neuron. To simplify this as much as possible we will assume we have no bias `b = 0` and no activation function. The image below shows the neuron we will be coding and the relevant equations needed to update the weight using gradient descent. \n",
    "\n",
    "<img src=\"Gradient Descent Notebook-1.jpg\" width=600 align=\"center\">\n",
    "\n",
    "The recipe we are following is:\n",
    "1. make a prediction for our single sample\n",
    "2. calculate the loss for this single sample\n",
    "3. calculate the value of the derivative for this single sample\n",
    "4. use the derivative and the learning rate to update the value of the weight\n",
    "5. repeat until the loss is a minimum (that is, stops decreasing)"
   ]
  },
  {
   "cell_type": "markdown",
   "metadata": {},
   "source": [
    "#### Stochastic Gradient Descent: A single sample"
   ]
  },
  {
   "cell_type": "code",
   "execution_count": 9,
   "metadata": {},
   "outputs": [
    {
     "name": "stdout",
     "output_type": "stream",
     "text": [
      "iteration: 0 weight: 0.2930  prediction: 0.2000  Loss: 14.44000000\n",
      "iteration: 10 weight: 1.4153  prediction: 2.6984  Loss: 1.69418978\n",
      "iteration: 20 weight: 1.7997  prediction: 3.5542  Loss: 0.19877279\n",
      "iteration: 30 weight: 1.9314  prediction: 3.8473  Loss: 0.02332125\n",
      "iteration: 40 weight: 1.9765  prediction: 3.9477  Loss: 0.00273619\n",
      "iteration: 50 weight: 1.9920  prediction: 3.9821  Loss: 0.00032103\n",
      "iteration: 60 weight: 1.9972  prediction: 3.9939  Loss: 0.00003766\n",
      "iteration: 70 weight: 1.9991  prediction: 3.9979  Loss: 0.00000442\n",
      "iteration: 80 weight: 1.9997  prediction: 3.9993  Loss: 0.00000052\n",
      "iteration: 90 weight: 1.9999  prediction: 3.9998  Loss: 0.00000006\n"
     ]
    }
   ],
   "source": [
    "y = 4 # correct answer\n",
    "x = 2 # we have one sample and one feature \n",
    "w = 0.1 # initial value for our weight\n",
    "\n",
    "lr = 0.0127 # the learning rate\n",
    "\n",
    "n_iterations = 100 # number of iterations of gradient descent, that is, number of times we update w\n",
    "\n",
    "for i in range(n_iterations):\n",
    "    y_hat = w * x # make prediction using current value for w\n",
    "    L = (y - y_hat)**2  # calculate the loss (our loss function = mean squared error)\n",
    "    dL_dw = -2 * (y - y_hat)*x   # calculate derivative needed to update the weight (see image above) \n",
    "    w = w - lr*dL_dw # update the weight\n",
    "    # the code below allows you to print out answers after every x iterations; adjust to suit your needs\n",
    "    if (i%10 == 0):\n",
    "        print(f\"iteration: {i} weight: {w:.4f}  prediction: {y_hat:.4f}  Loss: {L:.8f}\")"
   ]
  },
  {
   "cell_type": "markdown",
   "metadata": {},
   "source": [
    "#### Stochastic Gradient Descent: Multiple samples\n",
    "\n",
    "We will now repeat what we did above but now our training data will have 5 samples. "
   ]
  },
  {
   "cell_type": "code",
   "execution_count": 10,
   "metadata": {},
   "outputs": [],
   "source": [
    "X = [1, 2, 3, 3, 4]  # 5 samples with 1 feature value each\n",
    "Y = [2, 1, 4, 2, 5] # correct answers for each sample"
   ]
  },
  {
   "cell_type": "markdown",
   "metadata": {},
   "source": [
    "Let's plot the data so we can see what we are dealing with. "
   ]
  },
  {
   "cell_type": "code",
   "execution_count": 11,
   "metadata": {},
   "outputs": [
    {
     "data": {
      "text/plain": [
       "<matplotlib.collections.PathCollection at 0x117563fa0>"
      ]
     },
     "execution_count": 11,
     "metadata": {},
     "output_type": "execute_result"
    },
    {
     "data": {
      "image/png": "[encoded data removed]",
      "text/plain": [
       "<Figure size 640x480 with 1 Axes>"
      ]
     },
     "metadata": {},
     "output_type": "display_data"
    }
   ],
   "source": [
    "import matplotlib.pyplot as plt\n",
    "\n",
    "plt.scatter(X, Y)"
   ]
  },
  {
   "cell_type": "markdown",
   "metadata": {},
   "source": [
    "Using the plot above, convince yourself that for our neuron we will not be able to make `L = 0` as we could with the single sample. That is, there is no line we can draw that will pass through all the points (that is how the loss would equal to 0). \n",
    "\n",
    "In the following code we will apply stochastic gradient descent (update weight after each sample in the trainging data) to the training data of 5 samples we created above. "
   ]
  },
  {
   "cell_type": "code",
   "execution_count": 12,
   "metadata": {},
   "outputs": [
    {
     "name": "stdout",
     "output_type": "stream",
     "text": [
      "Epoch 1 weight: 0.19583167  Total Loss: 39.599796\n",
      "Epoch 2 weight: 0.28229229  Total Loss: 33.127512\n",
      "Epoch 3 weight: 0.36029822  Total Loss: 27.860079\n",
      "Epoch 4 weight: 0.43067622  Total Loss: 23.573291\n",
      "Epoch 5 weight: 0.49417220  Total Loss: 20.084655\n",
      "Epoch 6 weight: 0.55145913  Total Loss: 17.245631\n",
      "Epoch 7 weight: 0.60314417  Total Loss: 14.935316\n",
      "Epoch 8 weight: 0.64977510  Total Loss: 13.055305\n",
      "Epoch 9 weight: 0.69184616  Total Loss: 11.525502\n",
      "Epoch 10 weight: 0.72980323  Total Loss: 10.280714\n",
      "Epoch 11 weight: 0.76404861  Total Loss: 9.267882\n",
      "Epoch 12 weight: 0.79494525  Total Loss: 8.443818\n",
      "Epoch 13 weight: 0.82282062  Total Loss: 7.773374\n",
      "Epoch 14 weight: 0.84797015  Total Loss: 7.227942\n",
      "Epoch 15 weight: 0.87066040  Total Loss: 6.784238\n",
      "Epoch 16 weight: 0.89113184  Total Loss: 6.423314\n",
      "Epoch 17 weight: 0.90960145  Total Loss: 6.129747\n",
      "Epoch 18 weight: 0.92626498  Total Loss: 5.890987\n",
      "Epoch 19 weight: 0.94129905  Total Loss: 5.696820\n",
      "Epoch 20 weight: 0.95486298  Total Loss: 5.538932\n",
      "Epoch 21 weight: 0.96710055  Total Loss: 5.410560\n",
      "Epoch 22 weight: 0.97814144  Total Loss: 5.306200\n",
      "Epoch 23 weight: 0.98810268  Total Loss: 5.221371\n",
      "Epoch 24 weight: 0.99708985  Total Loss: 5.152429\n",
      "Epoch 25 weight: 1.00519819  Total Loss: 5.096408\n",
      "Epoch 26 weight: 1.01251365  Total Loss: 5.050896\n",
      "Epoch 27 weight: 1.01911375  Total Loss: 5.013929\n",
      "Epoch 28 weight: 1.02506846  Total Loss: 4.983909\n",
      "Epoch 29 weight: 1.03044087  Total Loss: 4.959538\n",
      "Epoch 30 weight: 1.03528793  Total Loss: 4.939758\n",
      "Epoch 31 weight: 1.03966102  Total Loss: 4.923711\n",
      "Epoch 32 weight: 1.04360647  Total Loss: 4.910695\n",
      "Epoch 33 weight: 1.04716611  Total Loss: 4.900143\n",
      "Epoch 34 weight: 1.05037767  Total Loss: 4.891593\n",
      "Epoch 35 weight: 1.05327518  Total Loss: 4.884668\n",
      "Epoch 36 weight: 1.05588936  Total Loss: 4.879062\n",
      "Epoch 37 weight: 1.05824790  Total Loss: 4.874528\n",
      "Epoch 38 weight: 1.06037581  Total Loss: 4.870862\n",
      "Epoch 39 weight: 1.06229564  Total Loss: 4.867901\n",
      "Epoch 40 weight: 1.06402773  Total Loss: 4.865512\n",
      "Epoch 41 weight: 1.06559045  Total Loss: 4.863586\n",
      "Epoch 42 weight: 1.06700036  Total Loss: 4.862035\n",
      "Epoch 43 weight: 1.06827239  Total Loss: 4.860788\n",
      "Epoch 44 weight: 1.06942004  Total Loss: 4.859787\n",
      "Epoch 45 weight: 1.07045546  Total Loss: 4.858984\n",
      "Epoch 46 weight: 1.07138964  Total Loss: 4.858342\n",
      "Epoch 47 weight: 1.07223246  Total Loss: 4.857830\n",
      "Epoch 48 weight: 1.07299287  Total Loss: 4.857422\n",
      "Epoch 49 weight: 1.07367892  Total Loss: 4.857098\n",
      "Epoch 50 weight: 1.07429788  Total Loss: 4.856841\n",
      "Epoch 51 weight: 1.07485632  Total Loss: 4.856639\n",
      "Epoch 52 weight: 1.07536014  Total Loss: 4.856481\n",
      "Epoch 53 weight: 1.07581471  Total Loss: 4.856358\n",
      "Epoch 54 weight: 1.07622482  Total Loss: 4.856262\n",
      "Epoch 55 weight: 1.07659482  Total Loss: 4.856189\n",
      "Epoch 56 weight: 1.07692865  Total Loss: 4.856133\n",
      "Epoch 57 weight: 1.07722983  Total Loss: 4.856092\n",
      "Epoch 58 weight: 1.07750156  Total Loss: 4.856061\n",
      "Epoch 59 weight: 1.07774672  Total Loss: 4.856039\n",
      "Epoch 60 weight: 1.07796791  Total Loss: 4.856024\n",
      "Epoch 61 weight: 1.07816747  Total Loss: 4.856014\n",
      "Epoch 62 weight: 1.07834751  Total Loss: 4.856008\n",
      "Epoch 63 weight: 1.07850995  Total Loss: 4.856005\n",
      "Epoch 64 weight: 1.07865650  Total Loss: 4.856004\n",
      "Epoch 65 weight: 1.07878872  Total Loss: 4.856005\n",
      "Epoch 66 weight: 1.07890801  Total Loss: 4.856007\n",
      "Epoch 67 weight: 1.07901564  Total Loss: 4.856011\n",
      "Epoch 68 weight: 1.07911274  Total Loss: 4.856014\n",
      "Epoch 69 weight: 1.07920035  Total Loss: 4.856018\n",
      "Epoch 70 weight: 1.07927939  Total Loss: 4.856023\n",
      "Epoch 71 weight: 1.07935070  Total Loss: 4.856027\n",
      "Epoch 72 weight: 1.07941504  Total Loss: 4.856031\n",
      "Epoch 73 weight: 1.07947309  Total Loss: 4.856036\n",
      "Epoch 74 weight: 1.07952546  Total Loss: 4.856040\n",
      "Epoch 75 weight: 1.07957271  Total Loss: 4.856043\n",
      "Epoch 76 weight: 1.07961534  Total Loss: 4.856047\n",
      "Epoch 77 weight: 1.07965380  Total Loss: 4.856051\n",
      "Epoch 78 weight: 1.07968850  Total Loss: 4.856054\n",
      "Epoch 79 weight: 1.07971980  Total Loss: 4.856057\n",
      "Epoch 80 weight: 1.07974805  Total Loss: 4.856060\n",
      "Epoch 81 weight: 1.07977353  Total Loss: 4.856062\n",
      "Epoch 82 weight: 1.07979652  Total Loss: 4.856064\n",
      "Epoch 83 weight: 1.07981727  Total Loss: 4.856067\n",
      "Epoch 84 weight: 1.07983598  Total Loss: 4.856069\n",
      "Epoch 85 weight: 1.07985287  Total Loss: 4.856070\n",
      "Epoch 86 weight: 1.07986810  Total Loss: 4.856072\n",
      "Epoch 87 weight: 1.07988184  Total Loss: 4.856074\n",
      "Epoch 88 weight: 1.07989424  Total Loss: 4.856075\n",
      "Epoch 89 weight: 1.07990543  Total Loss: 4.856076\n",
      "Epoch 90 weight: 1.07991552  Total Loss: 4.856077\n",
      "Epoch 91 weight: 1.07992463  Total Loss: 4.856079\n",
      "Epoch 92 weight: 1.07993285  Total Loss: 4.856079\n",
      "Epoch 93 weight: 1.07994026  Total Loss: 4.856080\n",
      "Epoch 94 weight: 1.07994695  Total Loss: 4.856081\n",
      "Epoch 95 weight: 1.07995298  Total Loss: 4.856082\n",
      "Epoch 96 weight: 1.07995842  Total Loss: 4.856082\n",
      "Epoch 97 weight: 1.07996333  Total Loss: 4.856083\n",
      "Epoch 98 weight: 1.07996777  Total Loss: 4.856084\n",
      "Epoch 99 weight: 1.07997176  Total Loss: 4.856084\n",
      "Epoch 100 weight: 1.07997537  Total Loss: 4.856084\n"
     ]
    }
   ],
   "source": [
    "w = 0.1 # initial value for our weight\n",
    "lr = 0.0013\n",
    "\n",
    "n_epochs = 100\n",
    "epoch_counter = 0\n",
    "\n",
    "for i in range(n_epochs):\n",
    "    epoch_counter = epoch_counter + 1 # use this to keep track of how many times we have gone through entire training data\n",
    "    Total_L = 0 # set the total_loss (sum of losses from each sample in training set) to 0 at start of each epoch\n",
    "    for x, y in zip(X, Y): # iterate through the training data one sample at a time\n",
    "        y_hat = w * x # make prediction for current sample\n",
    "        L = (y - y_hat)**2  # calculate loss for current sample\n",
    "        Total_L = Total_L + L # add the loss for current sample to total loss\n",
    "        dL_dw = -2 * (y - y_hat)*x   # calculate derivative for current sample\n",
    "        w = w - lr*dL_dw # update the weight using the derivative and loss for current sample\n",
    "    print(f\"Epoch {epoch_counter} weight: {w:.8f}  Total Loss: {Total_L:.6f}\")"
   ]
  },
  {
   "cell_type": "markdown",
   "metadata": {},
   "source": [
    "#### Compare with scikit-learn\n",
    "\n",
    "Our neuron is really just performing linear regression since we have no activation function. So, let's perform linear regression on the data and see what value scikit-learn gives us for `w`. "
   ]
  },
  {
   "cell_type": "code",
   "execution_count": 13,
   "metadata": {},
   "outputs": [
    {
     "data": {
      "text/plain": [
       "array([1.07692308])"
      ]
     },
     "execution_count": 13,
     "metadata": {},
     "output_type": "execute_result"
    }
   ],
   "source": [
    "from sklearn.linear_model import LinearRegression\n",
    "import numpy as np\n",
    "\n",
    "X_arr = np.array(X).reshape(-1, 1)\n",
    "Y_arr = np.array(Y) \n",
    "\n",
    "lin_reg = LinearRegression()\n",
    "lin_reg.fit(X_arr, Y_arr)\n",
    "\n",
    "lin_reg.coef_"
   ]
  },
  {
   "cell_type": "markdown",
   "metadata": {
    "tags": []
   },
   "source": [
    "### Batch Gradient Descent\n",
    "\n",
    "We will now implement batch gradient descent where we will only make an update to the weight after we have processed all of the samples. The recipe is as follows: \n",
    "1. make predictions for all samples in our training data\n",
    "2. calculate the average loss for all samples in our training data\n",
    "3. calculate the average value of the derivative for all samples in our training data\n",
    "4. update the value of the weight\n",
    "5. repeat until the loss is a minimum (that is, stops decreasing)\n"
   ]
  },
  {
   "cell_type": "code",
   "execution_count": 14,
   "metadata": {},
   "outputs": [
    {
     "name": "stdout",
     "output_type": "stream",
     "text": [
      "Epoch 1 weight: 0.2981  AVG Loss: 8.3980\n",
      "Epoch 2 weight: 0.4561  AVG Loss: 5.6848\n",
      "Epoch 3 weight: 0.5820  AVG Loss: 3.9605\n",
      "Epoch 4 weight: 0.6823  AVG Loss: 2.8647\n",
      "Epoch 5 weight: 0.7624  AVG Loss: 2.1682\n",
      "Epoch 6 weight: 0.8262  AVG Loss: 1.7256\n",
      "Epoch 7 weight: 0.8770  AVG Loss: 1.4443\n",
      "Epoch 8 weight: 0.9176  AVG Loss: 1.2656\n",
      "Epoch 9 weight: 0.9499  AVG Loss: 1.1519\n",
      "Epoch 10 weight: 0.9756  AVG Loss: 1.0797\n",
      "Epoch 11 weight: 0.9962  AVG Loss: 1.0339\n",
      "Epoch 12 weight: 1.0126  AVG Loss: 1.0047\n",
      "Epoch 13 weight: 1.0256  AVG Loss: 0.9862\n",
      "Epoch 14 weight: 1.0360  AVG Loss: 0.9744\n",
      "Epoch 15 weight: 1.0443  AVG Loss: 0.9669\n",
      "Epoch 16 weight: 1.0509  AVG Loss: 0.9621\n",
      "Epoch 17 weight: 1.0562  AVG Loss: 0.9591\n",
      "Epoch 18 weight: 1.0604  AVG Loss: 0.9572\n",
      "Epoch 19 weight: 1.0638  AVG Loss: 0.9560\n",
      "Epoch 20 weight: 1.0664  AVG Loss: 0.9552\n",
      "Epoch 21 weight: 1.0686  AVG Loss: 0.9547\n",
      "Epoch 22 weight: 1.0702  AVG Loss: 0.9544\n",
      "Epoch 23 weight: 1.0716  AVG Loss: 0.9542\n",
      "Epoch 24 weight: 1.0727  AVG Loss: 0.9541\n",
      "Epoch 25 weight: 1.0735  AVG Loss: 0.9540\n",
      "Epoch 26 weight: 1.0742  AVG Loss: 0.9539\n",
      "Epoch 27 weight: 1.0748  AVG Loss: 0.9539\n",
      "Epoch 28 weight: 1.0752  AVG Loss: 0.9539\n",
      "Epoch 29 weight: 1.0756  AVG Loss: 0.9539\n",
      "Epoch 30 weight: 1.0758  AVG Loss: 0.9539\n",
      "Epoch 31 weight: 1.0761  AVG Loss: 0.9539\n",
      "Epoch 32 weight: 1.0762  AVG Loss: 0.9539\n",
      "Epoch 33 weight: 1.0764  AVG Loss: 0.9538\n",
      "Epoch 34 weight: 1.0765  AVG Loss: 0.9538\n",
      "Epoch 35 weight: 1.0766  AVG Loss: 0.9538\n",
      "Epoch 36 weight: 1.0766  AVG Loss: 0.9538\n",
      "Epoch 37 weight: 1.0767  AVG Loss: 0.9538\n",
      "Epoch 38 weight: 1.0767  AVG Loss: 0.9538\n",
      "Epoch 39 weight: 1.0768  AVG Loss: 0.9538\n",
      "Epoch 40 weight: 1.0768  AVG Loss: 0.9538\n",
      "Epoch 41 weight: 1.0768  AVG Loss: 0.9538\n",
      "Epoch 42 weight: 1.0769  AVG Loss: 0.9538\n",
      "Epoch 43 weight: 1.0769  AVG Loss: 0.9538\n",
      "Epoch 44 weight: 1.0769  AVG Loss: 0.9538\n",
      "Epoch 45 weight: 1.0769  AVG Loss: 0.9538\n",
      "Epoch 46 weight: 1.0769  AVG Loss: 0.9538\n",
      "Epoch 47 weight: 1.0769  AVG Loss: 0.9538\n",
      "Epoch 48 weight: 1.0769  AVG Loss: 0.9538\n",
      "Epoch 49 weight: 1.0769  AVG Loss: 0.9538\n",
      "Epoch 50 weight: 1.0769  AVG Loss: 0.9538\n",
      "Epoch 51 weight: 1.0769  AVG Loss: 0.9538\n",
      "Epoch 52 weight: 1.0769  AVG Loss: 0.9538\n",
      "Epoch 53 weight: 1.0769  AVG Loss: 0.9538\n",
      "Epoch 54 weight: 1.0769  AVG Loss: 0.9538\n",
      "Epoch 55 weight: 1.0769  AVG Loss: 0.9538\n",
      "Epoch 56 weight: 1.0769  AVG Loss: 0.9538\n",
      "Epoch 57 weight: 1.0769  AVG Loss: 0.9538\n",
      "Epoch 58 weight: 1.0769  AVG Loss: 0.9538\n",
      "Epoch 59 weight: 1.0769  AVG Loss: 0.9538\n",
      "Epoch 60 weight: 1.0769  AVG Loss: 0.9538\n",
      "Epoch 61 weight: 1.0769  AVG Loss: 0.9538\n",
      "Epoch 62 weight: 1.0769  AVG Loss: 0.9538\n",
      "Epoch 63 weight: 1.0769  AVG Loss: 0.9538\n",
      "Epoch 64 weight: 1.0769  AVG Loss: 0.9538\n",
      "Epoch 65 weight: 1.0769  AVG Loss: 0.9538\n",
      "Epoch 66 weight: 1.0769  AVG Loss: 0.9538\n",
      "Epoch 67 weight: 1.0769  AVG Loss: 0.9538\n",
      "Epoch 68 weight: 1.0769  AVG Loss: 0.9538\n",
      "Epoch 69 weight: 1.0769  AVG Loss: 0.9538\n",
      "Epoch 70 weight: 1.0769  AVG Loss: 0.9538\n",
      "Epoch 71 weight: 1.0769  AVG Loss: 0.9538\n",
      "Epoch 72 weight: 1.0769  AVG Loss: 0.9538\n",
      "Epoch 73 weight: 1.0769  AVG Loss: 0.9538\n",
      "Epoch 74 weight: 1.0769  AVG Loss: 0.9538\n",
      "Epoch 75 weight: 1.0769  AVG Loss: 0.9538\n",
      "Epoch 76 weight: 1.0769  AVG Loss: 0.9538\n",
      "Epoch 77 weight: 1.0769  AVG Loss: 0.9538\n",
      "Epoch 78 weight: 1.0769  AVG Loss: 0.9538\n",
      "Epoch 79 weight: 1.0769  AVG Loss: 0.9538\n",
      "Epoch 80 weight: 1.0769  AVG Loss: 0.9538\n",
      "Epoch 81 weight: 1.0769  AVG Loss: 0.9538\n",
      "Epoch 82 weight: 1.0769  AVG Loss: 0.9538\n",
      "Epoch 83 weight: 1.0769  AVG Loss: 0.9538\n",
      "Epoch 84 weight: 1.0769  AVG Loss: 0.9538\n",
      "Epoch 85 weight: 1.0769  AVG Loss: 0.9538\n",
      "Epoch 86 weight: 1.0769  AVG Loss: 0.9538\n",
      "Epoch 87 weight: 1.0769  AVG Loss: 0.9538\n",
      "Epoch 88 weight: 1.0769  AVG Loss: 0.9538\n",
      "Epoch 89 weight: 1.0769  AVG Loss: 0.9538\n",
      "Epoch 90 weight: 1.0769  AVG Loss: 0.9538\n",
      "Epoch 91 weight: 1.0769  AVG Loss: 0.9538\n",
      "Epoch 92 weight: 1.0769  AVG Loss: 0.9538\n",
      "Epoch 93 weight: 1.0769  AVG Loss: 0.9538\n",
      "Epoch 94 weight: 1.0769  AVG Loss: 0.9538\n",
      "Epoch 95 weight: 1.0769  AVG Loss: 0.9538\n",
      "Epoch 96 weight: 1.0769  AVG Loss: 0.9538\n",
      "Epoch 97 weight: 1.0769  AVG Loss: 0.9538\n",
      "Epoch 98 weight: 1.0769  AVG Loss: 0.9538\n",
      "Epoch 99 weight: 1.0769  AVG Loss: 0.9538\n",
      "Epoch 100 weight: 1.0769  AVG Loss: 0.9538\n",
      "Epoch 101 weight: 1.0769  AVG Loss: 0.9538\n",
      "Epoch 102 weight: 1.0769  AVG Loss: 0.9538\n",
      "Epoch 103 weight: 1.0769  AVG Loss: 0.9538\n",
      "Epoch 104 weight: 1.0769  AVG Loss: 0.9538\n",
      "Epoch 105 weight: 1.0769  AVG Loss: 0.9538\n",
      "Epoch 106 weight: 1.0769  AVG Loss: 0.9538\n",
      "Epoch 107 weight: 1.0769  AVG Loss: 0.9538\n",
      "Epoch 108 weight: 1.0769  AVG Loss: 0.9538\n",
      "Epoch 109 weight: 1.0769  AVG Loss: 0.9538\n",
      "Epoch 110 weight: 1.0769  AVG Loss: 0.9538\n",
      "Epoch 111 weight: 1.0769  AVG Loss: 0.9538\n",
      "Epoch 112 weight: 1.0769  AVG Loss: 0.9538\n",
      "Epoch 113 weight: 1.0769  AVG Loss: 0.9538\n",
      "Epoch 114 weight: 1.0769  AVG Loss: 0.9538\n",
      "Epoch 115 weight: 1.0769  AVG Loss: 0.9538\n",
      "Epoch 116 weight: 1.0769  AVG Loss: 0.9538\n",
      "Epoch 117 weight: 1.0769  AVG Loss: 0.9538\n",
      "Epoch 118 weight: 1.0769  AVG Loss: 0.9538\n",
      "Epoch 119 weight: 1.0769  AVG Loss: 0.9538\n",
      "Epoch 120 weight: 1.0769  AVG Loss: 0.9538\n",
      "Epoch 121 weight: 1.0769  AVG Loss: 0.9538\n",
      "Epoch 122 weight: 1.0769  AVG Loss: 0.9538\n",
      "Epoch 123 weight: 1.0769  AVG Loss: 0.9538\n",
      "Epoch 124 weight: 1.0769  AVG Loss: 0.9538\n",
      "Epoch 125 weight: 1.0769  AVG Loss: 0.9538\n",
      "Epoch 126 weight: 1.0769  AVG Loss: 0.9538\n",
      "Epoch 127 weight: 1.0769  AVG Loss: 0.9538\n",
      "Epoch 128 weight: 1.0769  AVG Loss: 0.9538\n",
      "Epoch 129 weight: 1.0769  AVG Loss: 0.9538\n",
      "Epoch 130 weight: 1.0769  AVG Loss: 0.9538\n",
      "Epoch 131 weight: 1.0769  AVG Loss: 0.9538\n",
      "Epoch 132 weight: 1.0769  AVG Loss: 0.9538\n",
      "Epoch 133 weight: 1.0769  AVG Loss: 0.9538\n",
      "Epoch 134 weight: 1.0769  AVG Loss: 0.9538\n",
      "Epoch 135 weight: 1.0769  AVG Loss: 0.9538\n",
      "Epoch 136 weight: 1.0769  AVG Loss: 0.9538\n",
      "Epoch 137 weight: 1.0769  AVG Loss: 0.9538\n",
      "Epoch 138 weight: 1.0769  AVG Loss: 0.9538\n",
      "Epoch 139 weight: 1.0769  AVG Loss: 0.9538\n",
      "Epoch 140 weight: 1.0769  AVG Loss: 0.9538\n",
      "Epoch 141 weight: 1.0769  AVG Loss: 0.9538\n",
      "Epoch 142 weight: 1.0769  AVG Loss: 0.9538\n",
      "Epoch 143 weight: 1.0769  AVG Loss: 0.9538\n",
      "Epoch 144 weight: 1.0769  AVG Loss: 0.9538\n",
      "Epoch 145 weight: 1.0769  AVG Loss: 0.9538\n",
      "Epoch 146 weight: 1.0769  AVG Loss: 0.9538\n",
      "Epoch 147 weight: 1.0769  AVG Loss: 0.9538\n",
      "Epoch 148 weight: 1.0769  AVG Loss: 0.9538\n",
      "Epoch 149 weight: 1.0769  AVG Loss: 0.9538\n",
      "Epoch 150 weight: 1.0769  AVG Loss: 0.9538\n"
     ]
    }
   ],
   "source": [
    "X_new = np.array([1, 2, 3, 3, 4]).reshape(-1, 1) \n",
    "Y_new = np.array([2, 1, 4, 2, 5]).reshape(-1, 1) \n",
    "\n",
    "w = 0.1 \n",
    "lr = 0.013 \n",
    "\n",
    "n_epochs = 150\n",
    "\n",
    "for i in range(n_epochs):\n",
    "    Y_hat = w*X_new # make predictions for all samples (remember X_new is an array with 5 samples)\n",
    "    sample_losses = (Y_new - Y_hat)**2 # calculate the loss for all 5 samples (result is an array with 5 values)\n",
    "    avg_loss = sample_losses.mean() # calculate the average loss for the training data\n",
    "    dLoss_dw = (-2 * np.multiply((Y_new - Y_hat), X_new)).mean() # calculate the average of the derivatives\n",
    "    w = w - lr*dLoss_dw # update the weight using the average value of the derivative\n",
    "    print(f\"Epoch {i + 1} weight: {w:.4f}  AVG Loss: {avg_loss:.4f}\")"
   ]
  },
  {
   "cell_type": "code",
   "execution_count": null,
   "metadata": {},
   "outputs": [],
   "source": []
  }
 ],
 "metadata": {
  "kernelspec": {
   "display_name": "Python 3 (ipykernel)",
   "language": "python",
   "name": "python3"
  },
  "language_info": {
   "codemirror_mode": {
    "name": "ipython",
    "version": 3
   },
   "file_extension": ".py",
   "mimetype": "text/x-python",
   "name": "python",
   "nbconvert_exporter": "python",
   "pygments_lexer": "ipython3",
   "version": "3.8.13"
  }
 },
 "nbformat": 4,
 "nbformat_minor": 4
}
