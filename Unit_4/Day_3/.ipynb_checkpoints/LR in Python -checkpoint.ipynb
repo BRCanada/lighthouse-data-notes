{
 "cells": [
  {
   "cell_type": "markdown",
   "id": "786fbd2f-1a44-4ee8-bfa2-a629c7fa3285",
   "metadata": {},
   "source": [
    "# Linear Regression in Python\n",
    "## Statsmodels\n"
   ]
  },
  {
   "cell_type": "markdown",
   "id": "5cd1e7a6-fa65-4a4c-ad6b-442762a7511e",
   "metadata": {},
   "source": [
    "### About Linear Regression\n",
    "It is used as a predictive model that assumes a *linear relationship* between the dependent variable (the variable we are trying to predict/estimate) and the independent variable/s (input variable/s used in the prediction). \n",
    "<br>\n",
    "<br> Under simple linear regression, only *one* independent/input variable is used to predict the dependent variable. It has the following structure:\n",
    "\n",
    "$$ Y = MX + B$$\n",
    "\n",
    "* Y = Dependent Variable (output/outcome/prediction/estimation)\n",
    "* M = Slope of the regression line (The effect that X has on Y)\n",
    "* X = Independant Variable (input variable used in the prediction of Y)\n",
    "* B = Constant (Y-intercept)\n",
    "<br>\n",
    "<br>\n",
    "For models where relationships may exist between a dependent variable and *multiple* independent variables, we use the **Multiple Linear Regression** structure:\n",
    "\n",
    "$$ Y = C + M_{1}X_{1} + M_{2}X_{2} + ... $$"
   ]
  },
  {
   "cell_type": "markdown",
   "id": "b9217f2b-5287-4d73-ba58-dab17192843a",
   "metadata": {},
   "source": [
    "### Example with a Dataset\n",
    "Let's suppose you have a fictitious economy with the following parameters, where the index_price is dependent variable, and the 2 independent/input variables are:\n",
    "* interest_rate\n",
    "* unemployment_rate\n"
   ]
  },
  {
   "cell_type": "code",
   "execution_count": 1,
   "id": "4fdd6c4d-404a-457e-86dd-3c3baa24440b",
   "metadata": {},
   "outputs": [
    {
     "data": {
      "text/html": [
       "<div>\n",
       "<style scoped>\n",
       "    .dataframe tbody tr th:only-of-type {\n",
       "        vertical-align: middle;\n",
       "    }\n",
       "\n",
       "    .dataframe tbody tr th {\n",
       "        vertical-align: top;\n",
       "    }\n",
       "\n",
       "    .dataframe thead th {\n",
       "        text-align: right;\n",
       "    }\n",
       "</style>\n",
       "<table border=\"1\" class=\"dataframe\">\n",
       "  <thead>\n",
       "    <tr style=\"text-align: right;\">\n",
       "      <th></th>\n",
       "      <th>year</th>\n",
       "      <th>month</th>\n",
       "      <th>interest_rate</th>\n",
       "      <th>unemployment_rate</th>\n",
       "      <th>index_price</th>\n",
       "    </tr>\n",
       "  </thead>\n",
       "  <tbody>\n",
       "    <tr>\n",
       "      <th>0</th>\n",
       "      <td>2017</td>\n",
       "      <td>12</td>\n",
       "      <td>2.75</td>\n",
       "      <td>5.3</td>\n",
       "      <td>1464</td>\n",
       "    </tr>\n",
       "    <tr>\n",
       "      <th>1</th>\n",
       "      <td>2017</td>\n",
       "      <td>11</td>\n",
       "      <td>2.50</td>\n",
       "      <td>5.3</td>\n",
       "      <td>1394</td>\n",
       "    </tr>\n",
       "    <tr>\n",
       "      <th>2</th>\n",
       "      <td>2017</td>\n",
       "      <td>10</td>\n",
       "      <td>2.50</td>\n",
       "      <td>5.3</td>\n",
       "      <td>1357</td>\n",
       "    </tr>\n",
       "    <tr>\n",
       "      <th>3</th>\n",
       "      <td>2017</td>\n",
       "      <td>9</td>\n",
       "      <td>2.50</td>\n",
       "      <td>5.3</td>\n",
       "      <td>1293</td>\n",
       "    </tr>\n",
       "    <tr>\n",
       "      <th>4</th>\n",
       "      <td>2017</td>\n",
       "      <td>8</td>\n",
       "      <td>2.50</td>\n",
       "      <td>5.4</td>\n",
       "      <td>1256</td>\n",
       "    </tr>\n",
       "  </tbody>\n",
       "</table>\n",
       "</div>"
      ],
      "text/plain": [
       "   year  month  interest_rate  unemployment_rate  index_price\n",
       "0  2017     12           2.75                5.3         1464\n",
       "1  2017     11           2.50                5.3         1394\n",
       "2  2017     10           2.50                5.3         1357\n",
       "3  2017      9           2.50                5.3         1293\n",
       "4  2017      8           2.50                5.4         1256"
      ]
     },
     "execution_count": 1,
     "metadata": {},
     "output_type": "execute_result"
    }
   ],
   "source": [
    "import pandas as pd\n",
    "\n",
    "data = {'year': [2017,2017,2017,2017,2017,2017,2017,2017,2017,2017,2017,2017,2016,2016,2016,2016,2016,2016,2016,2016,2016,2016,2016,2016],\n",
    "        'month': [12,11,10,9,8,7,6,5,4,3,2,1,12,11,10,9,8,7,6,5,4,3,2,1],\n",
    "        'interest_rate': [2.75,2.5,2.5,2.5,2.5,2.5,2.5,2.25,2.25,2.25,2,2,2,1.75,1.75,1.75,1.75,1.75,1.75,1.75,1.75,1.75,1.75,1.75],\n",
    "        'unemployment_rate': [5.3,5.3,5.3,5.3,5.4,5.6,5.5,5.5,5.5,5.6,5.7,5.9,6,5.9,5.8,6.1,6.2,6.1,6.1,6.1,5.9,6.2,6.2,6.1],\n",
    "        'index_price': [1464,1394,1357,1293,1256,1254,1234,1195,1159,1167,1130,1075,1047,965,943,958,971,949,884,866,876,822,704,719]        \n",
    "        }\n",
    "\n",
    "df = pd.DataFrame(data)\n",
    "df.head()"
   ]
  },
  {
   "cell_type": "markdown",
   "id": "d27e5108-a697-4bd4-916d-90f27754c60b",
   "metadata": {},
   "source": [
    "#### Coding using Statsmodels\n",
    "let's apply the following syntax to perform linear regression in Python using statsmodels:"
   ]
  },
  {
   "cell_type": "code",
   "execution_count": 2,
   "id": "fa18d661-4801-4988-ab3e-62f87b296aba",
   "metadata": {},
   "outputs": [
    {
     "name": "stdout",
     "output_type": "stream",
     "text": [
      "                            OLS Regression Results                            \n",
      "==============================================================================\n",
      "Dep. Variable:            index_price   R-squared:                       0.898\n",
      "Model:                            OLS   Adj. R-squared:                  0.888\n",
      "Method:                 Least Squares   F-statistic:                     92.07\n",
      "Date:                Wed, 12 Oct 2022   Prob (F-statistic):           4.04e-11\n",
      "Time:                        17:09:47   Log-Likelihood:                -134.61\n",
      "No. Observations:                  24   AIC:                             275.2\n",
      "Df Residuals:                      21   BIC:                             278.8\n",
      "Df Model:                           2                                         \n",
      "Covariance Type:            nonrobust                                         \n",
      "=====================================================================================\n",
      "                        coef    std err          t      P>|t|      [0.025      0.975]\n",
      "-------------------------------------------------------------------------------------\n",
      "const              1798.4040    899.248      2.000      0.059     -71.685    3668.493\n",
      "interest_rate       345.5401    111.367      3.103      0.005     113.940     577.140\n",
      "unemployment_rate  -250.1466    117.950     -2.121      0.046    -495.437      -4.856\n",
      "==============================================================================\n",
      "Omnibus:                        2.691   Durbin-Watson:                   0.530\n",
      "Prob(Omnibus):                  0.260   Jarque-Bera (JB):                1.551\n",
      "Skew:                          -0.612   Prob(JB):                        0.461\n",
      "Kurtosis:                       3.226   Cond. No.                         394.\n",
      "==============================================================================\n",
      "\n",
      "Notes:\n",
      "[1] Standard Errors assume that the covariance matrix of the errors is correctly specified.\n"
     ]
    }
   ],
   "source": [
    "import pandas as pd\n",
    "import statsmodels.api as sm\n",
    "\n",
    "data = {'year': [2017,2017,2017,2017,2017,2017,2017,2017,2017,2017,2017,2017,2016,2016,2016,2016,2016,2016,2016,2016,2016,2016,2016,2016],\n",
    "        'month': [12,11,10,9,8,7,6,5,4,3,2,1,12,11,10,9,8,7,6,5,4,3,2,1],\n",
    "        'interest_rate': [2.75,2.5,2.5,2.5,2.5,2.5,2.5,2.25,2.25,2.25,2,2,2,1.75,1.75,1.75,1.75,1.75,1.75,1.75,1.75,1.75,1.75,1.75],\n",
    "        'unemployment_rate': [5.3,5.3,5.3,5.3,5.4,5.6,5.5,5.5,5.5,5.6,5.7,5.9,6,5.9,5.8,6.1,6.2,6.1,6.1,6.1,5.9,6.2,6.2,6.1],\n",
    "        'index_price': [1464,1394,1357,1293,1256,1254,1234,1195,1159,1167,1130,1075,1047,965,943,958,971,949,884,866,876,822,704,719]        \n",
    "        }\n",
    "\n",
    "df = pd.DataFrame(data) \n",
    "\n",
    "x = df[['interest_rate','unemployment_rate']]\n",
    "y = df['index_price']\n",
    "\n",
    "x = sm.add_constant(x)\n",
    "\n",
    "model = sm.OLS(y, x).fit()\n",
    "predictions = model.predict(x) \n",
    "\n",
    "print_model = model.summary()\n",
    "print(print_model)"
   ]
  },
  {
   "cell_type": "markdown",
   "id": "bacb3db2-4a5c-419b-9757-181c6953ba7f",
   "metadata": {},
   "source": [
    "### Interpreting the Regression Results from statsmodels\n",
    "Several important concepts can be seen within the results above:\n",
    "* 1. **Adjusted. R-squared**: Reflects the fit of the model. R-squared values range from 0 to 1, where a higher value generally indicates a better fit, assuming certain conditions are met.\n",
    "* 2. **const coefficient**: The Y-intercept. It means that if both the interest_rate and unemployment_rate coefficients are zero, then the expected output (i.e., the Y) would be equal to the const coefficient.\n",
    "* 3. **interest_rate coefficient**: Represents the change in the output Y due to a change of one unit in the interest rate (everything else held constant)\n",
    "* 4. **unemployment_rate coefficient**: Represents the change in the output Y due to a change of one unit in the unemployment rate (everything else held constant)\n",
    "* 5. **std err**: Reflects the level of accuracy of the coefficients. The lower it is, the higher is the level of accuracy\n",
    "* 6. **P >|t|** The p-value. A p-value of less than 0.05 is considered to be statistically significant\n",
    "* 7. **Confidence Interval**: Represents the range in which our coefficients are likely to fall (with a likelihood of 95%)\n",
    "<br>\n",
    "<br> The following tutorial includes an \n",
    "[example of multiple linear regression using both sklearn and statsmodels](https://datatofish.com/multiple-linear-regression-python/)."
   ]
  },
  {
   "cell_type": "markdown",
   "id": "888b1524-2575-4060-9678-841d50e8730b",
   "metadata": {},
   "source": []
  }
 ],
 "metadata": {
  "kernelspec": {
   "display_name": "Python 3 (ipykernel)",
   "language": "python",
   "name": "python3"
  },
  "language_info": {
   "codemirror_mode": {
    "name": "ipython",
    "version": 3
   },
   "file_extension": ".py",
   "mimetype": "text/x-python",
   "name": "python",
   "nbconvert_exporter": "python",
   "pygments_lexer": "ipython3",
   "version": "3.8.13"
  }
 },
 "nbformat": 4,
 "nbformat_minor": 5
}
