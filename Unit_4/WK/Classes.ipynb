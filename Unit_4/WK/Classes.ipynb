{
 "cells": [
  {
   "cell_type": "markdown",
   "id": "5c231db9-1a4c-46ec-a253-4d9b7a68fddf",
   "metadata": {},
   "source": [
    "# Classes and Instances\n",
    "Classes help us group our data, variables, and functions in a way which is easy to follow and reuse. It is also quite simple to build upon them if we need to."
   ]
  },
  {
   "cell_type": "code",
   "execution_count": 1,
   "id": "352c01a8-7197-434a-8451-d5dd6abb0738",
   "metadata": {},
   "outputs": [
    {
     "name": "stdout",
     "output_type": "stream",
     "text": [
      "<__main__.Employee object at 0x111318bb0>\n",
      "<__main__.Employee object at 0x111318c10>\n"
     ]
    }
   ],
   "source": [
    "\n",
    "#Python Object Oriented Programming\n",
    "\n",
    "#simple employee class\n",
    "\n",
    "class Employee:\n",
    "    pass\n",
    "\n",
    "emp_1 = Employee()\n",
    "emp_2 = Employee()  #Unique instances of Employee class\n",
    "\n",
    "print(emp_1)\n",
    "print(emp_2)"
   ]
  },
  {
   "cell_type": "markdown",
   "id": "e2b1f831-544d-4112-9d80-83a13413d903",
   "metadata": {},
   "source": [
    "As seen in the print statements, both emp_1 and emp_2 are *instances* of the Employee object at their own unique memory blocks. These *instance variables* contain data that is unique to each instance.\n",
    "<br>\n",
    "<br> If we wanted to, we could manually create instance variables for each employee by doing something like below:"
   ]
  },
  {
   "cell_type": "markdown",
   "id": "156af4d5-5378-4618-9ddc-f0f755572200",
   "metadata": {},
   "source": [
    "```\n",
    "emp_1.first = 'Corey'\n",
    "emp_1.last = 'Schafer'\n",
    "emp_1.email = 'Corey.Schafer@company.com'\n",
    "emp_1.pay = 50000\n",
    "```"
   ]
  },
  {
   "cell_type": "markdown",
   "id": "ade393b1-71bc-4fe8-83a6-87b66acb102a",
   "metadata": {},
   "source": [
    "```\n",
    "emp_2.first = 'Test'\n",
    "emp_2.last = 'User'\n",
    "emp_2.email = 'Test.User@company.com'\n",
    "emp_2.pay = 60000\n",
    "```"
   ]
  },
  {
   "cell_type": "markdown",
   "id": "3d71c46c-a7a8-48bc-8a70-a8ff7074ee64",
   "metadata": {},
   "source": [
    "These instances can now be called in the same way they were created:"
   ]
  },
  {
   "cell_type": "markdown",
   "id": "d6a6e113-464c-44c3-98ec-0f3638d67415",
   "metadata": {},
   "source": [
    "```\n",
    "print(emp_1.email)\n",
    "print(emp_2.email)\n",
    "\n",
    ">>>Corey.Schafer@company.com\n",
    ">>>Test.User@company.com\n",
    "```"
   ]
  },
  {
   "cell_type": "markdown",
   "id": "288abfe7-e8cf-4608-a78d-1c8d2e8d9a1f",
   "metadata": {},
   "source": [
    "This was easy enough for two hypothetical employees. But, what if we needed to set these variables for hundreds of employees? It would take up loads of time having to define each of these variables every time we needed to work with a selection of employees, or add them to the system for that matter. So, we can actually preset these variables to be used and reused in a much more time and code efficient way.\n",
    "<br>\n",
    "<br> To achieve this functionality, we are going to edit our class with an initializing method. Think of these as a constructor:"
   ]
  },
  {
   "cell_type": "code",
   "execution_count": 25,
   "id": "b8441f3e-b0a9-4218-91b4-565af28e6f7c",
   "metadata": {},
   "outputs": [],
   "source": [
    "class Employee:\n",
    "    \n",
    "    # Class Variables go at the top, outside of methods\n",
    "    raise_amount = 1.04 \n",
    "    num_of_emps = 0\n",
    "    \n",
    "    # Initialize method for new instantiations\n",
    "    def __init__(self, first, last, pay):\n",
    "        self.first = first\n",
    "        self.last = last\n",
    "        self.pay = pay\n",
    "        self.email = first + '.' + last + '@company.com'\n",
    "        \n",
    "        Employee.num_of_emps += 1\n",
    "        \n",
    "    # Method to concatinate first and last in __init__\n",
    "    def fullname(self):\n",
    "        return f'{self.first} {self.last}'\n",
    "    \n",
    "    # Method to apply raises using class variable\n",
    "    def apply_raise(self):\n",
    "        self.pay = int(self.pay * Employee.raise_amount)\n",
    "        \n",
    "        \n",
    "        \n",
    "        "
   ]
  },
  {
   "cell_type": "markdown",
   "id": "b697d42f-7996-4270-b5d9-30c66b260f45",
   "metadata": {},
   "source": [
    "As seen above, we identified all of our intended variables as parameters in the **\\_\\_init__** function. We then fleshed out the code needed to apply these input parameters to their proper variables.\n",
    "<br>\n",
    "<br> Now, when defining individual class instances, we can pass our variable values in at the point of instantiation:"
   ]
  },
  {
   "cell_type": "code",
   "execution_count": 26,
   "id": "a9861c79-bc60-431e-8ee3-d5694e87dddf",
   "metadata": {},
   "outputs": [],
   "source": [
    "emp_1 = Employee('Corey', 'Schafer', 50000)\n",
    "emp_2 = Employee('Test', 'User', 60000)"
   ]
  },
  {
   "cell_type": "markdown",
   "id": "e66891b4-1f59-4c89-8ecf-dd3821ddebe2",
   "metadata": {},
   "source": [
    "*Note: we omitted passing **self** as a parameter because it is only needed within the **\\_\\_init__** function. This is because the new variable, **emp_#** will be passed in as self in the employee class.*\n",
    "<br>\n",
    "Now we can call the same information as above, lets call the email from each employee"
   ]
  },
  {
   "cell_type": "code",
   "execution_count": 27,
   "id": "281981b9-be13-4e82-9254-a0169cd0da8e",
   "metadata": {},
   "outputs": [
    {
     "name": "stdout",
     "output_type": "stream",
     "text": [
      "Corey.Schafer@company.com\n",
      "Test.User@company.com\n"
     ]
    }
   ],
   "source": [
    "print(emp_1.email)\n",
    "print(emp_2.email)"
   ]
  },
  {
   "cell_type": "markdown",
   "id": "0346b5b2-8b94-425a-9ea7-ca44bbd6302a",
   "metadata": {},
   "source": [
    "Say we want to print an employee's full name, we can use something like an f-string literal to achieve this:"
   ]
  },
  {
   "cell_type": "code",
   "execution_count": 28,
   "id": "579db186-6fe2-4d44-b1cf-af7c7d51286f",
   "metadata": {},
   "outputs": [
    {
     "name": "stdout",
     "output_type": "stream",
     "text": [
      "Corey Schafer\n"
     ]
    }
   ],
   "source": [
    "print(f'{emp_1.first} {emp_1.last}')"
   ]
  },
  {
   "cell_type": "markdown",
   "id": "823d1520-2559-49b8-9cf1-5e8e5a615482",
   "metadata": {},
   "source": [
    "This can get tedious if we have to keep writing it, so let's go back to the class and add a new method for this. *Refer to the fullname() method above*\n",
    "<br>\n",
    "<br>\n",
    "As can be seen in the new fullname() method defined within Employee(), there is a slight change to the f-string. It is also shown here:\n",
    "```\n",
    " return f'{self.first} {self.last}'\n",
    "```\n",
    "<br>\n",
    "\n",
    "*self* is the only parameter defined in the fullname() method, and as explained earlier, *self* is a placeholder for any new variable you want to define later in the code. Now, we can just call the fullname method in our print statement:"
   ]
  },
  {
   "cell_type": "code",
   "execution_count": 29,
   "id": "7703fcb2-3d9f-42bd-963e-6ecca3e5788b",
   "metadata": {},
   "outputs": [
    {
     "data": {
      "text/plain": [
       "'Corey Schafer'"
      ]
     },
     "execution_count": 29,
     "metadata": {},
     "output_type": "execute_result"
    }
   ],
   "source": [
    "# DONT FORGET PARENTHISES FOR METHODS\n",
    "emp_1.fullname()"
   ]
  },
  {
   "cell_type": "markdown",
   "id": "685780f6-56da-4a6b-938e-fe74bdb3f975",
   "metadata": {},
   "source": [
    "Another way to call the fullname() method is by using the Employee class itself:"
   ]
  },
  {
   "cell_type": "code",
   "execution_count": 30,
   "id": "c1ecbf18-acb9-4cb3-817f-8bac0e20902b",
   "metadata": {},
   "outputs": [
    {
     "data": {
      "text/plain": [
       "'Test User'"
      ]
     },
     "execution_count": 30,
     "metadata": {},
     "output_type": "execute_result"
    }
   ],
   "source": [
    "Employee.fullname(emp_2)"
   ]
  },
  {
   "cell_type": "markdown",
   "id": "8490ed07-506f-4567-bc4a-b82701c3c61d",
   "metadata": {
    "tags": []
   },
   "source": [
    "## Class Variables\n",
    "This is where *class variables* will be discussed, and how they differ from common variables will be explained.\n",
    "<br>\n",
    "In the previous cells, we defined what are called *common variables*. Common variables have the ability to be different across each instance (like first, last, pay, and email).\n",
    "<br>\n",
    "<br>\n",
    "**Class variables** are static across all instances of a class. So in context of our company, let's say every employee gets a salary raise anually. Now, this amount can change year over year, but whatever it is, that amount will be applied to all employees each cycle. \n",
    "<br>\n",
    "<br> This would be a good candidate for a class variable, so we will add it to the \\_\\_init__ method above.\n",
    "<br>\n",
    "<br> *Note: Some may ask, why not just define a method? For a hypothetical, we could define a method in our class that looks like this:*\n",
    "```\n",
    "def apply_raise(self):\n",
    "    self.pay = int(self.pay * 1.04)\n",
    "```\n",
    "*If we ran a print statement, then the apply_raise() method, then a second print statement, our outputs would be:*\n",
    "```\n",
    "print(emp_1.pay)\n",
    ">>>50000\n",
    "\n",
    "emp_1.apply_raise()\n",
    "\n",
    "print(emp_1.pay)\n",
    ">>>52000\n",
    "```\n",
    "*Looks like it worked! It may **seem** like it, but a few things are wrong with this process:*\n",
    "* *If we want to look at the raise percentage, we are unable to from the console. We would have to go into the backend python script to see or change it.*\n",
    "* *Our raise amount is hidden on the back end within the method, and it may even be in multiple places over the whole code. \n",
    "* This is counterintuitive and unproductive, because we will have to find and change every location to update the raise percentage across the whole program*\n",
    "<br>"
   ]
  },
  {
   "cell_type": "markdown",
   "id": "ddbadf6a-c69c-415f-8258-b650d6b72968",
   "metadata": {},
   "source": [
    "With that cleared up, let's return to the top to create our class variable, it will look like this:\n",
    "```\n",
    "raise_amount = 1.04\n",
    "```\n",
    "Now that there is a class variable of our raise, we can adjust the apply_raise method to call the variable like this:\n",
    "```\n",
    "self.pay = int(self.pay * Employee.raise_amount)\n",
    "```\n",
    "Let's do some actual prints to see what's going on:"
   ]
  },
  {
   "cell_type": "code",
   "execution_count": 31,
   "id": "1d4c6b93-74ec-45a2-8d01-37827a682490",
   "metadata": {},
   "outputs": [
    {
     "name": "stdout",
     "output_type": "stream",
     "text": [
      "1.04\n",
      "1.04\n",
      "1.04\n"
     ]
    }
   ],
   "source": [
    "print(Employee.raise_amount) #Raise amount for the class variable\n",
    "print(emp_1.raise_amount) #Raise amount for this instance\n",
    "print(emp_2.raise_amount) #Raise amount for this instance"
   ]
  },
  {
   "cell_type": "markdown",
   "id": "0d6435bb-06ae-4981-a927-efcce1e85a8f",
   "metadata": {},
   "source": [
    "When we try to access a class variable from an instance, there are a few checks that are happening:\n",
    "* The program will first check if the instance contains that attribute.\n",
    "* If it doesn't, the program will then check if the class the instance inherits from contains the attribute."
   ]
  },
  {
   "cell_type": "markdown",
   "id": "13506029-7cd0-4b68-b475-b14a9c0d310e",
   "metadata": {},
   "source": [
    "There's a little trick we can do to get a better idea of what's happening. Let's start by making a print statement to print out the namespace of emp_1:"
   ]
  },
  {
   "cell_type": "code",
   "execution_count": 32,
   "id": "299ce3de-d913-4b1a-8837-606d253f7234",
   "metadata": {},
   "outputs": [
    {
     "name": "stdout",
     "output_type": "stream",
     "text": [
      "{'first': 'Corey', 'last': 'Schafer', 'pay': 50000, 'email': 'Corey.Schafer@company.com'}\n"
     ]
    }
   ],
   "source": [
    "print(emp_1.__dict__)"
   ]
  },
  {
   "cell_type": "markdown",
   "id": "ae4a4182-2608-420c-aa46-d64d5107cf23",
   "metadata": {},
   "source": [
    "As you can see from the returned dictionary, there is no variable for raise_amount. If we did the same print statement with Employee():"
   ]
  },
  {
   "cell_type": "code",
   "execution_count": 33,
   "id": "86682165-e640-4dce-9ed9-c7f6f4d40fe0",
   "metadata": {},
   "outputs": [
    {
     "name": "stdout",
     "output_type": "stream",
     "text": [
      "{'__module__': '__main__', 'raise_amount': 1.04, 'num_of_emps': 2, '__init__': <function Employee.__init__ at 0x111314310>, 'fullname': <function Employee.fullname at 0x111314ee0>, 'apply_raise': <function Employee.apply_raise at 0x111314f70>, '__dict__': <attribute '__dict__' of 'Employee' objects>, '__weakref__': <attribute '__weakref__' of 'Employee' objects>, '__doc__': None}\n"
     ]
    }
   ],
   "source": [
    "print(Employee.__dict__)"
   ]
  },
  {
   "cell_type": "markdown",
   "id": "d113a010-d929-48f5-b300-c0afc495756d",
   "metadata": {},
   "source": [
    "We can see that the class *does* contain the ```raise_amount``` attribute, and that's the value that our instances see when we try to access the raise_amount through them.\n",
    "<br>\n",
    "<br> It should be clear by now how to navigate around the class and its instances/variables. Let's change the raise amount and run the print statements again:"
   ]
  },
  {
   "cell_type": "code",
   "execution_count": 34,
   "id": "9af5573f-13d2-425e-a011-3045d44dd10d",
   "metadata": {},
   "outputs": [],
   "source": [
    "Employee.raise_amount = 1.05"
   ]
  },
  {
   "cell_type": "code",
   "execution_count": 35,
   "id": "ceac2649-95f6-4a0d-b6e2-73364c359894",
   "metadata": {},
   "outputs": [
    {
     "name": "stdout",
     "output_type": "stream",
     "text": [
      "1.05\n",
      "1.05\n",
      "1.05\n"
     ]
    }
   ],
   "source": [
    "print(Employee.raise_amount) #Raise amount for the class variable\n",
    "print(emp_1.raise_amount) #Raise amount for this instance\n",
    "print(emp_2.raise_amount) #Raise amount for this instance"
   ]
  },
  {
   "cell_type": "markdown",
   "id": "2d0ac44d-91b8-4262-8bb0-dd572bab30a0",
   "metadata": {},
   "source": [
    "Now that we have the intuition of how this works, we can be very specific on how we want to adjust the class variable in relation to our instances. Let's reset the class variable to 4% and then adjust emp_1's raise:"
   ]
  },
  {
   "cell_type": "code",
   "execution_count": 36,
   "id": "dbe1e905-9cd9-4e69-afe5-03d7fdd846be",
   "metadata": {},
   "outputs": [],
   "source": [
    "Employee.raise_amount = 1.04"
   ]
  },
  {
   "cell_type": "code",
   "execution_count": 37,
   "id": "443a8af2-2b0f-45b5-a5bf-f88f0f454c33",
   "metadata": {},
   "outputs": [],
   "source": [
    "emp_1.raise_amount = 1.05"
   ]
  },
  {
   "cell_type": "code",
   "execution_count": 38,
   "id": "c9d0624f-29b6-4ef6-8589-2f1997a34bca",
   "metadata": {},
   "outputs": [
    {
     "name": "stdout",
     "output_type": "stream",
     "text": [
      "1.04\n",
      "1.05\n",
      "1.04\n"
     ]
    }
   ],
   "source": [
    "print(Employee.raise_amount) #Raise amount for the class variable\n",
    "print(emp_1.raise_amount) #Raise amount for this instance\n",
    "print(emp_2.raise_amount) #Raise amount for this instance"
   ]
  },
  {
   "cell_type": "markdown",
   "id": "c7cf290f-beaa-4828-968a-517ada9af0a4",
   "metadata": {},
   "source": [
    "When we made this assignment, it actually *created* the ```raise_amount``` attribute within ```emp_1```\n",
    "<br>\n",
    "<br> Let's check the ```emp_1``` namespace"
   ]
  },
  {
   "cell_type": "code",
   "execution_count": 39,
   "id": "2eba650e-f4b3-405e-b9eb-b2adb4bbfff5",
   "metadata": {},
   "outputs": [
    {
     "name": "stdout",
     "output_type": "stream",
     "text": [
      "{'first': 'Corey', 'last': 'Schafer', 'pay': 50000, 'email': 'Corey.Schafer@company.com', 'raise_amount': 1.05}\n"
     ]
    }
   ],
   "source": [
    "print(emp_1.__dict__)"
   ]
  },
  {
   "cell_type": "markdown",
   "id": "d460a8f2-ccaa-4ede-a098-0e97ecb8f01d",
   "metadata": {},
   "source": [
    "This is the power of *self*... pun intended!\n",
    "<br>\n",
    "<br> When we look back at our ```raise_amount``` method:\n",
    "```\n",
    " def apply_raise(self):\n",
    "        self.pay = int(self.pay * Employee.raise_amount)\n",
    "\n",
    "```\n",
    "We now notice that using the *self* attribute within the mathematical expression allows us to *individually* update instances as needed within our code, rather than having to either redefine the ```apply_raise``` function, or change the original class method. Using *self* in this way will allow any **subclass** to override that constant if needed. \n",
    "<br>\n",
    "<br> Moving forward, remember that *self* == *instance*\n",
    "<br>\n",
    "<br>\n",
    "##### Another example\n",
    "Let's say we want to keep track of how many employees we have. The number of employees should be the same for all instances of our class. So let's create another class variable:\n",
    "```\n",
    "num_of_emps = 0\n",
    "```\n",
    "Since we want to update this class variable every time we create an instance, we can include a new line in the \\_\\_init__ method:\n",
    "```\n",
    "Employee.num_of_emps += 1\n",
    "```\n",
    "We used Employee instead of *self* here, because contrary to the raise_amount variable, we don't want to manipulate this variable's value more than the counting expression when we initialize a new instance. "
   ]
  },
  {
   "cell_type": "code",
   "execution_count": 40,
   "id": "4e161222-3f25-43d2-9bcb-1465b2bb6a7a",
   "metadata": {},
   "outputs": [
    {
     "name": "stdout",
     "output_type": "stream",
     "text": [
      "2\n"
     ]
    }
   ],
   "source": [
    "print(Employee.num_of_emps)"
   ]
  },
  {
   "cell_type": "code",
   "execution_count": null,
   "id": "e5458518-3cf8-429d-a606-8576e439aeba",
   "metadata": {},
   "outputs": [],
   "source": []
  }
 ],
 "metadata": {
  "kernelspec": {
   "display_name": "Python 3 (ipykernel)",
   "language": "python",
   "name": "python3"
  },
  "language_info": {
   "codemirror_mode": {
    "name": "ipython",
    "version": 3
   },
   "file_extension": ".py",
   "mimetype": "text/x-python",
   "name": "python",
   "nbconvert_exporter": "python",
   "pygments_lexer": "ipython3",
   "version": "3.8.13"
  }
 },
 "nbformat": 4,
 "nbformat_minor": 5
}
