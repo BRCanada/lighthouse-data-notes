{
 "cells": [
  {
   "cell_type": "markdown",
   "id": "2a0a70a9-6129-458c-8089-a408df7b9840",
   "metadata": {},
   "source": [
    "# Feature Selection\n",
    "The process of reducing the number of input variables when developing a predictive model. It is desireable to do this to both reduce computational cost and in some cases improve the performance of the model."
   ]
  },
  {
   "cell_type": "markdown",
   "id": "b015fe08-d2eb-4474-b6fa-9ef9eda249ff",
   "metadata": {},
   "source": [
    "There are two main types of feature selection techniques:\n",
    "* Supervised\n",
    "    * Wrapper\n",
    "    * Filter\n",
    "        * Use statistical measures to score the correlation or dependence between input variables.\n",
    "    * Intrinsic\n",
    "* Unsupervised"
   ]
  },
  {
   "cell_type": "code",
   "execution_count": null,
   "id": "1c83c46f-281f-460d-a7a7-045194dab148",
   "metadata": {},
   "outputs": [],
   "source": []
  }
 ],
 "metadata": {
  "kernelspec": {
   "display_name": "Python 3 (ipykernel)",
   "language": "python",
   "name": "python3"
  },
  "language_info": {
   "codemirror_mode": {
    "name": "ipython",
    "version": 3
   },
   "file_extension": ".py",
   "mimetype": "text/x-python",
   "name": "python",
   "nbconvert_exporter": "python",
   "pygments_lexer": "ipython3",
   "version": "3.8.13"
  }
 },
 "nbformat": 4,
 "nbformat_minor": 5
}
