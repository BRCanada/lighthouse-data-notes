{
 "cells": [
  {
   "cell_type": "markdown",
   "id": "64e7f7b2",
   "metadata": {},
   "source": [
    "# Understanding Features\n",
    "#### Definitions:\n",
    "**Feature**: A specific representation on top of *raw data*. An individual, measurable attribute, typically depicted by a column in a dataset. Each *observation* is depicted by a *row* and each *feature* by a *column*\n",
    "<br>\n",
    "<br>\n",
    "Features can be of two major types based on a dataset:\n",
    "<br>\n",
    "* **Raw features**: obtained directly from the dataset with no extra data manipulation or engineering.\n",
    "* **Derived features**: usually obtained from feature engineering, where we extract features from existing data attributes. i.e. creating new feature *Age* from employee data set containing *Birthdate*.\n",
    "<br>\n",
    "<br> \n",
    "\n",
    "## Feature Engineering on Numeric Data\n",
    "Numeric data typically represents data in the form of scalar values depicting observations, recordings and measurements. It can also be represented as a vector of values where each value or entity can represent a specific feature.\n"
   ]
  },
  {
   "cell_type": "code",
   "execution_count": 1,
   "id": "f63fd0ba",
   "metadata": {},
   "outputs": [],
   "source": [
    "import pandas as pd\n",
    "import matplotlib.pyplot as plt\n",
    "import numpy as np\n",
    "import scipy.stats as spstats\n",
    "%matplotlib inline"
   ]
  },
  {
   "cell_type": "markdown",
   "id": "f9eecf3d",
   "metadata": {},
   "source": [
    "#### Binarization \n",
    "We use binarization when we are more concerned with a feature happening or not, versus the frequency(count) with which it happened. You can convert counted features into a new binary feature with a similar syntax to this:\n",
    "```\n",
    "binary_label = np.array(df['feature_label']) \n",
    "binary_label[binary_label >= 1] = 1\n",
    "popsong_df['binary_label'] = binary_label\n",
    "```\n",
    "<br>\n",
    "You can also use **scikit-learn's *Binarizer*** class here from it's *preprocessing* module to perform the same task instead of *NumPy* arrays.\n",
    "\n",
    "```\n",
    "from sklearn.preprocessing import Binarizer\n",
    "bn = Binarizer(threshold=0.9)\n",
    "binary_label = bn.transform([df['feature_label']])[0]\n",
    "df['binary_label'] = bionary_label\n",
    "df.head(11)\n",
    "```"
   ]
  },
  {
   "cell_type": "markdown",
   "id": "2f4ed369",
   "metadata": {},
   "source": [
    "#### Rounding\n",
    "Often, when dealing with continuous numeric attributes like proportions or percentages, we may not need the raw values having a high amount of precision. Hence it often makes sense to round off these high precision percentages into numeric integers. These integers can then be directly used as raw values or even as categorical(discrete-class based) features. A good example would be converting a popularity percentage in both a scale out of 10, and a scale out of 100:\n",
    "```\n",
    "items_popularity = pd.read_csv('datasets/item_popularity.csv',  \n",
    "                               encoding='utf-8')\n",
    "                               \n",
    "# Convert to scale out of 10\n",
    "items_popularity['popularity_scale_10'] = np.array(               np.round((items_popularity['pop_percent'] * 10)),         dtype='int')\n",
    "\n",
    "# Convert to scale out of 100\n",
    "items_popularity['popularity_scale_100'] = np.array(\n",
    "        np.round((items_popularity['pop_percent'] * 100)),    \n",
    "        dtype='int')\n",
    "```"
   ]
  },
  {
   "attachments": {
    "4a55f1c6-49fc-4732-91cd-64aa111bc8dd.png": {
     "image/png": "[encoded data removed]"
    },
    "ab3af7dc-60a1-48f1-847b-1d578fdac51e.png": {
     "image/png": "[encoded data removed]"
    },
    "e5aa86b2-067b-439b-81b8-71ccc319ab1d.png": {
     "image/png": "[encoded data removed]"
    }
   },
   "cell_type": "markdown",
   "id": "77097d76",
   "metadata": {},
   "source": [
    "#### Interactions\n",
    "Supervised ML models try to model the output responses (discrete classes or continuous values) as a function of the input feature variables. \n",
    "<br>Simple linear regression equation:\n",
    "<br>![image.png](attachment:4a55f1c6-49fc-4732-91cd-64aa111bc8dd.png)\n",
    "<br>Input features depicted by variables:\n",
    "<br>![image.png](attachment:ab3af7dc-60a1-48f1-847b-1d578fdac51e.png)\n",
    "<br>having weights or coefficients denoted by:\n",
    "<br>![image.png](attachment:e5aa86b2-067b-439b-81b8-71ccc319ab1d.png)\n",
    "<br>respectively and the goal is to predict the response y."
   ]
  },
  {
   "cell_type": "code",
   "execution_count": null,
   "id": "9919b84d",
   "metadata": {},
   "outputs": [],
   "source": []
  }
 ],
 "metadata": {
  "kernelspec": {
   "display_name": "Python 3 (ipykernel)",
   "language": "python",
   "name": "python3"
  },
  "language_info": {
   "codemirror_mode": {
    "name": "ipython",
    "version": 3
   },
   "file_extension": ".py",
   "mimetype": "text/x-python",
   "name": "python",
   "nbconvert_exporter": "python",
   "pygments_lexer": "ipython3",
   "version": "3.8.13"
  }
 },
 "nbformat": 4,
 "nbformat_minor": 5
}
