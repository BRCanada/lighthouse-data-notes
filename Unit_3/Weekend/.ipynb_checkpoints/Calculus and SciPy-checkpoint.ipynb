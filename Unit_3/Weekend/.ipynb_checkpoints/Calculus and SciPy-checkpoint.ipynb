{
 "cells": [
  {
   "cell_type": "markdown",
   "id": "4430cc4a",
   "metadata": {},
   "source": [
    "# Introduction of Calculus in Data Science\n",
    "\n",
    "## What is Calaculus?\n",
    "In Data Science, calculus is used for the following reasons:\n",
    "* **Basis**: For most things we do, calculus is the base foundation to finding our solutions, examples include:\n",
    "    * Least squares regression\n",
    "    * Probability distributions\n",
    "* **Change**: When we want to measure rates or quantities that change over time.\n",
    "* **Min/Max**: Calculus is used in finding the maxima and minima of functions in data optimization"
   ]
  },
  {
   "cell_type": "markdown",
   "id": "f6183c89",
   "metadata": {},
   "source": [
    "#### There are two types of Calculus\n",
    "* **Differential**: Rates of change at a specific time. AKA \"The calculus of change\"\n",
    "* **Integral**: Quantity at specific time given the rate of change. AKA \"The calculus of accumulation"
   ]
  },
  {
   "cell_type": "markdown",
   "id": "1b548561",
   "metadata": {},
   "source": [
    "### Calculus and Optimization\n",
    "Let's run through an example: \n",
    "You run a dating app and are trying to figure out how to capitalize profits.\n",
    "*What we know:*\n",
    "* Annual subscriptions cost \\$500\n",
    "* We sell 180 new subscriptions per week.\n",
    "* Every $5 discount unit nets 3 additional sales\n",
    "* No increase in overhead costs."
   ]
  },
  {
   "cell_type": "markdown",
   "id": "3114339e",
   "metadata": {},
   "source": [
    "We can build some variables from this data:\n",
    "$$\n",
    "Price\n",
    "$$\n",
    "$$\n",
    "$500 - $5d\n",
    "$$\n",
    "$$\n",
    "Sales\n",
    "$$\n",
    "$$\n",
    "180 + 3d\n",
    "$$\n",
    "<br>\n",
    "Our goal here, is to get Sales as a function of Price, so we need to do some basic math processes to figure out our y-intercept:\n",
    "<br>\n",
    "$$ Solve\\,for\\,d: $$\n",
    "$$ $500 - $5d = 0 $$\n",
    "<br>\n",
    "$$ $500 - $500 - $5d = 0 - $500 $$\n",
    "<br>\n",
    "$$ -$5d = -$500 $$\n",
    "<br>\n",
    "$$ \\frac{-$5d}{-$5} = \\frac{-$500}{-$5} $$\n",
    "<br>\n",
    "$$ d = $100 $$\n",
    "<br>\n",
    "We now know that when *d* = 100, *x* = 0. So to get the y-intercept, we can plug our new *d*-value into our Sales function:\n",
    "<br>\n",
    "$$ Substitute\\,d: $$\n",
    "<br>\n",
    "$$ d = 100 $$\n",
    "<br>\n",
    "$$ intercept = 180 + 3(100) = 480 $$"
   ]
  },
  {
   "cell_type": "markdown",
   "id": "8db6ce07",
   "metadata": {},
   "source": [
    "Now that we know the intercept, let's calculate the slope: \n",
    "$$ Slope $$\n",
    "<br>\n",
    "$$ slope = \\frac{change\\,in\\,Y}{change\\,in\\,X} $$\n",
    "<br>\n",
    "We can take our *3d* and *-5d* scalar values from our Sales and Price equations respectively to calculate the slope. Let's plug that in:\n",
    "<br>\n",
    "$$ slope = \\frac{3}{-5} = -0.6 $$"
   ]
  },
  {
   "cell_type": "markdown",
   "id": "70c3d911",
   "metadata": {},
   "source": [
    "With our intercept and slope determined, we now have what we need for Sales as a function of Price:\n",
    "<br>\n",
    "$$ Sales = yint - slope \\cdot price $$\n",
    "<br>\n",
    "$$ Sales = 480 - 0.6 \\cdot price $$"
   ]
  },
  {
   "cell_type": "markdown",
   "id": "3d23c585",
   "metadata": {},
   "source": [
    "Now, we want to turn this into revenue, so we have to make an equation for that:\n",
    "<br>\n",
    "$$ Revenue = (sales)(price) $$\n",
    "<br>\n",
    "We already have one of these equations we can substitute in:\n",
    "<br>\n",
    "$$ Revenue = (480 - 0.6 \\cdot price)(price) $$\n",
    "<br>\n",
    "Some rearranging to make it one expression and we have:\n",
    "<br>\n",
    "$$ Revenue = 480 \\cdot price - 0.6 \\cdot price^2 $$\n",
    "<br>\n",
    "Great! Now, it's time to get the derivative of both sides of the expression:\n",
    "<br>\n",
    "$$ Derivative = 480 - 1.2 \\cdot price $$\n",
    "<br>\n",
    "Now, we solve for zero on the derivative. We do this because solving the above equation for zero will give us a point where y is at it's maximum, and the slope will be zero:\n",
    "<br>\n",
    "$$ 480 - 480 - 1.2 \\cdot price = 0 - 480 $$\n",
    "<br>\n",
    "$$ \\frac{-1.2 \\cdot price}{-1.2} = \\frac{-480}{-1.2} $$\n",
    "<br>\n",
    "Price for maximum revenue:\n",
    "<br>\n",
    "$$ price = $400 $$\n",
    "<br>\n",
    "And we can plug this into our Sales equation, to determine number of sales for maximum revenue:\n",
    "<br>\n",
    "$$ Sales = 480 - 0.6 \\cdot 400 $$\n",
    "<br>\n",
    "$$ Sales = 480 - 240 $$\n",
    "<br>\n",
    "$$ Sales = 240 $$"
   ]
  },
  {
   "cell_type": "markdown",
   "id": "5bff9b38",
   "metadata": {},
   "source": [
    "Our current annual revenue is:\n",
    "<br>\n",
    "$$ Current\\,Revenue = 180 \\cdot $500 $$\n",
    "<br>\n",
    "$$ Current\\,Revenue = $90,000 $$\n",
    "<br>\n",
    "What we could be making annually is:\n",
    "<br>\n",
    "$$ Maximum\\,Revenue = 240 \\cdot $400 $$\n",
    "<br>\n",
    "$$ Maximum\\,Revenue = $96,000 $$\n",
    "<br>\n",
    "Our improvement ratio can be calculated by dividing our maximum revenue by our current revenue.\n",
    "<br>\n",
    "$$ Improvement: $$\n",
    "$$ \\frac{$96,000}{$90,000} = 0.07 $$\n",
    "<br>\n",
    "This means we would get a **7%** increase in revenue with the new pricing model."
   ]
  },
  {
   "cell_type": "markdown",
   "id": "63157015",
   "metadata": {},
   "source": [
    "## Minimum and Maximum of a Function\n",
    "We will learn in this activity how to look for the *minimum* and *maximum* of functions using the slope of a graph and derivatives. This process is used in all machine learning algorithms, more specifically, in an optimization technique called **gradient descent**:\n",
    "[Khan Academy](https://www.khanacademy.org/math/in-in-grade-12-ncert/in-in-playing-with-graphs-using-differentiation/copy-of-critical-points-ab/v/relative-minima-maxima)"
   ]
  },
  {
   "cell_type": "markdown",
   "id": "c95ebf9b",
   "metadata": {},
   "source": [
    "## Min/Max of a Function in Python\n",
    "For this activity, we will be optimizing in python using the *SciPy* package."
   ]
  },
  {
   "cell_type": "code",
   "execution_count": 1,
   "id": "97f5ef56",
   "metadata": {},
   "outputs": [],
   "source": [
    "import scipy as spy"
   ]
  },
  {
   "cell_type": "markdown",
   "id": "eb50ebc5",
   "metadata": {},
   "source": [
    "In this example, you’ll be using the **k-means algorithm** in \n",
    "```\n",
    "scipy.cluster.vq\n",
    "```\n",
    "where vq stands for *vector quantization*.\n",
    "\n",
    "First, you should take a look at the dataset you’ll be using for this example. The dataset consists of 4827 real and 747 spam text (or SMS) messages. The raw dataset can be found on the UCI Machine Learning Repository or the authors’ web page.\n",
    "\n",
    "We will start by importing our needed libraries:"
   ]
  },
  {
   "cell_type": "code",
   "execution_count": 2,
   "id": "bf8fee61",
   "metadata": {},
   "outputs": [],
   "source": [
    "from pathlib import Path\n",
    "import numpy as np\n",
    "from scipy.cluster.vq import whiten, kmeans, vq"
   ]
  },
  {
   "cell_type": "markdown",
   "id": "016439b6",
   "metadata": {},
   "source": [
    "You can see that you’re importing three functions from scipy.cluster.vq. Each of these functions accepts a NumPy array as input. These arrays should have the **features** of the dataset in the columns and the **observations** in the rows.\n",
    "<br>\n",
    "A feature is a variable of interest, while an observation is created each time a feature is recorded. In the example data, there are 5,574 observations (individual text mesages) in the dataset. In addition, you'll see that there are two features:\n",
    "* **The number of digits** in a text message\n",
    "* **The number of times** that number of digits appears in the whole dataset."
   ]
  },
  {
   "cell_type": "markdown",
   "id": "27fe806f",
   "metadata": {},
   "source": [
    "Next, we will load the data file from the UCI database. It comes as a text file, where the class of the message is separated from the message by a tab character, and each message is on it's own line. You can read the data into a list using pathlib.Path:"
   ]
  },
  {
   "cell_type": "code",
   "execution_count": 3,
   "id": "a5298631",
   "metadata": {},
   "outputs": [],
   "source": [
    "data = Path(\"SMSSpamCollection.txt\").read_text()\n",
    "data = data.strip()\n",
    "data = data.split(\"\\n\")"
   ]
  },
  {
   "cell_type": "markdown",
   "id": "3e127a8b",
   "metadata": {},
   "source": [
    "Now that we've stripped the trailing spaces and split each entry with a newline parameter, we can start **analyzing** the data. \n",
    "We need to count the number of digits that appear in each text. Python includes collections.Counter in the standard library to collect counts of objects in a dictionary-like structure. However, since all of the functions *scipy.cluster.vq* expect NumPy arrays as the input, you can't use collections.Counter for this example.\n",
    "<br>\n",
    "<br>Instead you use a NumPy array and implement the counts manually.\n",
    "<br>\n",
    "First, create a NumPy array that associates the number of digits in a given message with the result of the message, whether it was ham or spam:"
   ]
  },
  {
   "cell_type": "code",
   "execution_count": 4,
   "id": "121e43a1",
   "metadata": {},
   "outputs": [],
   "source": [
    "digit_counts = np.empty((len(data), 2), dtype=int)"
   ]
  },
  {
   "cell_type": "markdown",
   "id": "e32a6fca",
   "metadata": {},
   "source": [
    "In this code, you’re creating an empty NumPy array, digit_counts, which has two columns and 5,574 rows.\n",
    "The number of rows is equal to the number of messages in the dataset. You’ll be using digit_counts to associate the number of digits in the message with whether or not the message was spam.\n",
    "<br>\n",
    "<br>You should create the array before entering the loop, so you don’t have to allocate new memory as your array expands. This improves the efficiency of your code. Next, you should process the data to record the number of digits and the status of the message:"
   ]
  },
  {
   "cell_type": "code",
   "execution_count": 5,
   "id": "22b46caa",
   "metadata": {},
   "outputs": [],
   "source": [
    "for i, line in enumerate(data):\n",
    "    case, message = line.split(\"\\t\")\n",
    "    num_digits = sum(c.isdigit() for c in message)\n",
    "    digit_counts[i, 0] = 0 if case == \"ham\" else 1\n",
    "    digit_counts[i, 1] = num_digits"
   ]
  },
  {
   "cell_type": "markdown",
   "id": "92169b01",
   "metadata": {},
   "source": [
    "Now you have a NumPy array that contains the number of digits in each message. However, you want to apply the **clustering algorithm** to an array that has the number of messages with a certain number of digits. In other words, an array where the first column has the number of digits in a message, and the second column is the number of messages that have that set number of digits identified in the first column."
   ]
  },
  {
   "cell_type": "code",
   "execution_count": 6,
   "id": "073cef01",
   "metadata": {},
   "outputs": [],
   "source": [
    "unique_counts = np.unique(digit_counts[:, 1], return_counts=True)"
   ]
  },
  {
   "cell_type": "markdown",
   "id": "a0c646f7",
   "metadata": {},
   "source": [
    "*np.unique()* takes an array as the first argument and returns another array with the unique elements from that argument. It also takes several optional arguments. Here, we use ```return_counts=True``` to instruct *np.unique()* to also return an array with the number of times each unique element is present in the input array. These two outputs are returned as a tuple that is stored in **unique_counts**.\n",
    "<br>\n",
    "Next, we need to transform **unique_counts** into a shape that's suitable for clustering:"
   ]
  },
  {
   "cell_type": "code",
   "execution_count": 7,
   "id": "cc738efc",
   "metadata": {},
   "outputs": [],
   "source": [
    "unique_counts = np.transpose(np.vstack(unique_counts))"
   ]
  },
  {
   "cell_type": "markdown",
   "id": "82304b20",
   "metadata": {
    "jupyter": {
     "outputs_hidden": true
    }
   },
   "source": [
    "You combine the two 1xN outputs from *np.unique()* into one 2xN array using *np.vstack()*, and then transpose them into an Nx2 array. This format is what you’ll use in the clustering functions. Each row in unique_counts now has two elements:\n",
    "<br>\n",
    "* The number of digits in a message\n",
    "* The number of messages that had that number of digits"
   ]
  },
  {
   "cell_type": "markdown",
   "id": "1e26d456",
   "metadata": {},
   "source": [
    "In the dataset, there are 4110 messages that have no digits, 486 that have 1 digit, and so on. Now, you should apply the k-means clustering algorithm to this array:"
   ]
  },
  {
   "cell_type": "code",
   "execution_count": 8,
   "id": "8db1ac9f",
   "metadata": {},
   "outputs": [],
   "source": [
    "whitened_counts = whiten(unique_counts)\n",
    "codebook, _ = kmeans(whitened_counts, 3)"
   ]
  },
  {
   "cell_type": "markdown",
   "id": "7b57e00f",
   "metadata": {},
   "source": [
    "You use *whiten()* to normalize each feature to have unit variance, which improves the results from *kmeans()*. Then, *kmeans()* takes the whitened data and the number of clusters to create as arguments. In this example, you want to create 3 clusters, for **definitely ham, definitely spam, and unknown.** *kmeans()* returns two values:\n",
    "<br>\n",
    "* 1. An array with three rows and two columns representing the centroids of each group: The *kmeans()* algorithm will calculate the optimal location of the centroid of each cluster by minimizing the distance from the observations to each centroid. This array is assigned to codebook.\n",
    "* 2. The mean Euclidian distance from the observations to the centroids: You won't need this value for the walkthrough, so we assigned it to _."
   ]
  },
  {
   "cell_type": "markdown",
   "id": "dfe41003",
   "metadata": {},
   "source": [
    "Next, you should determine which cluster each observation belongs to by using *vq()*:"
   ]
  },
  {
   "cell_type": "code",
   "execution_count": 9,
   "id": "99389bdd",
   "metadata": {},
   "outputs": [],
   "source": [
    "codes, _ = vq(whitened_counts, codebook)"
   ]
  },
  {
   "cell_type": "markdown",
   "id": "bd400c73",
   "metadata": {},
   "source": [
    "*vq()* assigns codes from the codebook to each observation. It returns two values:"
   ]
  },
  {
   "cell_type": "markdown",
   "id": "89863aaf",
   "metadata": {},
   "source": [
    "* 1. *The first value* is an array of the same length as ```unique_counts```, where the value of each element is an integer representing which cluster that observation is assigned to. Since you used three clusters in this example, each observation is assigned to cluster 0, 1, or 2\n",
    "\n",
    "* 2. *The second value* is an array of the Euclidian distance between each observation and its centroid.\n"
   ]
  },
  {
   "cell_type": "markdown",
   "id": "e62bca62",
   "metadata": {},
   "source": [
    "Now that our data is clustered, we can use it to make predictions about the SMS messages. You can inspect the counts to determine at how many digits the clustering algorithm drew the line between definitely ham and unknown, and between unknown and definitely spam.\n",
    "<br>\n",
    "<br> The clustering algorithm randomly assigns the code 0, 1 or 2 to each cluster, so you need to identify which is which. You can use this code to find the code associated with each cluster:"
   ]
  },
  {
   "cell_type": "code",
   "execution_count": 10,
   "id": "46f6c3d5",
   "metadata": {},
   "outputs": [],
   "source": [
    "ham_code = codes[0]\n",
    "spam_code = codes[-1]\n",
    "unknown_code = list(set(range(3)) ^ set((ham_code, spam_code)))[0]"
   ]
  },
  {
   "cell_type": "markdown",
   "id": "8087c671",
   "metadata": {},
   "source": [
    "In this code, the first line finds the code associated with ham messages. According to our hypothesis at the beginning, the ham messages have the fewest digits, and the digit array was sorted from fewest to most digits, and the digit array was sorted from fewest to most digits. Thus, the ham message cluster starts at the beginning of codes.\n",
    "<br>\n",
    "<br> Similarly, spam messages have the most digits and form the last cluster in ```codes```. Therefore the code for spam messages will be equal to the last element of codes. \n",
    "<br>\n",
    "<br>Finally to find the code for the unknown messages, since there are only 3 options for the code and we have already identified two of them, we can use the **symmetric_difference** operator on a Python set to determine the last code value. Then we can print the cluster associated with each message type:"
   ]
  },
  {
   "cell_type": "code",
   "execution_count": 11,
   "id": "7e289bf8",
   "metadata": {},
   "outputs": [
    {
     "name": "stdout",
     "output_type": "stream",
     "text": [
      "Definitely ham: [   0 4110]\n",
      "Definitely spam: [47  1]\n",
      "Unknown: [20 18]\n"
     ]
    }
   ],
   "source": [
    "print(\"Definitely ham:\", unique_counts[codes == ham_code][-1])\n",
    "print(\"Definitely spam:\", unique_counts[codes == spam_code][-1])\n",
    "print(\"Unknown:\", unique_counts[codes == unknown_code][-1])"
   ]
  },
  {
   "cell_type": "markdown",
   "id": "bab3b993",
   "metadata": {},
   "source": [
    "In this output, you see that the *definitely ham* messages are the messages with zero digits in the message, the *unknown* messages are everything between 1 and 20 digits, and *definitely spam* messages are everything from 21 to 47 digits, which is the maximum number of digits in your dataset.\n",
    "<br>\n",
    "<br> Now, we can check our prediction accuracy by creating some masks for ```digit_counts``` so we can easily gram the ham or spam status of the messages:\n"
   ]
  },
  {
   "cell_type": "code",
   "execution_count": 12,
   "id": "9f12b261",
   "metadata": {},
   "outputs": [],
   "source": [
    "digits = digit_counts[:, 1]\n",
    "predicted_hams = digits == 0\n",
    "predicted_spams = digits > 20\n",
    "predicted_unknowns = np.logical_and(digits > 0, digits <= 20)"
   ]
  },
  {
   "cell_type": "markdown",
   "id": "5a42bf4e",
   "metadata": {},
   "source": [
    "In this code, you're creating the ```predicted_hams``` mask, where there are no digits in a message. Then, you create the ```predicted_spams``` mask for all messages with more than 20 digits. Finally, the messages in the middle are ```predicted_unknowns```.\n",
    "<br>\n",
    "<br> Next, apply these masks to the actual digit counts to retrieve the predictions:"
   ]
  },
  {
   "cell_type": "code",
   "execution_count": 13,
   "id": "70581bbb",
   "metadata": {},
   "outputs": [],
   "source": [
    "spam_cluster = digit_counts[predicted_spams]\n",
    "ham_cluster = digit_counts[predicted_hams]\n",
    "unk_cluster = digit_counts[predicted_unknowns]"
   ]
  },
  {
   "cell_type": "markdown",
   "id": "8a0ec247",
   "metadata": {},
   "source": [
    "Here, we applied the created masks from the last code block to the ```digit_counts``` array. This creates three new arrays with only the messages that have been clustered into each group. Finally, you can see how many of each message type have fallen into each cluster:"
   ]
  },
  {
   "cell_type": "code",
   "execution_count": 14,
   "id": "48d49e65",
   "metadata": {},
   "outputs": [
    {
     "name": "stdout",
     "output_type": "stream",
     "text": [
      "hams: (array([0, 1]), array([4071,   39]))\n",
      "spams: (array([0, 1]), array([  1, 232]))\n",
      "unknowns: (array([0, 1]), array([755, 476]))\n"
     ]
    }
   ],
   "source": [
    "print(\"hams:\", np.unique(ham_cluster[:, 0], return_counts=True))\n",
    "print(\"spams:\", np.unique(spam_cluster[:, 0], return_counts=True))\n",
    "print(\"unknowns:\", np.unique(unk_cluster[:, 0], return_counts=True))"
   ]
  },
  {
   "cell_type": "markdown",
   "id": "97692981",
   "metadata": {},
   "source": [
    "This code prints the counts of each unique value from the clusters. Remember that 0 means a message was ham and 1 means the message was spam. The results are shown above"
   ]
  },
  {
   "cell_type": "markdown",
   "id": "de595320",
   "metadata": {},
   "source": [
    "From this output, you can see that 4110 messages fell into the *definitely ham* group, of which 4071 were actually ham and only 39 were spam. Conversely, of the 233 messages that fell into the *definitely spam* group, only 1 was actually ham and the rest were spam."
   ]
  },
  {
   "cell_type": "markdown",
   "id": "be898350",
   "metadata": {},
   "source": [
    "## Using the Optimize Module in SciPy"
   ]
  },
  {
   "cell_type": "markdown",
   "id": "9661daa6",
   "metadata": {},
   "source": [
    "When you need to *optimize* the input parameters for a function, scipy.optimize contains a number of useful methods for optimizing different kinds of functions:\n",
    "\n",
    "* **minimize_scalar() and minimize()** to minimize a function of one variable and many variables, respectively\n",
    "* **curve_fit()** to fit a function to a set of data\n",
    "* **root_scalar() and root()** to find the zeros of a function of one variable and many variables, respectively\n",
    "* **linprog()** to minimize a linear objective function with linear inequality and equality constraints"
   ]
  },
  {
   "cell_type": "markdown",
   "id": "25552962",
   "metadata": {},
   "source": [
    "In practice, all of these functions are performing **optimization** of one sort or another. In this section, you'll learn about the two minimization functions, ```minimize_scalar()``` and ```minimize()```.\n",
    "<br>\n",
    "<br> \n",
    "### Minimizing a Function With One Variable\n",
    "A function that accepts one number and results in one output is called a **scalar function**. It's usually contrasted with multivariate functions that accept multiple numbers and also result in multiple numbers of output. You'll see an example of optimizing multivariate functions later. \n",
    "<br>\n",
    "<br> For this section, our scalar function will be a **quadratic polynomial**, and our objective is to find the minimum value of the function. The function is:\n",
    "$$ y = 3x^4 - 2x + 1 $$\n",
    "<br>\n",
    "The function is plotted in the image below for a range of x from 0 to 1:\n",
    "<br>\n",
    "![minimize scalar](lighthouse-data-notes/Unit_3/Weekend/minimize_scalar.png)"
   ]
  },
  {
   "cell_type": "markdown",
   "id": "f91daaff",
   "metadata": {},
   "source": [
    "In the figure, you can see there's a minimum value of this function at approximately x = 0.55. You can use **minimize_scalar()** to determine the exact x and y coordinates of the minimum. First, import *minimize_scalar()* from scipy.optimize. Then, you need to define the objective function we want to minimize:"
   ]
  },
  {
   "cell_type": "code",
   "execution_count": 15,
   "id": "702fe088",
   "metadata": {},
   "outputs": [],
   "source": [
    "from scipy.optimize import minimize_scalar\n",
    "\n",
    "def objective_function(x):\n",
    "    return 3 * x ** 4 - 2 * x + 1"
   ]
  },
  {
   "cell_type": "markdown",
   "id": "c1588498",
   "metadata": {},
   "source": [
    "**objective_function** takes the input x and applies the necessary mathematical operations to it, then returns the result. In the function definition, you can use any mathematical functions you want. The only limit is that the function must return a single number at the end. \n",
    "<br>\n",
    "<br> Next, use ```minimize_scalar()``` to find the minimum value of this function. It only has one required input, which is the name of the function objective definition:"
   ]
  },
  {
   "cell_type": "code",
   "execution_count": 16,
   "id": "f1b46e57",
   "metadata": {},
   "outputs": [],
   "source": [
    "res = minimize_scalar(objective_function)"
   ]
  },
  {
   "cell_type": "markdown",
   "id": "6d1e5ae1",
   "metadata": {},
   "source": [
    "The output of ```minimize_scalar()``` is an instance of ```OptimizeResult```. This class collects together many of the relevant details from the optimizer's run, including whether or not the optimization was successful and, if successful, what the final result was. The output of ```minimize_scalar()``` for this function is shown below:"
   ]
  },
  {
   "cell_type": "code",
   "execution_count": 17,
   "id": "01106994",
   "metadata": {},
   "outputs": [
    {
     "data": {
      "text/plain": [
       "     fun: 0.17451818777634331\n",
       " message: '\\nOptimization terminated successfully;\\nThe returned value satisfies the termination criteria\\n(using xtol = 1.48e-08 )'\n",
       "    nfev: 16\n",
       "     nit: 12\n",
       " success: True\n",
       "       x: 0.5503212087491959"
      ]
     },
     "execution_count": 17,
     "metadata": {},
     "output_type": "execute_result"
    }
   ],
   "source": [
    "res"
   ]
  },
  {
   "cell_type": "markdown",
   "id": "818189ea",
   "metadata": {},
   "source": [
    "These results are all attributes of ```OptimizeResult```. Success is a *Boolean* value indicating whether or not the optimization completed successfully. If the optimization was successful, then *fun* is the value of the objective function at the optimal value *x*. You can see from the output that, as expected, the optimal value for this function was near *x = 0.55*."
   ]
  },
  {
   "cell_type": "markdown",
   "id": "adab9842",
   "metadata": {},
   "source": [
    "*Note: For ```minimize_scalar()```, objective functions with no minimum often result in an ```OverflowError``` because the optimizer eventually tries a number that is too big to be calculated by the computer.\n",
    "<br>\n",
    "<br>On the opposite side of functions with no minimum are **Functions that have several minima**. In these cases, ```minimize_scalar()``` is not guaranteed to find the global minimum of the function. However, ```minimize_scalar()``` has a method keyword argument that you can specify to control the solver that's used for the optimization. The SciPy library has three built-in methods for scalar minimization:\n",
    "<br>\n",
    "* 1. **brent** is an implementation of [*Brent's algorithm*](https://en.wikipedia.org/wiki/Brent%27s_method). This method is the default.\n",
    "* 2. **golden** is an implementation of the [golden-section search](https://en.wikipedia.org/wiki/Golden-section_search). This documentation notes Brents is usually better.\n",
    "* 3. **bounded** is a bounded implementation of Brent's algorithm. It's useful to limit the search region where the minimum is in a known range."
   ]
  },
  {
   "cell_type": "markdown",
   "id": "6764f6ae",
   "metadata": {},
   "source": [
    "When method is either brent or golden, ```minimize_scalar()``` takes another argument called ```bracket```. This is a sequence of two or three elements that provide an initial guess for the bounds of the region with the minimum. However, these solvers do not guarantee that the minimum found will be within this range.\n",
    "<br>\n",
    "<br> When the method is bounded, ```minimize_scalar()``` takes another argument called ```bounds```. This is a sequence of two elements that strictly bounf the search region for the minimum. Try it out with the function:\n",
    "<br>\n",
    "$$ y = x^4 - x^2 $$"
   ]
  },
  {
   "cell_type": "code",
   "execution_count": 18,
   "id": "d3f3d974",
   "metadata": {},
   "outputs": [],
   "source": [
    "def objective_function(x):\n",
    "    return x ** 4 - x ** 2"
   ]
  },
  {
   "cell_type": "markdown",
   "id": "850bfa11",
   "metadata": {},
   "source": [
    "First, try the default ```brent``` method:"
   ]
  },
  {
   "cell_type": "code",
   "execution_count": 19,
   "id": "6713920a",
   "metadata": {},
   "outputs": [],
   "source": [
    "res = minimize_scalar(objective_function)"
   ]
  },
  {
   "cell_type": "markdown",
   "id": "80ea9662",
   "metadata": {},
   "source": [
    "In this code, you didn't pass a value for ```method```, so ```minimize_scalar()``` used the ```brent``` method by default. The output is this:"
   ]
  },
  {
   "cell_type": "code",
   "execution_count": 20,
   "id": "0cf174b8",
   "metadata": {},
   "outputs": [
    {
     "data": {
      "text/plain": [
       "     fun: -0.24999999999999994\n",
       " message: '\\nOptimization terminated successfully;\\nThe returned value satisfies the termination criteria\\n(using xtol = 1.48e-08 )'\n",
       "    nfev: 15\n",
       "     nit: 11\n",
       " success: True\n",
       "       x: 0.7071067853059209"
      ]
     },
     "execution_count": 20,
     "metadata": {},
     "output_type": "execute_result"
    }
   ],
   "source": [
    "res"
   ]
  },
  {
   "cell_type": "markdown",
   "id": "54ac7cf3",
   "metadata": {},
   "source": [
    "You can see the optimization was successful (```success: True```), and found the optimum near *x = 0.707* and *y = -1/4* (```fun: -0.2499...```)\n",
    "If you want to find the **symmetric minimum** you can return the same result by providing the ```bracket``` argument to the ```brent``` method:"
   ]
  },
  {
   "cell_type": "code",
   "execution_count": 21,
   "id": "8c6f05b7",
   "metadata": {},
   "outputs": [],
   "source": [
    "res = minimize_scalar(objective_function, bracket=(-1, 0))"
   ]
  },
  {
   "cell_type": "markdown",
   "id": "0492ca4e",
   "metadata": {},
   "source": [
    "In this adjusted function, the ```bracket=(-1, 0)``` tells the interpreter to search the region between -1 and 0. You expect there to be a minimum in this region, since the objective function is **symmetric** about the y-axis. "
   ]
  },
  {
   "cell_type": "code",
   "execution_count": 22,
   "id": "878500e5",
   "metadata": {},
   "outputs": [
    {
     "data": {
      "text/plain": [
       "     fun: -0.24999999999999997\n",
       " message: '\\nOptimization terminated successfully;\\nThe returned value satisfies the termination criteria\\n(using xtol = 1.48e-08 )'\n",
       "    nfev: 17\n",
       "     nit: 13\n",
       " success: True\n",
       "       x: 0.7071067809244586"
      ]
     },
     "execution_count": 22,
     "metadata": {},
     "output_type": "execute_result"
    }
   ],
   "source": [
    "res"
   ]
  },
  {
   "cell_type": "markdown",
   "id": "ed0602b5",
   "metadata": {},
   "source": [
    "However, even with the ```bracket``` argument, the ```brent``` method still returns the minimum at $$ x = +1\\sqrt{2} $$\n",
    "<br>\n",
    "You can use the bounded metho"
   ]
  },
  {
   "cell_type": "code",
   "execution_count": null,
   "id": "183964d2",
   "metadata": {},
   "outputs": [],
   "source": []
  }
 ],
 "metadata": {
  "kernelspec": {
   "display_name": "Python 3 (ipykernel)",
   "language": "python",
   "name": "python3"
  },
  "language_info": {
   "codemirror_mode": {
    "name": "ipython",
    "version": 3
   },
   "file_extension": ".py",
   "mimetype": "text/x-python",
   "name": "python",
   "nbconvert_exporter": "python",
   "pygments_lexer": "ipython3",
   "version": "3.8.13"
  }
 },
 "nbformat": 4,
 "nbformat_minor": 5
}
