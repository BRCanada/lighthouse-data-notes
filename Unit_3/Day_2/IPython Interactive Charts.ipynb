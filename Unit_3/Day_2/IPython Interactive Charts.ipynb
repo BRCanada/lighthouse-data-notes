{
 "cells": [
  {
   "cell_type": "markdown",
   "id": "c4375879-b1cd-44ba-8264-9dc4bbb04118",
   "metadata": {},
   "source": [
    "# Interactive charts\n",
    "\n",
    "For this, we will be using IPython widgets to make plots interactive. As usual, import the libraries we need:"
   ]
  },
  {
   "cell_type": "code",
   "execution_count": 1,
   "id": "ca9e2806-9a83-4bcf-818f-b660ae769118",
   "metadata": {},
   "outputs": [],
   "source": [
    "# Import Widgets\n",
    "import ipywidgets as widgets\n",
    "\n",
    "# Import the interact and the interact_manual from widgets\n",
    "from ipywidgets.widgets import interact, interact_manual\n",
    "\n",
    "# Import Pandas\n",
    "import pandas as pd\n",
    "\n",
    "# Import Plotly\n",
    "import plotly.graph_objects as go"
   ]
  },
  {
   "cell_type": "markdown",
   "id": "b88c8c61-2a79-4522-bf76-874cb03a5a3e",
   "metadata": {},
   "source": [
    "As the first example of a widget, let's begin with creating a **Slider**:"
   ]
  },
  {
   "cell_type": "code",
   "execution_count": 2,
   "id": "f13f1d5d-be46-4277-9a69-039a23928ce9",
   "metadata": {},
   "outputs": [
    {
     "data": {
      "application/vnd.jupyter.widget-view+json": {
       "model_id": "80c8ee15774c479c87ab7216dc2ec1ac",
       "version_major": 2,
       "version_minor": 0
      },
      "text/plain": [
       "IntSlider(value=3, description='Slider:', max=10)"
      ]
     },
     "metadata": {},
     "output_type": "display_data"
    }
   ],
   "source": [
    "slider = widgets.IntSlider(\n",
    "    min=0,\n",
    "    max=10,\n",
    "    step=1,\n",
    "    description='Slider:',\n",
    "    value=3\n",
    ")\n",
    "\n",
    "slider"
   ]
  },
  {
   "cell_type": "markdown",
   "id": "47f07161-1cad-4235-83d0-0b21f5d84355",
   "metadata": {},
   "source": [
    "In the code above, we created an integer **Slider** with values from zero to ten. The initial value is set to three. By running the code we can see an interactive slider, but we still don't have its value. We can get this value by accessing the values attribute of our variable:"
   ]
  },
  {
   "cell_type": "code",
   "execution_count": 4,
   "id": "758a512f-3e57-467b-9b41-054a0c66797c",
   "metadata": {},
   "outputs": [
    {
     "name": "stdout",
     "output_type": "stream",
     "text": [
      "3\n"
     ]
    }
   ],
   "source": [
    "# The current value of the slider\n",
    "print(slider.value)"
   ]
  },
  {
   "cell_type": "markdown",
   "id": "1ccc7137-118c-4142-b488-7b1386236447",
   "metadata": {},
   "source": [
    "There are many interactive widgets we can use in Jupyter notebook. \n",
    "You can view a full list of widgets [here](https://ipywidgets.readthedocs.io/en/stable/examples/Widget%20List.html)"
   ]
  },
  {
   "cell_type": "code",
   "execution_count": 5,
   "id": "9546e171-4ff5-4175-88b2-77b242889281",
   "metadata": {},
   "outputs": [
    {
     "name": "stdout",
     "output_type": "stream",
     "text": [
      "['Accordion', 'AppLayout', 'Audio', 'BoundedFloatText', 'BoundedIntText', 'Box', 'Button', 'ButtonStyle', 'CallbackDispatcher', 'Checkbox', 'Color', 'ColorPicker', 'Combobox', 'Controller', 'CoreWidget', 'DOMWidget', 'DatePicker', 'Datetime', 'Dropdown', 'FileUpload', 'FloatLogSlider', 'FloatProgress', 'FloatRangeSlider', 'FloatSlider', 'FloatText', 'GridBox', 'GridspecLayout', 'HBox', 'HTML', 'HTMLMath', 'Image', 'IntProgress', 'IntRangeSlider', 'IntSlider', 'IntText', 'Label', 'Layout', 'NumberFormat', 'Output', 'Password', 'Play', 'RadioButtons', 'Select', 'SelectMultiple', 'SelectionRangeSlider', 'SelectionSlider', 'SliderStyle', 'Style', 'Tab', 'Text', 'Textarea', 'ToggleButton', 'ToggleButtons', 'ToggleButtonsStyle', 'TwoByTwoLayout', 'VBox', 'Valid', 'ValueWidget', 'Video', 'Widget', '__builtins__', '__cached__', '__doc__', '__file__', '__jupyter_widgets_base_version__', '__jupyter_widgets_controls_version__', '__loader__', '__name__', '__package__', '__path__', '__protocol_version__', '__spec__', '__version__', '_handle_ipython', '_version', 'dlink', 'docutils', 'domwidget', 'fixed', 'get_ipython', 'handle_kernel', 'interact', 'interact_manual', 'interaction', 'interactive', 'interactive_output', 'jsdlink', 'jslink', 'link', 'load_ipython_extension', 'os', 'register', 'register_comm_target', 'trait_types', 'util', 'valuewidget', 'version_info', 'widget', 'widget_bool', 'widget_box', 'widget_button', 'widget_color', 'widget_controller', 'widget_core', 'widget_date', 'widget_description', 'widget_float', 'widget_int', 'widget_layout', 'widget_link', 'widget_media', 'widget_output', 'widget_selection', 'widget_selectioncontainer', 'widget_serialization', 'widget_string', 'widget_style', 'widget_templates', 'widget_upload', 'widgets']\n"
     ]
    }
   ],
   "source": [
    "# Show the widgets directory\n",
    "print(dir(widgets))"
   ]
  },
  {
   "cell_type": "markdown",
   "id": "47e4d382-c358-41ea-9a84-5e8177125fb9",
   "metadata": {},
   "source": [
    "### Filter a DataFrame with Widgets\n",
    "We will explore how to use widgets to control a dataframe. The sample dataset we have chosen is the ```'Number of International Visitors to London'```, which shows the totals of London's visitors with regards to nights spent, visits, and spend **broken down by year, quarter, purpose, duration, mode, and country.**\n",
    "We will use the first 200 rows"
   ]
  },
  {
   "cell_type": "code",
   "execution_count": 6,
   "id": "6652ea2b-cbb2-454e-ab0d-0edc18fbdd98",
   "metadata": {},
   "outputs": [],
   "source": [
    "# the data url\n",
    "url = \"https://data.london.gov.uk/download/number-international-visitors-london/b1e0f953-4c8a-4b45-95f5-e0d143d5641e/international-visitors-london-raw.csv\"\n",
    "\n",
    "# create the data-frame\n",
    "df_london = pd.read_csv(url, encoding= 'unicode_escape')\n",
    "df_london.columns = [\"year\",\"quarter\",\"market\",\"dur_stay\",\"mode\",\"purpose\",\"area\",\"visits\",\"spend\",\"nights\",\"sample\"]\n",
    "\n",
    "# sample 200 rows\n",
    "df = df_london.sample(200)"
   ]
  },
  {
   "cell_type": "markdown",
   "id": "08c09c15-caad-4390-9b28-884e433c6b45",
   "metadata": {},
   "source": [
    "Check out the DF"
   ]
  },
  {
   "cell_type": "code",
   "execution_count": 7,
   "id": "755fdfad-6cb9-4220-8fd1-913fe95f69cb",
   "metadata": {},
   "outputs": [
    {
     "data": {
      "text/html": [
       "<div>\n",
       "<style scoped>\n",
       "    .dataframe tbody tr th:only-of-type {\n",
       "        vertical-align: middle;\n",
       "    }\n",
       "\n",
       "    .dataframe tbody tr th {\n",
       "        vertical-align: top;\n",
       "    }\n",
       "\n",
       "    .dataframe thead th {\n",
       "        text-align: right;\n",
       "    }\n",
       "</style>\n",
       "<table border=\"1\" class=\"dataframe\">\n",
       "  <thead>\n",
       "    <tr style=\"text-align: right;\">\n",
       "      <th></th>\n",
       "      <th>year</th>\n",
       "      <th>quarter</th>\n",
       "      <th>market</th>\n",
       "      <th>dur_stay</th>\n",
       "      <th>mode</th>\n",
       "      <th>purpose</th>\n",
       "      <th>area</th>\n",
       "      <th>visits</th>\n",
       "      <th>spend</th>\n",
       "      <th>nights</th>\n",
       "      <th>sample</th>\n",
       "    </tr>\n",
       "  </thead>\n",
       "  <tbody>\n",
       "    <tr>\n",
       "      <th>7584</th>\n",
       "      <td>2004</td>\n",
       "      <td>April-June</td>\n",
       "      <td>Netherlands</td>\n",
       "      <td>8-14 nights</td>\n",
       "      <td>Air</td>\n",
       "      <td>Holiday</td>\n",
       "      <td>LONDON</td>\n",
       "      <td>1.249270</td>\n",
       "      <td>0.616047</td>\n",
       "      <td>13.256700</td>\n",
       "      <td>1</td>\n",
       "    </tr>\n",
       "    <tr>\n",
       "      <th>46067</th>\n",
       "      <td>2015</td>\n",
       "      <td>April-June</td>\n",
       "      <td>Malaysia</td>\n",
       "      <td>8-14 nights</td>\n",
       "      <td>Air</td>\n",
       "      <td>VFR</td>\n",
       "      <td>LONDON</td>\n",
       "      <td>5.060668</td>\n",
       "      <td>2.208552</td>\n",
       "      <td>41.357692</td>\n",
       "      <td>6</td>\n",
       "    </tr>\n",
       "    <tr>\n",
       "      <th>7485</th>\n",
       "      <td>2004</td>\n",
       "      <td>April-June</td>\n",
       "      <td>France</td>\n",
       "      <td>4-7  nights</td>\n",
       "      <td>Air</td>\n",
       "      <td>VFR</td>\n",
       "      <td>LONDON</td>\n",
       "      <td>5.105014</td>\n",
       "      <td>1.997904</td>\n",
       "      <td>24.167620</td>\n",
       "      <td>7</td>\n",
       "    </tr>\n",
       "    <tr>\n",
       "      <th>14925</th>\n",
       "      <td>2006</td>\n",
       "      <td>April-June</td>\n",
       "      <td>Mexico</td>\n",
       "      <td>4-7  nights</td>\n",
       "      <td>Air</td>\n",
       "      <td>Study</td>\n",
       "      <td>LONDON</td>\n",
       "      <td>0.456575</td>\n",
       "      <td>0.140625</td>\n",
       "      <td>3.196020</td>\n",
       "      <td>1</td>\n",
       "    </tr>\n",
       "    <tr>\n",
       "      <th>53488</th>\n",
       "      <td>2017</td>\n",
       "      <td>July-September</td>\n",
       "      <td>Switzerland</td>\n",
       "      <td>15+  nights</td>\n",
       "      <td>Air</td>\n",
       "      <td>VFR</td>\n",
       "      <td>LONDON</td>\n",
       "      <td>0.883522</td>\n",
       "      <td>0.812213</td>\n",
       "      <td>16.884468</td>\n",
       "      <td>1</td>\n",
       "    </tr>\n",
       "  </tbody>\n",
       "</table>\n",
       "</div>"
      ],
      "text/plain": [
       "       year         quarter       market     dur_stay mode  purpose     area  \\\n",
       "7584   2004      April-June  Netherlands  8-14 nights  Air  Holiday   LONDON   \n",
       "46067  2015      April-June     Malaysia  8-14 nights  Air      VFR   LONDON   \n",
       "7485   2004      April-June       France  4-7  nights  Air      VFR   LONDON   \n",
       "14925  2006      April-June       Mexico  4-7  nights  Air    Study   LONDON   \n",
       "53488  2017  July-September  Switzerland  15+  nights  Air      VFR   LONDON   \n",
       "\n",
       "         visits     spend     nights  sample  \n",
       "7584   1.249270  0.616047  13.256700       1  \n",
       "46067  5.060668  2.208552  41.357692       6  \n",
       "7485   5.105014  1.997904  24.167620       7  \n",
       "14925  0.456575  0.140625   3.196020       1  \n",
       "53488  0.883522  0.812213  16.884468       1  "
      ]
     },
     "execution_count": 7,
     "metadata": {},
     "output_type": "execute_result"
    }
   ],
   "source": [
    "df.head()"
   ]
  },
  {
   "cell_type": "markdown",
   "id": "564ed71c-84a9-4bfe-8341-1b290d29260e",
   "metadata": {},
   "source": [
    "Now, imagine we want to filter this based on selected columns and the corresponding threshold. We can change the filter condition in the code every time we want to filter the data-frame or create an interactive widget. Let's go with the second option and define a function that filters the data-frame based on the selected column and threshold:"
   ]
  },
  {
   "cell_type": "code",
   "execution_count": 8,
   "id": "0aa17263-d794-4e0d-a5ee-afda1deb7168",
   "metadata": {},
   "outputs": [],
   "source": [
    "# The filter function\n",
    "def filter_df(column, threshold):\n",
    "    return df[df[column] <= threshold]"
   ]
  },
  {
   "cell_type": "markdown",
   "id": "66c3b376-8bd5-41d1-876a-50b6edd893d9",
   "metadata": {},
   "source": [
    "The only thing left is to create a widget to set the parameters of the function. Let's say we want to use the columns 'spend' and 'visits' in our dropdown widget and values from the interval \\<0,30> with step 1 in a slider widget:"
   ]
  },
  {
   "cell_type": "code",
   "execution_count": 9,
   "id": "41a43a81-94e3-4adf-97ff-0948d21e2bac",
   "metadata": {},
   "outputs": [
    {
     "data": {
      "application/vnd.jupyter.widget-view+json": {
       "model_id": "95a31f73e8534004a3058861704051ea",
       "version_major": 2,
       "version_minor": 0
      },
      "text/plain": [
       "interactive(children=(Dropdown(description='column', options=('spend', 'visits'), value='spend'), IntSlider(va…"
      ]
     },
     "metadata": {},
     "output_type": "display_data"
    }
   ],
   "source": [
    "filter_widget = widgets.interact(filter_df,\n",
    "                                 column=['spend','visits'],\n",
    "                                 threshold=(1, 30, 1))"
   ]
  },
  {
   "cell_type": "markdown",
   "id": "4fa8ea28-460b-4266-8170-a26effe58025",
   "metadata": {},
   "source": [
    "We created a filter_widget variable that stores our widget. We can use this widget in future code by the following command:"
   ]
  },
  {
   "cell_type": "code",
   "execution_count": 10,
   "id": "0ad4517f-e3f3-49c0-8c40-e47607135414",
   "metadata": {},
   "outputs": [
    {
     "data": {
      "application/vnd.jupyter.widget-view+json": {
       "model_id": "95a31f73e8534004a3058861704051ea",
       "version_major": 2,
       "version_minor": 0
      },
      "text/plain": [
       "interactive(children=(Dropdown(description='column', options=('spend', 'visits'), value='spend'), IntSlider(va…"
      ]
     },
     "metadata": {},
     "output_type": "display_data"
    }
   ],
   "source": [
    "# Use filter later in code\n",
    "filter_widget.widget"
   ]
  },
  {
   "cell_type": "markdown",
   "id": "c411e5b2-c57d-48d6-b574-4f95ec0e41bc",
   "metadata": {},
   "source": [
    "### Interactive Plots with Widgets\n",
    "In this section, we will learn how to change the x- and y-axis data with widgets. Let's define a function that creates a scatter plot from the selected columns of a data-frame:"
   ]
  },
  {
   "cell_type": "code",
   "execution_count": 12,
   "id": "7b300f11-2333-432a-a73d-a5ae73e0df3b",
   "metadata": {},
   "outputs": [
    {
     "data": {
      "application/vnd.jupyter.widget-view+json": {
       "model_id": "68175fc7b33f42a7a09816cb00320b54",
       "version_major": 2,
       "version_minor": 0
      },
      "text/plain": [
       "interactive(children=(Dropdown(description='x', options=('visits', 'spend', 'nights', 'sample'), value='visits…"
      ]
     },
     "metadata": {},
     "output_type": "display_data"
    }
   ],
   "source": [
    "@interact\n",
    "def scatter_plot(x=list(df.select_dtypes('number').columns),\n",
    "                 y=list(df.select_dtypes('number').columns)[1:]):\n",
    "    # trace\n",
    "    trace = [go.Scatter(x=df[x],y=df[y],mode='markers')]\n",
    "    \n",
    "    # layout\n",
    "    layout = go.Layout(\n",
    "        title = 'Scatter plot', # Graph Title\n",
    "        xaxis = dict(title = x.title()), # x-axis label\n",
    "        yaxis = dict(title = y.title()), # y-axis label\n",
    "        hovermode = 'closest'  # handles multiple points landing on same vertical\n",
    "    )\n",
    "    \n",
    "    #fig\n",
    "    fig = go.Figure(trace, layout)\n",
    "    fig.show()"
   ]
  },
  {
   "cell_type": "markdown",
   "id": "7c0c1552-33c4-430f-9612-de06aaa30484",
   "metadata": {},
   "source": [
    "When we change the column choices in the drop down widget, our plot changes almost immediately. Dropdowns are generated by the ```@interact decorator``` of our scatter_plot function. However, this fast reaction is caused by using only 200 rows of data from the original set. For bigger frames, this real time change could be a problem. The solution is the ```@interact_manual``` decorator that creates dropdowns in the same way, but also creates a button that allows us to confirm the selection. Let's try to use this decorator:"
   ]
  },
  {
   "cell_type": "code",
   "execution_count": 13,
   "id": "19243cc0-1c25-4a0f-a1e2-bd0831ad5389",
   "metadata": {},
   "outputs": [
    {
     "data": {
      "application/vnd.jupyter.widget-view+json": {
       "model_id": "a99ebc9f09bb4a16bd29405b96e18f3f",
       "version_major": 2,
       "version_minor": 0
      },
      "text/plain": [
       "interactive(children=(Dropdown(description='x', options=('visits', 'spend', 'nights', 'sample'), value='visits…"
      ]
     },
     "metadata": {},
     "output_type": "display_data"
    }
   ],
   "source": [
    "@interact_manual\n",
    "def scatter_plot(x=list(df.select_dtypes('number').columns), \n",
    "                 y=list(df.select_dtypes('number').columns)[1:]):\n",
    "\n",
    "    # trace\n",
    "    trace = [go.Scatter(x=df[x], y=df[y], mode='markers')]\n",
    "\n",
    "    # layout\n",
    "    layout = go.Layout(\n",
    "                title = 'Scatter plot', # Graph title\n",
    "                xaxis = dict(title = x.title()), # x-axis label\n",
    "                yaxis = dict(title = y.title()), # y-axis label\n",
    "                hovermode ='closest' # handles multiple points landing on the same vertical\n",
    "    )\n",
    "\n",
    "    # fig\n",
    "    fig = go.Figure(trace, layout)\n",
    "    fig.show()"
   ]
  },
  {
   "cell_type": "markdown",
   "id": "efec0a11-47f3-4a0d-9609-eba49377f9e6",
   "metadata": {},
   "source": [
    "This gives both the computer a break and saves time, as the chart only updates when the run button is pushed."
   ]
  },
  {
   "cell_type": "code",
   "execution_count": null,
   "id": "5d9c1efc-f3a2-4455-bbbe-3c8b1bfb81fb",
   "metadata": {},
   "outputs": [],
   "source": []
  }
 ],
 "metadata": {
  "kernelspec": {
   "display_name": "Python 3 (ipykernel)",
   "language": "python",
   "name": "python3"
  },
  "language_info": {
   "codemirror_mode": {
    "name": "ipython",
    "version": 3
   },
   "file_extension": ".py",
   "mimetype": "text/x-python",
   "name": "python",
   "nbconvert_exporter": "python",
   "pygments_lexer": "ipython3",
   "version": "3.8.13"
  }
 },
 "nbformat": 4,
 "nbformat_minor": 5
}
