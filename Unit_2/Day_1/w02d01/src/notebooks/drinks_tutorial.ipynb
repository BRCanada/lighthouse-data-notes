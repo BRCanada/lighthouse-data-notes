{
 "cells": [
  {
   "cell_type": "markdown",
   "metadata": {},
   "source": [
    "# SQL tutorial using a database of drinks and bars\n",
    "\n",
    "## Things we will be doing:\n",
    "- Creating a PostgreSQL database using the `psql` shell tool\n",
    "- Importing existing data to fill the database (the `drinks.sql` file in this repository)\n",
    "- Using the `psycopg2` Python package to interact with the database (we could have alternatively used a dedicated SQL IDE like SQL Workbench)\n",
    "- Quering the database to explore SQL concepts such as:\n",
    "    - Filtering, ordering, limiting, etc.\n",
    "    - Joining tables\n",
    "    - Grouping records\n",
    "    - Aggregate functions\n",
    "    \n",
    "## Requirements:\n",
    "- Install PostgreSQL (and potentially give the `postgres` user a password)\n",
    "- Install the `psycopg2` Python package in your anaconda virtual environment of choice. **Note**: you will need to install other dependencies beforehand. Look up which ones for your operating system.\n",
    "    - Using conda: `conda install -c anaconda psycopg2`\n",
    "    - Using pip: `pip install psycopg2`"
   ]
  },
  {
   "cell_type": "markdown",
   "metadata": {},
   "source": [
    "# Creating the database using `psql`\n",
    "\n",
    "1. Start up your terminal.\n",
    "2. Switch to the \"postgres\" user that was created automatically when installing PostgreSQL (find the equivalent command for Windows). \\\n",
    "`sudo -u postgres -i`\n",
    "3. Start the `psql` shell tool. \\\n",
    "`psql`\n",
    "4. List the PostgreSQL databases that exist on your computer (press \"q\" when you want to exit the list view). \\\n",
    "`\\l`\n",
    "5. Create a new empty database called \"drinks\". \\\n",
    "`CREATE DATABASE drinks;`\n",
    "4. Confirm that the \"drinks\" database was created (press \"q\" when you want to exit the list view). \\\n",
    "`\\l`\n",
    "5. We can now leave the `psql` tool. \\\n",
    "`exit`\n",
    "5. And also log out of the \"postgres\" user. \\\n",
    "`exit`"
   ]
  },
  {
   "cell_type": "markdown",
   "metadata": {},
   "source": [
    "# Create a Python connection to the database and load in some data from the `drinks.sql` file"
   ]
  },
  {
   "cell_type": "code",
   "execution_count": 3,
   "metadata": {},
   "outputs": [],
   "source": [
    "import psycopg2\n",
    "import pandas as pd\n",
    "\n",
    "# Create a connection to the drinks database we just made (substitute the password you set for the \"postgres\" user)\n",
    "con = psycopg2.connect(database='drinks', user='lhl_student', password='lhl_password',\n",
    "                       host='127.0.0.1', port='5432')\n",
    "cur = con.cursor()\n",
    "\n",
    "cur.execute(open('../../migrations/drinks.sql', 'r').read())\n",
    "con.commit()"
   ]
  },
  {
   "cell_type": "code",
   "execution_count": 4,
   "metadata": {},
   "outputs": [
    {
     "name": "stdout",
     "output_type": "stream",
     "text": [
      "This is the raw response we get back:\n",
      "[('drink 1', 'cocktail'), ('drink 2', 'wine'), ('drink 3', 'rum'), ('drink 4', 'cocktail'), ('drink 5', 'cocktail')]\n",
      "\n",
      "This is the nicely structured pandas response:\n",
      "\n"
     ]
    },
    {
     "name": "stderr",
     "output_type": "stream",
     "text": [
      "/opt/homebrew/Caskroom/miniforge/base/envs/base_env/lib/python3.8/site-packages/pandas/io/sql.py:762: UserWarning: pandas only support SQLAlchemy connectable(engine/connection) ordatabase string URI or sqlite3 DBAPI2 connectionother DBAPI2 objects are not tested, please consider using SQLAlchemy\n",
      "  warnings.warn(\n"
     ]
    }
   ],
   "source": [
    "# Using triple quotations will ensure that everything inside the string\n",
    "# is read as a character (i.e. no need to use escape characters)\n",
    "query = \"\"\"\n",
    "SELECT * \n",
    "FROM drinks\n",
    "LIMIT 5;\n",
    "\"\"\"\n",
    "\n",
    "# You first execute the query, then get it's result.\n",
    "# Note: if you try to chain .execute().fetchall() in the same statement,\n",
    "# the database my not have time to execute the query in time, which will\n",
    "# result in you getting an error.\n",
    "cur.execute(query)\n",
    "response = cur.fetchall()\n",
    "\n",
    "# Let's look at the format of the response we get back\n",
    "print(f'This is the raw response we get back:\\n{response}\\n')\n",
    "\n",
    "# You can alternatively use pandas to get a nicely formatted DataFrame\n",
    "pandas_response = pd.read_sql_query(query, con)\n",
    "print('This is the nicely structured pandas response:\\n')\n",
    "pandas_response\n",
    "con.close()"
   ]
  },
  {
   "cell_type": "code",
   "execution_count": 5,
   "metadata": {
    "scrolled": true
   },
   "outputs": [
    {
     "name": "stderr",
     "output_type": "stream",
     "text": [
      "/opt/homebrew/Caskroom/miniforge/base/envs/base_env/lib/python3.8/site-packages/pandas/io/sql.py:762: UserWarning: pandas only support SQLAlchemy connectable(engine/connection) ordatabase string URI or sqlite3 DBAPI2 connectionother DBAPI2 objects are not tested, please consider using SQLAlchemy\n",
      "  warnings.warn(\n"
     ]
    },
    {
     "data": {
      "text/html": [
       "<div>\n",
       "<style scoped>\n",
       "    .dataframe tbody tr th:only-of-type {\n",
       "        vertical-align: middle;\n",
       "    }\n",
       "\n",
       "    .dataframe tbody tr th {\n",
       "        vertical-align: top;\n",
       "    }\n",
       "\n",
       "    .dataframe thead th {\n",
       "        text-align: right;\n",
       "    }\n",
       "</style>\n",
       "<table border=\"1\" class=\"dataframe\">\n",
       "  <thead>\n",
       "    <tr style=\"text-align: right;\">\n",
       "      <th></th>\n",
       "      <th>drink_id</th>\n",
       "      <th>type</th>\n",
       "    </tr>\n",
       "  </thead>\n",
       "  <tbody>\n",
       "    <tr>\n",
       "      <th>0</th>\n",
       "      <td>drink 1</td>\n",
       "      <td>cocktail</td>\n",
       "    </tr>\n",
       "    <tr>\n",
       "      <th>1</th>\n",
       "      <td>drink 2</td>\n",
       "      <td>wine</td>\n",
       "    </tr>\n",
       "    <tr>\n",
       "      <th>2</th>\n",
       "      <td>drink 3</td>\n",
       "      <td>rum</td>\n",
       "    </tr>\n",
       "    <tr>\n",
       "      <th>3</th>\n",
       "      <td>drink 4</td>\n",
       "      <td>cocktail</td>\n",
       "    </tr>\n",
       "    <tr>\n",
       "      <th>4</th>\n",
       "      <td>drink 5</td>\n",
       "      <td>cocktail</td>\n",
       "    </tr>\n",
       "    <tr>\n",
       "      <th>5</th>\n",
       "      <td>drink 6</td>\n",
       "      <td>wine</td>\n",
       "    </tr>\n",
       "    <tr>\n",
       "      <th>6</th>\n",
       "      <td>drink 7</td>\n",
       "      <td>cocktail</td>\n",
       "    </tr>\n",
       "    <tr>\n",
       "      <th>7</th>\n",
       "      <td>drink 8</td>\n",
       "      <td>whisky</td>\n",
       "    </tr>\n",
       "    <tr>\n",
       "      <th>8</th>\n",
       "      <td>drink 9</td>\n",
       "      <td>rum</td>\n",
       "    </tr>\n",
       "    <tr>\n",
       "      <th>9</th>\n",
       "      <td>drink 10</td>\n",
       "      <td>wine</td>\n",
       "    </tr>\n",
       "    <tr>\n",
       "      <th>10</th>\n",
       "      <td>drink 11</td>\n",
       "      <td>wine</td>\n",
       "    </tr>\n",
       "    <tr>\n",
       "      <th>11</th>\n",
       "      <td>drink 12</td>\n",
       "      <td>vodka</td>\n",
       "    </tr>\n",
       "    <tr>\n",
       "      <th>12</th>\n",
       "      <td>drink 13</td>\n",
       "      <td>whisky</td>\n",
       "    </tr>\n",
       "    <tr>\n",
       "      <th>13</th>\n",
       "      <td>drink 14</td>\n",
       "      <td>soda</td>\n",
       "    </tr>\n",
       "    <tr>\n",
       "      <th>14</th>\n",
       "      <td>drink 15</td>\n",
       "      <td>vodka</td>\n",
       "    </tr>\n",
       "    <tr>\n",
       "      <th>15</th>\n",
       "      <td>drink 16</td>\n",
       "      <td>wine</td>\n",
       "    </tr>\n",
       "    <tr>\n",
       "      <th>16</th>\n",
       "      <td>drink 17</td>\n",
       "      <td>wine</td>\n",
       "    </tr>\n",
       "    <tr>\n",
       "      <th>17</th>\n",
       "      <td>drink 18</td>\n",
       "      <td>cocktail</td>\n",
       "    </tr>\n",
       "    <tr>\n",
       "      <th>18</th>\n",
       "      <td>drink 19</td>\n",
       "      <td>vodka</td>\n",
       "    </tr>\n",
       "    <tr>\n",
       "      <th>19</th>\n",
       "      <td>drink 20</td>\n",
       "      <td>whisky</td>\n",
       "    </tr>\n",
       "    <tr>\n",
       "      <th>20</th>\n",
       "      <td>drink 21</td>\n",
       "      <td>whisky</td>\n",
       "    </tr>\n",
       "    <tr>\n",
       "      <th>21</th>\n",
       "      <td>drink 22</td>\n",
       "      <td>rum</td>\n",
       "    </tr>\n",
       "    <tr>\n",
       "      <th>22</th>\n",
       "      <td>drink 23</td>\n",
       "      <td>beer</td>\n",
       "    </tr>\n",
       "    <tr>\n",
       "      <th>23</th>\n",
       "      <td>drink 24</td>\n",
       "      <td>cocktail</td>\n",
       "    </tr>\n",
       "    <tr>\n",
       "      <th>24</th>\n",
       "      <td>drink 25</td>\n",
       "      <td>soda</td>\n",
       "    </tr>\n",
       "    <tr>\n",
       "      <th>25</th>\n",
       "      <td>drink 26</td>\n",
       "      <td>vodka</td>\n",
       "    </tr>\n",
       "    <tr>\n",
       "      <th>26</th>\n",
       "      <td>drink 27</td>\n",
       "      <td>beer</td>\n",
       "    </tr>\n",
       "    <tr>\n",
       "      <th>27</th>\n",
       "      <td>drink 28</td>\n",
       "      <td>whisky</td>\n",
       "    </tr>\n",
       "    <tr>\n",
       "      <th>28</th>\n",
       "      <td>drink 29</td>\n",
       "      <td>rum</td>\n",
       "    </tr>\n",
       "    <tr>\n",
       "      <th>29</th>\n",
       "      <td>drink 30</td>\n",
       "      <td>wine</td>\n",
       "    </tr>\n",
       "    <tr>\n",
       "      <th>30</th>\n",
       "      <td>drink 31</td>\n",
       "      <td>rum</td>\n",
       "    </tr>\n",
       "    <tr>\n",
       "      <th>31</th>\n",
       "      <td>drink 32</td>\n",
       "      <td>cocktail</td>\n",
       "    </tr>\n",
       "    <tr>\n",
       "      <th>32</th>\n",
       "      <td>drink 33</td>\n",
       "      <td>beer</td>\n",
       "    </tr>\n",
       "    <tr>\n",
       "      <th>33</th>\n",
       "      <td>drink 34</td>\n",
       "      <td>whisky</td>\n",
       "    </tr>\n",
       "    <tr>\n",
       "      <th>34</th>\n",
       "      <td>drink 35</td>\n",
       "      <td>vodka</td>\n",
       "    </tr>\n",
       "    <tr>\n",
       "      <th>35</th>\n",
       "      <td>drink 36</td>\n",
       "      <td>whisky</td>\n",
       "    </tr>\n",
       "    <tr>\n",
       "      <th>36</th>\n",
       "      <td>drink 37</td>\n",
       "      <td>wine</td>\n",
       "    </tr>\n",
       "    <tr>\n",
       "      <th>37</th>\n",
       "      <td>drink 38</td>\n",
       "      <td>beer</td>\n",
       "    </tr>\n",
       "    <tr>\n",
       "      <th>38</th>\n",
       "      <td>drink 39</td>\n",
       "      <td>rum</td>\n",
       "    </tr>\n",
       "    <tr>\n",
       "      <th>39</th>\n",
       "      <td>drink 40</td>\n",
       "      <td>whisky</td>\n",
       "    </tr>\n",
       "    <tr>\n",
       "      <th>40</th>\n",
       "      <td>drink 41</td>\n",
       "      <td>vodka</td>\n",
       "    </tr>\n",
       "    <tr>\n",
       "      <th>41</th>\n",
       "      <td>drink 42</td>\n",
       "      <td>whisky</td>\n",
       "    </tr>\n",
       "    <tr>\n",
       "      <th>42</th>\n",
       "      <td>drink 43</td>\n",
       "      <td>soda</td>\n",
       "    </tr>\n",
       "    <tr>\n",
       "      <th>43</th>\n",
       "      <td>drink 44</td>\n",
       "      <td>vodka</td>\n",
       "    </tr>\n",
       "    <tr>\n",
       "      <th>44</th>\n",
       "      <td>drink 45</td>\n",
       "      <td>vodka</td>\n",
       "    </tr>\n",
       "    <tr>\n",
       "      <th>45</th>\n",
       "      <td>drink 46</td>\n",
       "      <td>beer</td>\n",
       "    </tr>\n",
       "    <tr>\n",
       "      <th>46</th>\n",
       "      <td>drink 47</td>\n",
       "      <td>whisky</td>\n",
       "    </tr>\n",
       "    <tr>\n",
       "      <th>47</th>\n",
       "      <td>drink 48</td>\n",
       "      <td>wine</td>\n",
       "    </tr>\n",
       "    <tr>\n",
       "      <th>48</th>\n",
       "      <td>drink 49</td>\n",
       "      <td>cocktail</td>\n",
       "    </tr>\n",
       "    <tr>\n",
       "      <th>49</th>\n",
       "      <td>drink 50</td>\n",
       "      <td>beer</td>\n",
       "    </tr>\n",
       "  </tbody>\n",
       "</table>\n",
       "</div>"
      ],
      "text/plain": [
       "    drink_id      type\n",
       "0    drink 1  cocktail\n",
       "1    drink 2      wine\n",
       "2    drink 3       rum\n",
       "3    drink 4  cocktail\n",
       "4    drink 5  cocktail\n",
       "5    drink 6      wine\n",
       "6    drink 7  cocktail\n",
       "7    drink 8    whisky\n",
       "8    drink 9       rum\n",
       "9   drink 10      wine\n",
       "10  drink 11      wine\n",
       "11  drink 12     vodka\n",
       "12  drink 13    whisky\n",
       "13  drink 14      soda\n",
       "14  drink 15     vodka\n",
       "15  drink 16      wine\n",
       "16  drink 17      wine\n",
       "17  drink 18  cocktail\n",
       "18  drink 19     vodka\n",
       "19  drink 20    whisky\n",
       "20  drink 21    whisky\n",
       "21  drink 22       rum\n",
       "22  drink 23      beer\n",
       "23  drink 24  cocktail\n",
       "24  drink 25      soda\n",
       "25  drink 26     vodka\n",
       "26  drink 27      beer\n",
       "27  drink 28    whisky\n",
       "28  drink 29       rum\n",
       "29  drink 30      wine\n",
       "30  drink 31       rum\n",
       "31  drink 32  cocktail\n",
       "32  drink 33      beer\n",
       "33  drink 34    whisky\n",
       "34  drink 35     vodka\n",
       "35  drink 36    whisky\n",
       "36  drink 37      wine\n",
       "37  drink 38      beer\n",
       "38  drink 39       rum\n",
       "39  drink 40    whisky\n",
       "40  drink 41     vodka\n",
       "41  drink 42    whisky\n",
       "42  drink 43      soda\n",
       "43  drink 44     vodka\n",
       "44  drink 45     vodka\n",
       "45  drink 46      beer\n",
       "46  drink 47    whisky\n",
       "47  drink 48      wine\n",
       "48  drink 49  cocktail\n",
       "49  drink 50      beer"
      ]
     },
     "execution_count": 5,
     "metadata": {},
     "output_type": "execute_result"
    }
   ],
   "source": [
    "# Before doing anything else, let's create a function out\n",
    "# of the things we're doing above\n",
    "def execute_query(query_string, return_pandas=True, limit=' LIMIT 20;'):\n",
    "    con = psycopg2.connect(database='drinks', user='lhl_student', password='lhl_password',\n",
    "                       host='127.0.0.1', port='5432')\n",
    "    cur = con.cursor()\n",
    "    if limit:\n",
    "        query_string+=limit\n",
    "    if return_pandas:\n",
    "        response = pd.read_sql_query(query_string, con)\n",
    "    else:\n",
    "        cur.execute(query_string)\n",
    "        response = cur.fetchall()\n",
    "    con.close()\n",
    "    return response\n",
    "\n",
    "\n",
    "# Let's try out our function to make sure it does\n",
    "# the same as what we have above\n",
    "\n",
    "query = \"\"\"\n",
    "SELECT * \n",
    "FROM drinks\n",
    "\"\"\"\n",
    "execute_query(query, limit=None)"
   ]
  },
  {
   "cell_type": "markdown",
   "metadata": {},
   "source": [
    "# Some SQL references before we get started\n",
    "![](../../assets/sql-cheat-sheet.png)\n",
    "\n",
    "## Order of operations\n",
    "![](../../assets/order_of_operations.png)"
   ]
  },
  {
   "cell_type": "markdown",
   "metadata": {},
   "source": [
    "# Time to start writing some queries"
   ]
  },
  {
   "cell_type": "markdown",
   "metadata": {},
   "source": [
    "## Problem 1\n",
    "Get the bar name and average price of drinks at each bar."
   ]
  },
  {
   "cell_type": "code",
   "execution_count": 9,
   "metadata": {
    "scrolled": true
   },
   "outputs": [
    {
     "ename": "DatabaseError",
     "evalue": "Execution failed on sql '\nSELECT name, average\n LIMIT 20;': column \"name\" does not exist\nLINE 2: SELECT name, average\n               ^\n",
     "output_type": "error",
     "traceback": [
      "\u001b[0;31m---------------------------------------------------------------------------\u001b[0m",
      "\u001b[0;31mUndefinedColumn\u001b[0m                           Traceback (most recent call last)",
      "File \u001b[0;32m/opt/homebrew/Caskroom/miniforge/base/envs/base_env/lib/python3.8/site-packages/pandas/io/sql.py:2023\u001b[0m, in \u001b[0;36mSQLiteDatabase.execute\u001b[0;34m(self, *args, **kwargs)\u001b[0m\n\u001b[1;32m   2022\u001b[0m \u001b[38;5;28;01mtry\u001b[39;00m:\n\u001b[0;32m-> 2023\u001b[0m     \u001b[43mcur\u001b[49m\u001b[38;5;241;43m.\u001b[39;49m\u001b[43mexecute\u001b[49m\u001b[43m(\u001b[49m\u001b[38;5;241;43m*\u001b[39;49m\u001b[43margs\u001b[49m\u001b[43m,\u001b[49m\u001b[43m \u001b[49m\u001b[38;5;241;43m*\u001b[39;49m\u001b[38;5;241;43m*\u001b[39;49m\u001b[43mkwargs\u001b[49m\u001b[43m)\u001b[49m\n\u001b[1;32m   2024\u001b[0m     \u001b[38;5;28;01mreturn\u001b[39;00m cur\n",
      "\u001b[0;31mUndefinedColumn\u001b[0m: column \"name\" does not exist\nLINE 2: SELECT name, average\n               ^\n",
      "\nThe above exception was the direct cause of the following exception:\n",
      "\u001b[0;31mDatabaseError\u001b[0m                             Traceback (most recent call last)",
      "Input \u001b[0;32mIn [9]\u001b[0m, in \u001b[0;36m<cell line: 1>\u001b[0;34m()\u001b[0m\n\u001b[0;32m----> 1\u001b[0m \u001b[43mexecute_query\u001b[49m\u001b[43m(\u001b[49m\u001b[38;5;124;43m\"\"\"\u001b[39;49m\n\u001b[1;32m      2\u001b[0m \u001b[38;5;124;43mSELECT name, average\u001b[39;49m\n\u001b[1;32m      3\u001b[0m \u001b[38;5;124;43m\"\"\"\u001b[39;49m\u001b[43m)\u001b[49m\n",
      "Input \u001b[0;32mIn [5]\u001b[0m, in \u001b[0;36mexecute_query\u001b[0;34m(query_string, return_pandas, limit)\u001b[0m\n\u001b[1;32m      8\u001b[0m     query_string\u001b[38;5;241m+\u001b[39m\u001b[38;5;241m=\u001b[39mlimit\n\u001b[1;32m      9\u001b[0m \u001b[38;5;28;01mif\u001b[39;00m return_pandas:\n\u001b[0;32m---> 10\u001b[0m     response \u001b[38;5;241m=\u001b[39m \u001b[43mpd\u001b[49m\u001b[38;5;241;43m.\u001b[39;49m\u001b[43mread_sql_query\u001b[49m\u001b[43m(\u001b[49m\u001b[43mquery_string\u001b[49m\u001b[43m,\u001b[49m\u001b[43m \u001b[49m\u001b[43mcon\u001b[49m\u001b[43m)\u001b[49m\n\u001b[1;32m     11\u001b[0m \u001b[38;5;28;01melse\u001b[39;00m:\n\u001b[1;32m     12\u001b[0m     cur\u001b[38;5;241m.\u001b[39mexecute(query_string)\n",
      "File \u001b[0;32m/opt/homebrew/Caskroom/miniforge/base/envs/base_env/lib/python3.8/site-packages/pandas/io/sql.py:400\u001b[0m, in \u001b[0;36mread_sql_query\u001b[0;34m(sql, con, index_col, coerce_float, params, parse_dates, chunksize, dtype)\u001b[0m\n\u001b[1;32m    342\u001b[0m \u001b[38;5;124;03m\"\"\"\u001b[39;00m\n\u001b[1;32m    343\u001b[0m \u001b[38;5;124;03mRead SQL query into a DataFrame.\u001b[39;00m\n\u001b[1;32m    344\u001b[0m \n\u001b[0;32m   (...)\u001b[0m\n\u001b[1;32m    397\u001b[0m \u001b[38;5;124;03mparameter will be converted to UTC.\u001b[39;00m\n\u001b[1;32m    398\u001b[0m \u001b[38;5;124;03m\"\"\"\u001b[39;00m\n\u001b[1;32m    399\u001b[0m pandas_sql \u001b[38;5;241m=\u001b[39m pandasSQL_builder(con)\n\u001b[0;32m--> 400\u001b[0m \u001b[38;5;28;01mreturn\u001b[39;00m \u001b[43mpandas_sql\u001b[49m\u001b[38;5;241;43m.\u001b[39;49m\u001b[43mread_query\u001b[49m\u001b[43m(\u001b[49m\n\u001b[1;32m    401\u001b[0m \u001b[43m    \u001b[49m\u001b[43msql\u001b[49m\u001b[43m,\u001b[49m\n\u001b[1;32m    402\u001b[0m \u001b[43m    \u001b[49m\u001b[43mindex_col\u001b[49m\u001b[38;5;241;43m=\u001b[39;49m\u001b[43mindex_col\u001b[49m\u001b[43m,\u001b[49m\n\u001b[1;32m    403\u001b[0m \u001b[43m    \u001b[49m\u001b[43mparams\u001b[49m\u001b[38;5;241;43m=\u001b[39;49m\u001b[43mparams\u001b[49m\u001b[43m,\u001b[49m\n\u001b[1;32m    404\u001b[0m \u001b[43m    \u001b[49m\u001b[43mcoerce_float\u001b[49m\u001b[38;5;241;43m=\u001b[39;49m\u001b[43mcoerce_float\u001b[49m\u001b[43m,\u001b[49m\n\u001b[1;32m    405\u001b[0m \u001b[43m    \u001b[49m\u001b[43mparse_dates\u001b[49m\u001b[38;5;241;43m=\u001b[39;49m\u001b[43mparse_dates\u001b[49m\u001b[43m,\u001b[49m\n\u001b[1;32m    406\u001b[0m \u001b[43m    \u001b[49m\u001b[43mchunksize\u001b[49m\u001b[38;5;241;43m=\u001b[39;49m\u001b[43mchunksize\u001b[49m\u001b[43m,\u001b[49m\n\u001b[1;32m    407\u001b[0m \u001b[43m    \u001b[49m\u001b[43mdtype\u001b[49m\u001b[38;5;241;43m=\u001b[39;49m\u001b[43mdtype\u001b[49m\u001b[43m,\u001b[49m\n\u001b[1;32m    408\u001b[0m \u001b[43m\u001b[49m\u001b[43m)\u001b[49m\n",
      "File \u001b[0;32m/opt/homebrew/Caskroom/miniforge/base/envs/base_env/lib/python3.8/site-packages/pandas/io/sql.py:2083\u001b[0m, in \u001b[0;36mSQLiteDatabase.read_query\u001b[0;34m(self, sql, index_col, coerce_float, params, parse_dates, chunksize, dtype)\u001b[0m\n\u001b[1;32m   2071\u001b[0m \u001b[38;5;28;01mdef\u001b[39;00m \u001b[38;5;21mread_query\u001b[39m(\n\u001b[1;32m   2072\u001b[0m     \u001b[38;5;28mself\u001b[39m,\n\u001b[1;32m   2073\u001b[0m     sql,\n\u001b[0;32m   (...)\u001b[0m\n\u001b[1;32m   2079\u001b[0m     dtype: DtypeArg \u001b[38;5;241m|\u001b[39m \u001b[38;5;28;01mNone\u001b[39;00m \u001b[38;5;241m=\u001b[39m \u001b[38;5;28;01mNone\u001b[39;00m,\n\u001b[1;32m   2080\u001b[0m ):\n\u001b[1;32m   2082\u001b[0m     args \u001b[38;5;241m=\u001b[39m _convert_params(sql, params)\n\u001b[0;32m-> 2083\u001b[0m     cursor \u001b[38;5;241m=\u001b[39m \u001b[38;5;28;43mself\u001b[39;49m\u001b[38;5;241;43m.\u001b[39;49m\u001b[43mexecute\u001b[49m\u001b[43m(\u001b[49m\u001b[38;5;241;43m*\u001b[39;49m\u001b[43margs\u001b[49m\u001b[43m)\u001b[49m\n\u001b[1;32m   2084\u001b[0m     columns \u001b[38;5;241m=\u001b[39m [col_desc[\u001b[38;5;241m0\u001b[39m] \u001b[38;5;28;01mfor\u001b[39;00m col_desc \u001b[38;5;129;01min\u001b[39;00m cursor\u001b[38;5;241m.\u001b[39mdescription]\n\u001b[1;32m   2086\u001b[0m     \u001b[38;5;28;01mif\u001b[39;00m chunksize \u001b[38;5;129;01mis\u001b[39;00m \u001b[38;5;129;01mnot\u001b[39;00m \u001b[38;5;28;01mNone\u001b[39;00m:\n",
      "File \u001b[0;32m/opt/homebrew/Caskroom/miniforge/base/envs/base_env/lib/python3.8/site-packages/pandas/io/sql.py:2035\u001b[0m, in \u001b[0;36mSQLiteDatabase.execute\u001b[0;34m(self, *args, **kwargs)\u001b[0m\n\u001b[1;32m   2032\u001b[0m     \u001b[38;5;28;01mraise\u001b[39;00m ex \u001b[38;5;28;01mfrom\u001b[39;00m \u001b[38;5;21;01minner_exc\u001b[39;00m\n\u001b[1;32m   2034\u001b[0m ex \u001b[38;5;241m=\u001b[39m DatabaseError(\u001b[38;5;124mf\u001b[39m\u001b[38;5;124m\"\u001b[39m\u001b[38;5;124mExecution failed on sql \u001b[39m\u001b[38;5;124m'\u001b[39m\u001b[38;5;132;01m{\u001b[39;00margs[\u001b[38;5;241m0\u001b[39m]\u001b[38;5;132;01m}\u001b[39;00m\u001b[38;5;124m'\u001b[39m\u001b[38;5;124m: \u001b[39m\u001b[38;5;132;01m{\u001b[39;00mexc\u001b[38;5;132;01m}\u001b[39;00m\u001b[38;5;124m\"\u001b[39m)\n\u001b[0;32m-> 2035\u001b[0m \u001b[38;5;28;01mraise\u001b[39;00m ex \u001b[38;5;28;01mfrom\u001b[39;00m \u001b[38;5;21;01mexc\u001b[39;00m\n",
      "\u001b[0;31mDatabaseError\u001b[0m: Execution failed on sql '\nSELECT name, average\n LIMIT 20;': column \"name\" does not exist\nLINE 2: SELECT name, average\n               ^\n"
     ]
    }
   ],
   "source": [
    "execute_query(\"\"\"\n",
    "SELECT name, average\n",
    "\"\"\")"
   ]
  },
  {
   "cell_type": "markdown",
   "metadata": {},
   "source": [
    "## Problem 2\n",
    "Get the bars with the top 5 average prices."
   ]
  },
  {
   "cell_type": "code",
   "execution_count": null,
   "metadata": {},
   "outputs": [],
   "source": [
    "execute_query(\"\"\"\n",
    "\n",
    "\"\"\", )"
   ]
  },
  {
   "cell_type": "markdown",
   "metadata": {},
   "source": [
    "## Problem 3\n",
    "Get the bar with the cheapest drink, along with the drink type and price."
   ]
  },
  {
   "cell_type": "code",
   "execution_count": null,
   "metadata": {},
   "outputs": [],
   "source": [
    "execute_query(\"\"\"\n",
    "\n",
    "\"\"\", )"
   ]
  },
  {
   "cell_type": "markdown",
   "metadata": {},
   "source": [
    "## Problem 4\n",
    "Get the number of beers sold by each bar in descending order (number of beers sold, not the number of beers on their menu)."
   ]
  },
  {
   "cell_type": "code",
   "execution_count": null,
   "metadata": {},
   "outputs": [],
   "source": [
    "execute_query(\"\"\"\n",
    "SELECT bar, COUNT(*) as beersSold\n",
    "FROM orders\n",
    "LEFT JOIN drinks ON orders.drink_id = drinks.drink_id\n",
    "WHERE drinks.type = 'beer'\n",
    "group by 1\n",
    "order by 2 desc\n",
    "\"\"\")"
   ]
  },
  {
   "cell_type": "markdown",
   "metadata": {},
   "source": [
    "## Problem 5\n",
    "For each person, find the bar they visit, and the type(s) and price(s) of the drink(s) they drink during those visits."
   ]
  },
  {
   "cell_type": "code",
   "execution_count": null,
   "metadata": {},
   "outputs": [],
   "source": [
    "execute_query(\"\"\"\n",
    "select \n",
    "distinct \n",
    "o.person, o.bar, d.type, mi.price\n",
    "FROM orders o\n",
    "LEFT JOIN menu_items mi on o.drink_id = mi.drink_id and o.bar = mi.bar\n",
    "LEFT JOIN drinks d on d.drink_id = o.drink_id\n",
    "\"\"\")"
   ]
  },
  {
   "cell_type": "markdown",
   "metadata": {},
   "source": [
    "## Bonus: Problem 6\n",
    "Your restraunt chain is loosing business, how can we find out what the last bar a person visited, can we attribute this bar to being a root cause to why our customers are leaving ?"
   ]
  },
  {
   "cell_type": "code",
   "execution_count": null,
   "metadata": {},
   "outputs": [],
   "source": [
    "execute_query(\"\"\"\n",
    "select * from (\n",
    "select person, date, bar, row_number() over (partition by person order by date desc) as vist_number\n",
    "from orders\n",
    ") as t\n",
    "where t.vist_number = 1\n",
    "\"\"\", limit=None)"
   ]
  },
  {
   "cell_type": "code",
   "execution_count": null,
   "metadata": {},
   "outputs": [],
   "source": [
    "execute_query(\"\"\"\n",
    "select max(date), min(date)\n",
    "from orders\n",
    "\"\"\")"
   ]
  },
  {
   "cell_type": "markdown",
   "metadata": {},
   "source": [
    "## Drinks Database Schema Diagram\n",
    "<img src=\"../../assets/drinks_schema_diagram.png\" width=\"750\"/>"
   ]
  },
  {
   "cell_type": "markdown",
   "metadata": {},
   "source": [
    "# Below are my answers"
   ]
  },
  {
   "cell_type": "markdown",
   "metadata": {},
   "source": [
    "## Answer 1"
   ]
  },
  {
   "cell_type": "code",
   "execution_count": null,
   "metadata": {},
   "outputs": [],
   "source": [
    "execute_query(\"\"\"\n",
    "SELECT bar, AVG()\n",
    "\"\"\")"
   ]
  },
  {
   "cell_type": "markdown",
   "metadata": {},
   "source": [
    "## Answer 2"
   ]
  },
  {
   "cell_type": "code",
   "execution_count": null,
   "metadata": {},
   "outputs": [],
   "source": [
    "execute_query(\"\"\"\n",
    "SELECT bar, AVG(price) AS avg_price\n",
    "FROM menu_items\n",
    "GROUP BY bar\n",
    "ORDER BY avg_price DESC\n",
    "\"\"\", limit = 'LIMIT 5')"
   ]
  },
  {
   "cell_type": "markdown",
   "metadata": {},
   "source": [
    "## Answer 3"
   ]
  },
  {
   "cell_type": "code",
   "execution_count": null,
   "metadata": {},
   "outputs": [],
   "source": [
    "execute_query(\"\"\"\n",
    "SELECT bar, drink_id, price\n",
    "FROM menu_items\n",
    "ORDER BY price ASC\n",
    "\"\"\", limit='LIMIT 1;')"
   ]
  },
  {
   "cell_type": "markdown",
   "metadata": {},
   "source": [
    "## Answer 4"
   ]
  },
  {
   "cell_type": "code",
   "execution_count": null,
   "metadata": {},
   "outputs": [],
   "source": [
    "execute_query(\"\"\"\n",
    "SELECT orders.bar, SUM(orders.quantity) as beers_sold \n",
    "FROM orders\n",
    "JOIN drinks ON drinks.drink_id = orders.drink_id\n",
    "WHERE drinks.type LIKE '%beer%'\n",
    "GROUP BY orders.bar\n",
    "ORDER BY beers_sold DESC\n",
    "\"\"\")"
   ]
  },
  {
   "cell_type": "markdown",
   "metadata": {},
   "source": [
    "## Answer 5"
   ]
  },
  {
   "cell_type": "code",
   "execution_count": null,
   "metadata": {},
   "outputs": [],
   "source": [
    "execute_query(\"\"\"\n",
    "SELECT o.person, o.bar, d.type, d.drink_id, h.price\n",
    "FROM orders AS o\n",
    "JOIN menu_items AS h ON (o.drink_id = h.drink_id AND o.bar = h.bar) \n",
    "JOIN drinks AS d ON o.drink_id = d.drink_id\n",
    "GROUP BY o.person, o.bar, d.type, d.drink_id, h.price\n",
    "\"\"\")"
   ]
  },
  {
   "cell_type": "markdown",
   "metadata": {},
   "source": [
    "# Remember to close your database connection when you're done.\n",
    "**Note**: If you run this cell then try to run queries, it won't work.\n",
    "You will have to re-run the cell that initialized the connection."
   ]
  },
  {
   "cell_type": "code",
   "execution_count": null,
   "metadata": {},
   "outputs": [],
   "source": [
    "con.close()"
   ]
  },
  {
   "cell_type": "code",
   "execution_count": null,
   "metadata": {},
   "outputs": [],
   "source": []
  }
 ],
 "metadata": {
  "kernelspec": {
   "display_name": "Python 3 (ipykernel)",
   "language": "python",
   "name": "python3"
  },
  "language_info": {
   "codemirror_mode": {
    "name": "ipython",
    "version": 3
   },
   "file_extension": ".py",
   "mimetype": "text/x-python",
   "name": "python",
   "nbconvert_exporter": "python",
   "pygments_lexer": "ipython3",
   "version": "3.8.13"
  }
 },
 "nbformat": 4,
 "nbformat_minor": 4
}
