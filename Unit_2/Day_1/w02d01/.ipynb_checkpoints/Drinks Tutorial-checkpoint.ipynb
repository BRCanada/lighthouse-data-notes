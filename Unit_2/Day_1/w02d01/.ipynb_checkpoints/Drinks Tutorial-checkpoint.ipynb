{
 "cells": [
  {
   "cell_type": "code",
   "execution_count": null,
   "id": "01ecc149",
   "metadata": {},
   "outputs": [],
   "source": [
    "import psycopg2 as psy\n",
    "import pandas as pd\n",
    "\n",
    "con = psy.connect(database='drinks', user='lhl_student', password='lhl_student', host='127.0.0.1', port='5432')\n",
    "\n",
    "cur = con.cursor()\n",
    "\n",
    "cur.execute(open('../../migrations/drinks.sql', 'r').read())\n",
    "con.commit()\n",
    "            "
   ]
  }
 ],
 "metadata": {
  "kernelspec": {
   "display_name": "Python 3 (ipykernel)",
   "language": "python",
   "name": "python3"
  },
  "language_info": {
   "codemirror_mode": {
    "name": "ipython",
    "version": 3
   },
   "file_extension": ".py",
   "mimetype": "text/x-python",
   "name": "python",
   "nbconvert_exporter": "python",
   "pygments_lexer": "ipython3",
   "version": "3.8.13"
  }
 },
 "nbformat": 4,
 "nbformat_minor": 5
}
