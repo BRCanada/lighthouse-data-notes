{
 "cells": [
  {
   "cell_type": "markdown",
   "id": "1ea2fcc4",
   "metadata": {},
   "source": [
    "# Pandas Basics"
   ]
  },
  {
   "cell_type": "code",
   "execution_count": 1,
   "id": "fa142893",
   "metadata": {},
   "outputs": [],
   "source": [
    "import numpy as np\n",
    "import pandas as pd"
   ]
  },
  {
   "cell_type": "markdown",
   "id": "615510bd",
   "metadata": {},
   "source": [
    "Series and DataFrame have the binary comparison methods eq, ne, lt, gt, le, and ge whose behavior is vectorized:"
   ]
  },
  {
   "cell_type": "code",
   "execution_count": 2,
   "id": "ea2ae341",
   "metadata": {},
   "outputs": [],
   "source": [
    "df = pd.DataFrame({\n",
    "        'one': pd.Series(np.random.randn(3), index=['a', 'b', 'c']),\n",
    "        'two': pd.Series(np.random.randn(4), index=['a', 'b', 'c', 'd']),\n",
    "        'three': pd.Series(np.random.randn(3), index=['b', 'c', 'd'])})"
   ]
  },
  {
   "cell_type": "code",
   "execution_count": 3,
   "id": "0fed06fd",
   "metadata": {},
   "outputs": [],
   "source": [
    "df2 = df.copy()"
   ]
  },
  {
   "cell_type": "code",
   "execution_count": 4,
   "id": "e686140b",
   "metadata": {},
   "outputs": [
    {
     "data": {
      "text/html": [
       "<div>\n",
       "<style scoped>\n",
       "    .dataframe tbody tr th:only-of-type {\n",
       "        vertical-align: middle;\n",
       "    }\n",
       "\n",
       "    .dataframe tbody tr th {\n",
       "        vertical-align: top;\n",
       "    }\n",
       "\n",
       "    .dataframe thead th {\n",
       "        text-align: right;\n",
       "    }\n",
       "</style>\n",
       "<table border=\"1\" class=\"dataframe\">\n",
       "  <thead>\n",
       "    <tr style=\"text-align: right;\">\n",
       "      <th></th>\n",
       "      <th>one</th>\n",
       "      <th>two</th>\n",
       "      <th>three</th>\n",
       "    </tr>\n",
       "  </thead>\n",
       "  <tbody>\n",
       "    <tr>\n",
       "      <th>a</th>\n",
       "      <td>False</td>\n",
       "      <td>False</td>\n",
       "      <td>False</td>\n",
       "    </tr>\n",
       "    <tr>\n",
       "      <th>b</th>\n",
       "      <td>False</td>\n",
       "      <td>False</td>\n",
       "      <td>False</td>\n",
       "    </tr>\n",
       "    <tr>\n",
       "      <th>c</th>\n",
       "      <td>False</td>\n",
       "      <td>False</td>\n",
       "      <td>False</td>\n",
       "    </tr>\n",
       "    <tr>\n",
       "      <th>d</th>\n",
       "      <td>False</td>\n",
       "      <td>False</td>\n",
       "      <td>False</td>\n",
       "    </tr>\n",
       "  </tbody>\n",
       "</table>\n",
       "</div>"
      ],
      "text/plain": [
       "     one    two  three\n",
       "a  False  False  False\n",
       "b  False  False  False\n",
       "c  False  False  False\n",
       "d  False  False  False"
      ]
     },
     "execution_count": 4,
     "metadata": {},
     "output_type": "execute_result"
    }
   ],
   "source": [
    "df.gt(df2)"
   ]
  },
  {
   "cell_type": "code",
   "execution_count": 5,
   "id": "e0fc9668",
   "metadata": {},
   "outputs": [
    {
     "data": {
      "text/html": [
       "<div>\n",
       "<style scoped>\n",
       "    .dataframe tbody tr th:only-of-type {\n",
       "        vertical-align: middle;\n",
       "    }\n",
       "\n",
       "    .dataframe tbody tr th {\n",
       "        vertical-align: top;\n",
       "    }\n",
       "\n",
       "    .dataframe thead th {\n",
       "        text-align: right;\n",
       "    }\n",
       "</style>\n",
       "<table border=\"1\" class=\"dataframe\">\n",
       "  <thead>\n",
       "    <tr style=\"text-align: right;\">\n",
       "      <th></th>\n",
       "      <th>one</th>\n",
       "      <th>two</th>\n",
       "      <th>three</th>\n",
       "    </tr>\n",
       "  </thead>\n",
       "  <tbody>\n",
       "    <tr>\n",
       "      <th>a</th>\n",
       "      <td>False</td>\n",
       "      <td>False</td>\n",
       "      <td>True</td>\n",
       "    </tr>\n",
       "    <tr>\n",
       "      <th>b</th>\n",
       "      <td>False</td>\n",
       "      <td>False</td>\n",
       "      <td>False</td>\n",
       "    </tr>\n",
       "    <tr>\n",
       "      <th>c</th>\n",
       "      <td>False</td>\n",
       "      <td>False</td>\n",
       "      <td>False</td>\n",
       "    </tr>\n",
       "    <tr>\n",
       "      <th>d</th>\n",
       "      <td>True</td>\n",
       "      <td>False</td>\n",
       "      <td>False</td>\n",
       "    </tr>\n",
       "  </tbody>\n",
       "</table>\n",
       "</div>"
      ],
      "text/plain": [
       "     one    two  three\n",
       "a  False  False   True\n",
       "b  False  False  False\n",
       "c  False  False  False\n",
       "d   True  False  False"
      ]
     },
     "execution_count": 5,
     "metadata": {},
     "output_type": "execute_result"
    }
   ],
   "source": [
    "df2.ne(df)"
   ]
  },
  {
   "cell_type": "markdown",
   "id": "39b6d1f1",
   "metadata": {},
   "source": [
    "We can apply reductions: **empty, any(), all()** and **bool()** to provide a way to summarize a boolean result"
   ]
  },
  {
   "cell_type": "code",
   "execution_count": 6,
   "id": "08c58bac",
   "metadata": {},
   "outputs": [
    {
     "data": {
      "text/plain": [
       "one      False\n",
       "two      False\n",
       "three    False\n",
       "dtype: bool"
      ]
     },
     "execution_count": 6,
     "metadata": {},
     "output_type": "execute_result"
    }
   ],
   "source": [
    "(df > 0).all()"
   ]
  },
  {
   "cell_type": "code",
   "execution_count": 7,
   "id": "8539d9c4",
   "metadata": {},
   "outputs": [
    {
     "data": {
      "text/plain": [
       "one      True\n",
       "two      True\n",
       "three    True\n",
       "dtype: bool"
      ]
     },
     "execution_count": 7,
     "metadata": {},
     "output_type": "execute_result"
    }
   ],
   "source": [
    "(df > 0).any()"
   ]
  },
  {
   "cell_type": "code",
   "execution_count": 8,
   "id": "3ccc8e58",
   "metadata": {},
   "outputs": [
    {
     "data": {
      "text/plain": [
       "True"
      ]
     },
     "execution_count": 8,
     "metadata": {},
     "output_type": "execute_result"
    }
   ],
   "source": [
    "(df > 0).any().any()"
   ]
  },
  {
   "cell_type": "markdown",
   "id": "124f4a57",
   "metadata": {},
   "source": [
    "To evaluate single-element pandas as a boolean, use the method **bool()**:"
   ]
  },
  {
   "cell_type": "code",
   "execution_count": 9,
   "id": "aa450d38",
   "metadata": {},
   "outputs": [
    {
     "data": {
      "text/plain": [
       "True"
      ]
     },
     "execution_count": 9,
     "metadata": {},
     "output_type": "execute_result"
    }
   ],
   "source": [
    "pd.Series([True]).bool()"
   ]
  },
  {
   "cell_type": "code",
   "execution_count": 10,
   "id": "183a7037",
   "metadata": {},
   "outputs": [
    {
     "data": {
      "text/plain": [
       "False"
      ]
     },
     "execution_count": 10,
     "metadata": {},
     "output_type": "execute_result"
    }
   ],
   "source": [
    "pd.Series([False]).bool()"
   ]
  },
  {
   "cell_type": "code",
   "execution_count": 11,
   "id": "5f003dd3",
   "metadata": {},
   "outputs": [
    {
     "data": {
      "text/plain": [
       "True"
      ]
     },
     "execution_count": 11,
     "metadata": {},
     "output_type": "execute_result"
    }
   ],
   "source": [
    "pd.DataFrame([[True]]).bool()"
   ]
  },
  {
   "cell_type": "code",
   "execution_count": 12,
   "id": "abd7a9f8",
   "metadata": {},
   "outputs": [
    {
     "data": {
      "text/plain": [
       "False"
      ]
     },
     "execution_count": 12,
     "metadata": {},
     "output_type": "execute_result"
    }
   ],
   "source": [
    "pd.DataFrame([[False]]).bool()"
   ]
  },
  {
   "cell_type": "markdown",
   "id": "b50bad83",
   "metadata": {},
   "source": [
    "## Object comparison\n",
    "You can conveniently perform element-wise comparisons when comparing a pandas data structure with a scalar value:"
   ]
  },
  {
   "cell_type": "code",
   "execution_count": 13,
   "id": "c964dbc0",
   "metadata": {},
   "outputs": [
    {
     "data": {
      "text/plain": [
       "0     True\n",
       "1    False\n",
       "2    False\n",
       "dtype: bool"
      ]
     },
     "execution_count": 13,
     "metadata": {},
     "output_type": "execute_result"
    }
   ],
   "source": [
    "pd.Series(['foo', 'bar', 'baz']) == 'foo'"
   ]
  },
  {
   "cell_type": "markdown",
   "id": "0cd037e6",
   "metadata": {},
   "source": [
    "Pandas also handles element-wise comparisons between different array-like objects of the same length:"
   ]
  },
  {
   "cell_type": "code",
   "execution_count": 14,
   "id": "23488821",
   "metadata": {},
   "outputs": [
    {
     "data": {
      "text/plain": [
       "0     True\n",
       "1     True\n",
       "2    False\n",
       "dtype: bool"
      ]
     },
     "execution_count": 14,
     "metadata": {},
     "output_type": "execute_result"
    }
   ],
   "source": [
    "pd.Series(['foo','bar','baz']) == pd.Index(['foo', 'bar', 'qux'])"
   ]
  },
  {
   "cell_type": "markdown",
   "id": "015081f4",
   "metadata": {},
   "source": [
    "Often you may find that there is more than one way to compute the same result. For example consider *df + df* and *df * 2*. to test that these two computations produce the same result, given the tools shown above, you might imagine using **(df + df == df * 2).all().all()**"
   ]
  },
  {
   "cell_type": "code",
   "execution_count": 15,
   "id": "b3cdfdcd",
   "metadata": {},
   "outputs": [
    {
     "data": {
      "text/plain": [
       "False"
      ]
     },
     "execution_count": 15,
     "metadata": {},
     "output_type": "execute_result"
    }
   ],
   "source": [
    "(df + df == df * 2).all().all()"
   ]
  },
  {
   "cell_type": "markdown",
   "id": "c93f9dda",
   "metadata": {},
   "source": [
    "The result is False, let's dive a bit deeper:"
   ]
  },
  {
   "cell_type": "code",
   "execution_count": 16,
   "id": "5f86f888",
   "metadata": {},
   "outputs": [
    {
     "data": {
      "text/plain": [
       "one      False\n",
       "two       True\n",
       "three    False\n",
       "dtype: bool"
      ]
     },
     "execution_count": 16,
     "metadata": {},
     "output_type": "execute_result"
    }
   ],
   "source": [
    "(df + df == df * 2).all()"
   ]
  },
  {
   "cell_type": "code",
   "execution_count": 17,
   "id": "1e96efcf",
   "metadata": {},
   "outputs": [
    {
     "data": {
      "text/html": [
       "<div>\n",
       "<style scoped>\n",
       "    .dataframe tbody tr th:only-of-type {\n",
       "        vertical-align: middle;\n",
       "    }\n",
       "\n",
       "    .dataframe tbody tr th {\n",
       "        vertical-align: top;\n",
       "    }\n",
       "\n",
       "    .dataframe thead th {\n",
       "        text-align: right;\n",
       "    }\n",
       "</style>\n",
       "<table border=\"1\" class=\"dataframe\">\n",
       "  <thead>\n",
       "    <tr style=\"text-align: right;\">\n",
       "      <th></th>\n",
       "      <th>one</th>\n",
       "      <th>two</th>\n",
       "      <th>three</th>\n",
       "    </tr>\n",
       "  </thead>\n",
       "  <tbody>\n",
       "    <tr>\n",
       "      <th>a</th>\n",
       "      <td>True</td>\n",
       "      <td>True</td>\n",
       "      <td>False</td>\n",
       "    </tr>\n",
       "    <tr>\n",
       "      <th>b</th>\n",
       "      <td>True</td>\n",
       "      <td>True</td>\n",
       "      <td>True</td>\n",
       "    </tr>\n",
       "    <tr>\n",
       "      <th>c</th>\n",
       "      <td>True</td>\n",
       "      <td>True</td>\n",
       "      <td>True</td>\n",
       "    </tr>\n",
       "    <tr>\n",
       "      <th>d</th>\n",
       "      <td>False</td>\n",
       "      <td>True</td>\n",
       "      <td>True</td>\n",
       "    </tr>\n",
       "  </tbody>\n",
       "</table>\n",
       "</div>"
      ],
      "text/plain": [
       "     one   two  three\n",
       "a   True  True  False\n",
       "b   True  True   True\n",
       "c   True  True   True\n",
       "d  False  True   True"
      ]
     },
     "execution_count": 17,
     "metadata": {},
     "output_type": "execute_result"
    }
   ],
   "source": [
    "df + df == df * 2"
   ]
  },
  {
   "cell_type": "markdown",
   "id": "00a4b547",
   "metadata": {},
   "source": [
    "This happens because np.nan == np.nan returns False. So, Pandas objects (such as **Series** or **DataFrames**) have an **equals()** method for testing equality, with NaNs in correcponding locations treated as equal:"
   ]
  },
  {
   "cell_type": "code",
   "execution_count": 18,
   "id": "5fbed999",
   "metadata": {},
   "outputs": [
    {
     "data": {
      "text/plain": [
       "True"
      ]
     },
     "execution_count": 18,
     "metadata": {},
     "output_type": "execute_result"
    }
   ],
   "source": [
    "(df+df).equals(df * 2)"
   ]
  },
  {
   "cell_type": "markdown",
   "id": "cebe0637",
   "metadata": {},
   "source": [
    "## Descriptive Statistics\n",
    "There exists a large number of methods for computing descriptive statistics and other related operations on Series, DataFrame. All of them are vectorized. Most of them are aggregations and produce a lower dimensional result. These generally take an axis as an argument, which can be specified with an integer:"
   ]
  },
  {
   "cell_type": "code",
   "execution_count": 19,
   "id": "3e184dbf",
   "metadata": {},
   "outputs": [
    {
     "data": {
      "text/plain": [
       "one     -0.194999\n",
       "two     -0.810660\n",
       "three    0.151186\n",
       "dtype: float64"
      ]
     },
     "execution_count": 19,
     "metadata": {},
     "output_type": "execute_result"
    }
   ],
   "source": [
    "#Aggregation for each column\n",
    "df.mean(0)"
   ]
  },
  {
   "cell_type": "code",
   "execution_count": 20,
   "id": "8816f5be",
   "metadata": {},
   "outputs": [
    {
     "data": {
      "text/plain": [
       "a   -0.376202\n",
       "b   -1.002115\n",
       "c    0.455200\n",
       "d   -0.490465\n",
       "dtype: float64"
      ]
     },
     "execution_count": 20,
     "metadata": {},
     "output_type": "execute_result"
    }
   ],
   "source": [
    "#aggregation for each index\n",
    "df.mean(1)"
   ]
  },
  {
   "cell_type": "markdown",
   "id": "0a3b4830",
   "metadata": {},
   "source": [
    "by applying vectorized operations, we can describe various statistical procedures, like **standardization** (rendering data zero mean and standard deviation 1) very concisely:"
   ]
  },
  {
   "cell_type": "code",
   "execution_count": 21,
   "id": "ea755f16",
   "metadata": {},
   "outputs": [],
   "source": [
    "ts_stand = (df - df.mean())/df.std()"
   ]
  },
  {
   "cell_type": "code",
   "execution_count": 22,
   "id": "0710c6e9",
   "metadata": {},
   "outputs": [
    {
     "data": {
      "text/plain": [
       "one      1.0\n",
       "two      1.0\n",
       "three    1.0\n",
       "dtype: float64"
      ]
     },
     "execution_count": 22,
     "metadata": {},
     "output_type": "execute_result"
    }
   ],
   "source": [
    "ts_stand.std()"
   ]
  },
  {
   "cell_type": "markdown",
   "id": "27fd939a",
   "metadata": {},
   "source": [
    "## Describe\n",
    "There is a function called **describe()** which computes a variety of summary statistics about a **Series** or the columns of a **DataFrame**:"
   ]
  },
  {
   "cell_type": "code",
   "execution_count": 23,
   "id": "e58a9cd7",
   "metadata": {},
   "outputs": [],
   "source": [
    "series = pd.Series(np.random.randn(1000))"
   ]
  },
  {
   "cell_type": "code",
   "execution_count": 24,
   "id": "c9918ecd",
   "metadata": {},
   "outputs": [],
   "source": [
    "series[::2] = np.nan"
   ]
  },
  {
   "cell_type": "code",
   "execution_count": 25,
   "id": "fc1862d1",
   "metadata": {},
   "outputs": [
    {
     "data": {
      "text/plain": [
       "count    500.000000\n",
       "mean      -0.056410\n",
       "std        0.985669\n",
       "min       -3.241225\n",
       "25%       -0.739566\n",
       "50%       -0.076814\n",
       "75%        0.609163\n",
       "max        2.782368\n",
       "dtype: float64"
      ]
     },
     "execution_count": 25,
     "metadata": {},
     "output_type": "execute_result"
    }
   ],
   "source": [
    "series.describe()"
   ]
  },
  {
   "cell_type": "code",
   "execution_count": 26,
   "id": "d381cff3",
   "metadata": {},
   "outputs": [],
   "source": [
    "frame = pd.DataFrame(np.random.randn(1000, 5), columns=['a','b','c','d','e'])"
   ]
  },
  {
   "cell_type": "code",
   "execution_count": 27,
   "id": "d8c4350d",
   "metadata": {},
   "outputs": [],
   "source": [
    "frame.iloc[::2] = np.nan"
   ]
  },
  {
   "cell_type": "code",
   "execution_count": 28,
   "id": "f5b891da",
   "metadata": {},
   "outputs": [
    {
     "data": {
      "text/html": [
       "<div>\n",
       "<style scoped>\n",
       "    .dataframe tbody tr th:only-of-type {\n",
       "        vertical-align: middle;\n",
       "    }\n",
       "\n",
       "    .dataframe tbody tr th {\n",
       "        vertical-align: top;\n",
       "    }\n",
       "\n",
       "    .dataframe thead th {\n",
       "        text-align: right;\n",
       "    }\n",
       "</style>\n",
       "<table border=\"1\" class=\"dataframe\">\n",
       "  <thead>\n",
       "    <tr style=\"text-align: right;\">\n",
       "      <th></th>\n",
       "      <th>a</th>\n",
       "      <th>b</th>\n",
       "      <th>c</th>\n",
       "      <th>d</th>\n",
       "      <th>e</th>\n",
       "    </tr>\n",
       "  </thead>\n",
       "  <tbody>\n",
       "    <tr>\n",
       "      <th>count</th>\n",
       "      <td>500.000000</td>\n",
       "      <td>500.000000</td>\n",
       "      <td>500.000000</td>\n",
       "      <td>500.000000</td>\n",
       "      <td>500.000000</td>\n",
       "    </tr>\n",
       "    <tr>\n",
       "      <th>mean</th>\n",
       "      <td>0.049990</td>\n",
       "      <td>0.071010</td>\n",
       "      <td>-0.007234</td>\n",
       "      <td>0.027557</td>\n",
       "      <td>-0.039284</td>\n",
       "    </tr>\n",
       "    <tr>\n",
       "      <th>std</th>\n",
       "      <td>1.001009</td>\n",
       "      <td>0.956795</td>\n",
       "      <td>0.959434</td>\n",
       "      <td>0.949941</td>\n",
       "      <td>1.013563</td>\n",
       "    </tr>\n",
       "    <tr>\n",
       "      <th>min</th>\n",
       "      <td>-2.747828</td>\n",
       "      <td>-2.496801</td>\n",
       "      <td>-2.659755</td>\n",
       "      <td>-2.662026</td>\n",
       "      <td>-2.974584</td>\n",
       "    </tr>\n",
       "    <tr>\n",
       "      <th>25%</th>\n",
       "      <td>-0.673492</td>\n",
       "      <td>-0.568158</td>\n",
       "      <td>-0.659670</td>\n",
       "      <td>-0.660620</td>\n",
       "      <td>-0.708518</td>\n",
       "    </tr>\n",
       "    <tr>\n",
       "      <th>50%</th>\n",
       "      <td>-0.006255</td>\n",
       "      <td>0.063941</td>\n",
       "      <td>-0.019203</td>\n",
       "      <td>0.028811</td>\n",
       "      <td>-0.013005</td>\n",
       "    </tr>\n",
       "    <tr>\n",
       "      <th>75%</th>\n",
       "      <td>0.719684</td>\n",
       "      <td>0.703167</td>\n",
       "      <td>0.664296</td>\n",
       "      <td>0.705656</td>\n",
       "      <td>0.671771</td>\n",
       "    </tr>\n",
       "    <tr>\n",
       "      <th>max</th>\n",
       "      <td>3.054749</td>\n",
       "      <td>3.417706</td>\n",
       "      <td>2.908934</td>\n",
       "      <td>2.860135</td>\n",
       "      <td>2.813484</td>\n",
       "    </tr>\n",
       "  </tbody>\n",
       "</table>\n",
       "</div>"
      ],
      "text/plain": [
       "                a           b           c           d           e\n",
       "count  500.000000  500.000000  500.000000  500.000000  500.000000\n",
       "mean     0.049990    0.071010   -0.007234    0.027557   -0.039284\n",
       "std      1.001009    0.956795    0.959434    0.949941    1.013563\n",
       "min     -2.747828   -2.496801   -2.659755   -2.662026   -2.974584\n",
       "25%     -0.673492   -0.568158   -0.659670   -0.660620   -0.708518\n",
       "50%     -0.006255    0.063941   -0.019203    0.028811   -0.013005\n",
       "75%      0.719684    0.703167    0.664296    0.705656    0.671771\n",
       "max      3.054749    3.417706    2.908934    2.860135    2.813484"
      ]
     },
     "execution_count": 28,
     "metadata": {},
     "output_type": "execute_result"
    }
   ],
   "source": [
    "frame.describe()"
   ]
  },
  {
   "cell_type": "markdown",
   "id": "93377bd3",
   "metadata": {},
   "source": [
    "For non-numerical Series objects, **describe()** will give a simple summary of the number of unique values and the most frequently occurring values:"
   ]
  },
  {
   "cell_type": "code",
   "execution_count": 29,
   "id": "5b0b7fa0",
   "metadata": {},
   "outputs": [],
   "source": [
    "s = pd.Series(['a','a','b','b','a','a', np.nan,'c','d','a'])"
   ]
  },
  {
   "cell_type": "code",
   "execution_count": 30,
   "id": "5f86ac18",
   "metadata": {},
   "outputs": [
    {
     "data": {
      "text/plain": [
       "count     9\n",
       "unique    4\n",
       "top       a\n",
       "freq      5\n",
       "dtype: object"
      ]
     },
     "execution_count": 30,
     "metadata": {},
     "output_type": "execute_result"
    }
   ],
   "source": [
    "s.describe()"
   ]
  },
  {
   "cell_type": "markdown",
   "id": "74253366",
   "metadata": {},
   "source": [
    "## Index of Min/Max Values\n",
    "the idxmin() and idxmax() functions on Series and DataFrame compute the index labels with the minimum and maximum corresponding values:"
   ]
  },
  {
   "cell_type": "code",
   "execution_count": 31,
   "id": "ed4bf837",
   "metadata": {},
   "outputs": [],
   "source": [
    "s1 = pd.Series(np.random.randn(5))"
   ]
  },
  {
   "cell_type": "code",
   "execution_count": 32,
   "id": "cd3402e4",
   "metadata": {},
   "outputs": [
    {
     "data": {
      "text/plain": [
       "0   -0.830181\n",
       "1    0.837229\n",
       "2    2.238835\n",
       "3    1.605637\n",
       "4    0.667196\n",
       "dtype: float64"
      ]
     },
     "execution_count": 32,
     "metadata": {},
     "output_type": "execute_result"
    }
   ],
   "source": [
    "s1"
   ]
  },
  {
   "cell_type": "code",
   "execution_count": 33,
   "id": "4dc914b2",
   "metadata": {},
   "outputs": [
    {
     "data": {
      "text/plain": [
       "(0, 2)"
      ]
     },
     "execution_count": 33,
     "metadata": {},
     "output_type": "execute_result"
    }
   ],
   "source": [
    "s1.idxmin(), s1.idxmax()"
   ]
  },
  {
   "cell_type": "code",
   "execution_count": 34,
   "id": "96c69662",
   "metadata": {},
   "outputs": [],
   "source": [
    "df1 = pd.DataFrame(np.random.randn(5, 3), columns=['A','B','C'])"
   ]
  },
  {
   "cell_type": "code",
   "execution_count": 35,
   "id": "e2f4dc37",
   "metadata": {},
   "outputs": [
    {
     "data": {
      "text/html": [
       "<div>\n",
       "<style scoped>\n",
       "    .dataframe tbody tr th:only-of-type {\n",
       "        vertical-align: middle;\n",
       "    }\n",
       "\n",
       "    .dataframe tbody tr th {\n",
       "        vertical-align: top;\n",
       "    }\n",
       "\n",
       "    .dataframe thead th {\n",
       "        text-align: right;\n",
       "    }\n",
       "</style>\n",
       "<table border=\"1\" class=\"dataframe\">\n",
       "  <thead>\n",
       "    <tr style=\"text-align: right;\">\n",
       "      <th></th>\n",
       "      <th>A</th>\n",
       "      <th>B</th>\n",
       "      <th>C</th>\n",
       "    </tr>\n",
       "  </thead>\n",
       "  <tbody>\n",
       "    <tr>\n",
       "      <th>0</th>\n",
       "      <td>-0.471870</td>\n",
       "      <td>-0.197041</td>\n",
       "      <td>-2.158075</td>\n",
       "    </tr>\n",
       "    <tr>\n",
       "      <th>1</th>\n",
       "      <td>-0.963045</td>\n",
       "      <td>-0.683484</td>\n",
       "      <td>1.798157</td>\n",
       "    </tr>\n",
       "    <tr>\n",
       "      <th>2</th>\n",
       "      <td>-1.290032</td>\n",
       "      <td>-1.446335</td>\n",
       "      <td>0.885046</td>\n",
       "    </tr>\n",
       "    <tr>\n",
       "      <th>3</th>\n",
       "      <td>1.261889</td>\n",
       "      <td>-1.198736</td>\n",
       "      <td>0.236263</td>\n",
       "    </tr>\n",
       "    <tr>\n",
       "      <th>4</th>\n",
       "      <td>0.527494</td>\n",
       "      <td>0.915877</td>\n",
       "      <td>-1.414600</td>\n",
       "    </tr>\n",
       "  </tbody>\n",
       "</table>\n",
       "</div>"
      ],
      "text/plain": [
       "          A         B         C\n",
       "0 -0.471870 -0.197041 -2.158075\n",
       "1 -0.963045 -0.683484  1.798157\n",
       "2 -1.290032 -1.446335  0.885046\n",
       "3  1.261889 -1.198736  0.236263\n",
       "4  0.527494  0.915877 -1.414600"
      ]
     },
     "execution_count": 35,
     "metadata": {},
     "output_type": "execute_result"
    }
   ],
   "source": [
    "df1"
   ]
  },
  {
   "cell_type": "code",
   "execution_count": 36,
   "id": "36a7df53",
   "metadata": {},
   "outputs": [
    {
     "data": {
      "text/plain": [
       "A    2\n",
       "B    2\n",
       "C    0\n",
       "dtype: int64"
      ]
     },
     "execution_count": 36,
     "metadata": {},
     "output_type": "execute_result"
    }
   ],
   "source": [
    "df1.idxmin(axis=0)"
   ]
  },
  {
   "cell_type": "code",
   "execution_count": 37,
   "id": "122d9844",
   "metadata": {},
   "outputs": [
    {
     "data": {
      "text/plain": [
       "0    B\n",
       "1    C\n",
       "2    C\n",
       "3    A\n",
       "4    B\n",
       "dtype: object"
      ]
     },
     "execution_count": 37,
     "metadata": {},
     "output_type": "execute_result"
    }
   ],
   "source": [
    "df1.idxmax(axis=1)"
   ]
  },
  {
   "cell_type": "markdown",
   "id": "93b82d14",
   "metadata": {},
   "source": [
    "## Iterations\n",
    "The behaviour of basic iterations over pandas object depends on the type. When iterating over a Series, it is regarded as array-like, and basic iterations produces the values. DataFrames follow the dict like convention of iterating over the keys of the objects. \n",
    "basic iteration (for i in object) produces:\n",
    "<br>\n",
    "<br> * Series: values\n",
    "    * DataFrame: column labels"
   ]
  },
  {
   "cell_type": "code",
   "execution_count": 38,
   "id": "1fa4bf23",
   "metadata": {},
   "outputs": [],
   "source": [
    "df = pd.DataFrame({'col1': np.random.randn(3),\n",
    "                      'col2': np.random.rand(3)}, index=['a','b','c'])"
   ]
  },
  {
   "cell_type": "code",
   "execution_count": 39,
   "id": "23496cf0",
   "metadata": {},
   "outputs": [
    {
     "name": "stdout",
     "output_type": "stream",
     "text": [
      "col1\n",
      "col2\n"
     ]
    }
   ],
   "source": [
    "for col in df:\n",
    "    print(col)"
   ]
  },
  {
   "cell_type": "markdown",
   "id": "2bb26048",
   "metadata": {},
   "source": [
    "## Pandas Viewing"
   ]
  },
  {
   "cell_type": "code",
   "execution_count": 40,
   "id": "d7abea92",
   "metadata": {},
   "outputs": [
    {
     "data": {
      "text/plain": [
       "0    1.0\n",
       "1    3.0\n",
       "2    5.0\n",
       "3    NaN\n",
       "4    6.0\n",
       "5    8.0\n",
       "dtype: float64"
      ]
     },
     "execution_count": 40,
     "metadata": {},
     "output_type": "execute_result"
    }
   ],
   "source": [
    "s = pd.Series([1, 3, 5, np.nan, 6, 8])\n",
    "s"
   ]
  },
  {
   "cell_type": "markdown",
   "id": "6a6388db",
   "metadata": {},
   "source": [
    "## Instruction\n",
    "create a DataFrame by passign a Numpy array with a datetime index and labelled columns:"
   ]
  },
  {
   "cell_type": "code",
   "execution_count": 41,
   "id": "44e9e8c6",
   "metadata": {},
   "outputs": [
    {
     "data": {
      "text/plain": [
       "DatetimeIndex(['2013-01-01', '2013-01-02', '2013-01-03', '2013-01-04',\n",
       "               '2013-01-05', '2013-01-06'],\n",
       "              dtype='datetime64[ns]', freq='D')"
      ]
     },
     "execution_count": 41,
     "metadata": {},
     "output_type": "execute_result"
    }
   ],
   "source": [
    "dates = pd.date_range('20130101', periods=6)\n",
    "dates"
   ]
  },
  {
   "cell_type": "markdown",
   "id": "a07870a7",
   "metadata": {},
   "source": [
    "## Instruction\n",
    "Create a DataFrame from a dict of objects"
   ]
  },
  {
   "cell_type": "code",
   "execution_count": 42,
   "id": "f5121566",
   "metadata": {},
   "outputs": [
    {
     "data": {
      "text/html": [
       "<div>\n",
       "<style scoped>\n",
       "    .dataframe tbody tr th:only-of-type {\n",
       "        vertical-align: middle;\n",
       "    }\n",
       "\n",
       "    .dataframe tbody tr th {\n",
       "        vertical-align: top;\n",
       "    }\n",
       "\n",
       "    .dataframe thead th {\n",
       "        text-align: right;\n",
       "    }\n",
       "</style>\n",
       "<table border=\"1\" class=\"dataframe\">\n",
       "  <thead>\n",
       "    <tr style=\"text-align: right;\">\n",
       "      <th></th>\n",
       "      <th>A</th>\n",
       "      <th>B</th>\n",
       "      <th>C</th>\n",
       "      <th>D</th>\n",
       "      <th>E</th>\n",
       "      <th>F</th>\n",
       "    </tr>\n",
       "  </thead>\n",
       "  <tbody>\n",
       "    <tr>\n",
       "      <th>0</th>\n",
       "      <td>1.0</td>\n",
       "      <td>2013-01-02</td>\n",
       "      <td>1.0</td>\n",
       "      <td>3</td>\n",
       "      <td>test</td>\n",
       "      <td>foo</td>\n",
       "    </tr>\n",
       "    <tr>\n",
       "      <th>1</th>\n",
       "      <td>1.0</td>\n",
       "      <td>2013-01-02</td>\n",
       "      <td>1.0</td>\n",
       "      <td>3</td>\n",
       "      <td>train</td>\n",
       "      <td>foo</td>\n",
       "    </tr>\n",
       "    <tr>\n",
       "      <th>2</th>\n",
       "      <td>1.0</td>\n",
       "      <td>2013-01-02</td>\n",
       "      <td>1.0</td>\n",
       "      <td>3</td>\n",
       "      <td>test</td>\n",
       "      <td>foo</td>\n",
       "    </tr>\n",
       "    <tr>\n",
       "      <th>3</th>\n",
       "      <td>1.0</td>\n",
       "      <td>2013-01-02</td>\n",
       "      <td>1.0</td>\n",
       "      <td>3</td>\n",
       "      <td>train</td>\n",
       "      <td>foo</td>\n",
       "    </tr>\n",
       "  </tbody>\n",
       "</table>\n",
       "</div>"
      ],
      "text/plain": [
       "     A          B    C  D      E    F\n",
       "0  1.0 2013-01-02  1.0  3   test  foo\n",
       "1  1.0 2013-01-02  1.0  3  train  foo\n",
       "2  1.0 2013-01-02  1.0  3   test  foo\n",
       "3  1.0 2013-01-02  1.0  3  train  foo"
      ]
     },
     "execution_count": 42,
     "metadata": {},
     "output_type": "execute_result"
    }
   ],
   "source": [
    "df2 = pd.DataFrame({'A': 1.0,\n",
    "                       'B': pd.Timestamp('20130102'),\n",
    "                       'C': pd.Series(1, index=list(range(4)), dtype='float32'),\n",
    "                       'D': np.array([3] * 4, dtype='int32'),\n",
    "                       'E': pd.Categorical([\"test\", \"train\", \"test\", \"train\"]),\n",
    "                       'F': 'foo'})\n",
    "df2"
   ]
  },
  {
   "cell_type": "markdown",
   "id": "d983464c",
   "metadata": {},
   "source": [
    "The columns of the resulting DataFrames have different dtypes."
   ]
  },
  {
   "cell_type": "code",
   "execution_count": 43,
   "id": "1803364b",
   "metadata": {},
   "outputs": [
    {
     "data": {
      "text/plain": [
       "A           float64\n",
       "B    datetime64[ns]\n",
       "C           float32\n",
       "D             int32\n",
       "E          category\n",
       "F            object\n",
       "dtype: object"
      ]
     },
     "execution_count": 43,
     "metadata": {},
     "output_type": "execute_result"
    }
   ],
   "source": [
    "df2.dtypes\n"
   ]
  },
  {
   "cell_type": "markdown",
   "id": "ab6437de",
   "metadata": {},
   "source": [
    "Tab completion for column names and public attributes is enabled in Jupyter. Just type \"df.\" and hit tab to see the list."
   ]
  },
  {
   "cell_type": "markdown",
   "id": "c30673b1",
   "metadata": {},
   "source": [
    "## Pandas Accessing"
   ]
  },
  {
   "cell_type": "code",
   "execution_count": 45,
   "id": "9f8e63a2",
   "metadata": {},
   "outputs": [],
   "source": [
    "dates = pd.date_range('20130101', periods=6)\n",
    "df = pd.DataFrame(np.random.randn(6, 4), index=dates, columns=list('ABCD'))"
   ]
  },
  {
   "cell_type": "code",
   "execution_count": 46,
   "id": "768697e5",
   "metadata": {},
   "outputs": [],
   "source": [
    "df2 = pd.DataFrame({'A': 1.,\n",
    "                        'B': pd.Timestamp('20130102'),\n",
    "                        'C': pd.Series(1, index=list(range(4)), dtype='float32'),\n",
    "                        'D': np.array([3] * 4, dtype='int32'),\n",
    "                        'E': pd.Categorical([\"test\", \"train\", \"test\", \"train\"]),\n",
    "                        'F': 'foo'})"
   ]
  },
  {
   "cell_type": "markdown",
   "id": "9da1b187",
   "metadata": {},
   "source": [
    "## Getting\n",
    "Below is a table with a small cheat-sheet on how to get the values of DataFrame\n",
    "* **OPERATION  -   SYNTAX  -   RESULT**\n",
    "* Select Column - df[col] - Series\n",
    "* Select row by label - df.loc[label] - Series\n",
    "* Select row by integer loc - df.ilov[loc] - Series\n",
    "* Slice rows - df[5:10] - DataFrame\n",
    "* Select rows by boolean vector - df[bool_vec]  -  DataFrame"
   ]
  },
  {
   "cell_type": "code",
   "execution_count": 47,
   "id": "132dea71",
   "metadata": {},
   "outputs": [
    {
     "data": {
      "text/plain": [
       "2013-01-01   -0.299155\n",
       "2013-01-02   -1.647502\n",
       "2013-01-03   -1.703519\n",
       "2013-01-04   -1.177224\n",
       "2013-01-05   -0.336356\n",
       "2013-01-06    1.283956\n",
       "Freq: D, Name: A, dtype: float64"
      ]
     },
     "execution_count": 47,
     "metadata": {},
     "output_type": "execute_result"
    }
   ],
   "source": [
    "#Select a Column\n",
    "df['A']"
   ]
  },
  {
   "cell_type": "code",
   "execution_count": 48,
   "id": "0e71ba7f",
   "metadata": {},
   "outputs": [
    {
     "data": {
      "text/plain": [
       "2013-01-01   -0.299155\n",
       "2013-01-02   -1.647502\n",
       "2013-01-03   -1.703519\n",
       "2013-01-04   -1.177224\n",
       "2013-01-05   -0.336356\n",
       "2013-01-06    1.283956\n",
       "Freq: D, Name: A, dtype: float64"
      ]
     },
     "execution_count": 48,
     "metadata": {},
     "output_type": "execute_result"
    }
   ],
   "source": [
    "#This is equivalent to \n",
    "df.A"
   ]
  },
  {
   "cell_type": "markdown",
   "id": "1c346e3c",
   "metadata": {},
   "source": [
    "The first of the above two options is recommended as it avoids conflict with dataframe methods."
   ]
  },
  {
   "cell_type": "code",
   "execution_count": 49,
   "id": "87f9b92d",
   "metadata": {},
   "outputs": [
    {
     "data": {
      "text/html": [
       "<div>\n",
       "<style scoped>\n",
       "    .dataframe tbody tr th:only-of-type {\n",
       "        vertical-align: middle;\n",
       "    }\n",
       "\n",
       "    .dataframe tbody tr th {\n",
       "        vertical-align: top;\n",
       "    }\n",
       "\n",
       "    .dataframe thead th {\n",
       "        text-align: right;\n",
       "    }\n",
       "</style>\n",
       "<table border=\"1\" class=\"dataframe\">\n",
       "  <thead>\n",
       "    <tr style=\"text-align: right;\">\n",
       "      <th></th>\n",
       "      <th>A</th>\n",
       "      <th>B</th>\n",
       "      <th>C</th>\n",
       "      <th>D</th>\n",
       "    </tr>\n",
       "  </thead>\n",
       "  <tbody>\n",
       "    <tr>\n",
       "      <th>2013-01-01</th>\n",
       "      <td>-0.299155</td>\n",
       "      <td>-0.138388</td>\n",
       "      <td>-0.380035</td>\n",
       "      <td>0.530224</td>\n",
       "    </tr>\n",
       "    <tr>\n",
       "      <th>2013-01-02</th>\n",
       "      <td>-1.647502</td>\n",
       "      <td>3.206346</td>\n",
       "      <td>-0.222915</td>\n",
       "      <td>1.019781</td>\n",
       "    </tr>\n",
       "    <tr>\n",
       "      <th>2013-01-03</th>\n",
       "      <td>-1.703519</td>\n",
       "      <td>0.518502</td>\n",
       "      <td>-1.142597</td>\n",
       "      <td>0.033134</td>\n",
       "    </tr>\n",
       "  </tbody>\n",
       "</table>\n",
       "</div>"
      ],
      "text/plain": [
       "                   A         B         C         D\n",
       "2013-01-01 -0.299155 -0.138388 -0.380035  0.530224\n",
       "2013-01-02 -1.647502  3.206346 -0.222915  1.019781\n",
       "2013-01-03 -1.703519  0.518502 -1.142597  0.033134"
      ]
     },
     "execution_count": 49,
     "metadata": {},
     "output_type": "execute_result"
    }
   ],
   "source": [
    "#selecting via [] which slices the rows\n",
    "df[0:3]"
   ]
  },
  {
   "cell_type": "code",
   "execution_count": 50,
   "id": "a0223586",
   "metadata": {},
   "outputs": [
    {
     "data": {
      "text/html": [
       "<div>\n",
       "<style scoped>\n",
       "    .dataframe tbody tr th:only-of-type {\n",
       "        vertical-align: middle;\n",
       "    }\n",
       "\n",
       "    .dataframe tbody tr th {\n",
       "        vertical-align: top;\n",
       "    }\n",
       "\n",
       "    .dataframe thead th {\n",
       "        text-align: right;\n",
       "    }\n",
       "</style>\n",
       "<table border=\"1\" class=\"dataframe\">\n",
       "  <thead>\n",
       "    <tr style=\"text-align: right;\">\n",
       "      <th></th>\n",
       "      <th>A</th>\n",
       "      <th>B</th>\n",
       "      <th>C</th>\n",
       "      <th>D</th>\n",
       "    </tr>\n",
       "  </thead>\n",
       "  <tbody>\n",
       "    <tr>\n",
       "      <th>2013-01-02</th>\n",
       "      <td>-1.647502</td>\n",
       "      <td>3.206346</td>\n",
       "      <td>-0.222915</td>\n",
       "      <td>1.019781</td>\n",
       "    </tr>\n",
       "    <tr>\n",
       "      <th>2013-01-03</th>\n",
       "      <td>-1.703519</td>\n",
       "      <td>0.518502</td>\n",
       "      <td>-1.142597</td>\n",
       "      <td>0.033134</td>\n",
       "    </tr>\n",
       "    <tr>\n",
       "      <th>2013-01-04</th>\n",
       "      <td>-1.177224</td>\n",
       "      <td>-1.162920</td>\n",
       "      <td>-0.745135</td>\n",
       "      <td>0.559658</td>\n",
       "    </tr>\n",
       "  </tbody>\n",
       "</table>\n",
       "</div>"
      ],
      "text/plain": [
       "                   A         B         C         D\n",
       "2013-01-02 -1.647502  3.206346 -0.222915  1.019781\n",
       "2013-01-03 -1.703519  0.518502 -1.142597  0.033134\n",
       "2013-01-04 -1.177224 -1.162920 -0.745135  0.559658"
      ]
     },
     "execution_count": 50,
     "metadata": {},
     "output_type": "execute_result"
    }
   ],
   "source": [
    "df['20130102':'20130104']"
   ]
  },
  {
   "cell_type": "markdown",
   "id": "4ff8eb57",
   "metadata": {},
   "source": [
    "## Selection by Label"
   ]
  },
  {
   "cell_type": "code",
   "execution_count": 51,
   "id": "684739c5",
   "metadata": {},
   "outputs": [
    {
     "data": {
      "text/plain": [
       "A   -0.299155\n",
       "B   -0.138388\n",
       "C   -0.380035\n",
       "D    0.530224\n",
       "Name: 2013-01-01 00:00:00, dtype: float64"
      ]
     },
     "execution_count": 51,
     "metadata": {},
     "output_type": "execute_result"
    }
   ],
   "source": [
    "#select first row based on its index value\n",
    "df.loc['2013-01-01']"
   ]
  },
  {
   "cell_type": "code",
   "execution_count": 52,
   "id": "1413610d",
   "metadata": {},
   "outputs": [
    {
     "data": {
      "text/html": [
       "<div>\n",
       "<style scoped>\n",
       "    .dataframe tbody tr th:only-of-type {\n",
       "        vertical-align: middle;\n",
       "    }\n",
       "\n",
       "    .dataframe tbody tr th {\n",
       "        vertical-align: top;\n",
       "    }\n",
       "\n",
       "    .dataframe thead th {\n",
       "        text-align: right;\n",
       "    }\n",
       "</style>\n",
       "<table border=\"1\" class=\"dataframe\">\n",
       "  <thead>\n",
       "    <tr style=\"text-align: right;\">\n",
       "      <th></th>\n",
       "      <th>A</th>\n",
       "      <th>B</th>\n",
       "    </tr>\n",
       "  </thead>\n",
       "  <tbody>\n",
       "    <tr>\n",
       "      <th>2013-01-01</th>\n",
       "      <td>-0.299155</td>\n",
       "      <td>-0.138388</td>\n",
       "    </tr>\n",
       "    <tr>\n",
       "      <th>2013-01-02</th>\n",
       "      <td>-1.647502</td>\n",
       "      <td>3.206346</td>\n",
       "    </tr>\n",
       "    <tr>\n",
       "      <th>2013-01-03</th>\n",
       "      <td>-1.703519</td>\n",
       "      <td>0.518502</td>\n",
       "    </tr>\n",
       "    <tr>\n",
       "      <th>2013-01-04</th>\n",
       "      <td>-1.177224</td>\n",
       "      <td>-1.162920</td>\n",
       "    </tr>\n",
       "    <tr>\n",
       "      <th>2013-01-05</th>\n",
       "      <td>-0.336356</td>\n",
       "      <td>0.397195</td>\n",
       "    </tr>\n",
       "    <tr>\n",
       "      <th>2013-01-06</th>\n",
       "      <td>1.283956</td>\n",
       "      <td>1.426828</td>\n",
       "    </tr>\n",
       "  </tbody>\n",
       "</table>\n",
       "</div>"
      ],
      "text/plain": [
       "                   A         B\n",
       "2013-01-01 -0.299155 -0.138388\n",
       "2013-01-02 -1.647502  3.206346\n",
       "2013-01-03 -1.703519  0.518502\n",
       "2013-01-04 -1.177224 -1.162920\n",
       "2013-01-05 -0.336356  0.397195\n",
       "2013-01-06  1.283956  1.426828"
      ]
     },
     "execution_count": 52,
     "metadata": {},
     "output_type": "execute_result"
    }
   ],
   "source": [
    "#select more than one column by their column names\n",
    "df.loc[:, ['A', 'B']]"
   ]
  },
  {
   "cell_type": "code",
   "execution_count": 53,
   "id": "3f7f98fc",
   "metadata": {},
   "outputs": [
    {
     "data": {
      "text/html": [
       "<div>\n",
       "<style scoped>\n",
       "    .dataframe tbody tr th:only-of-type {\n",
       "        vertical-align: middle;\n",
       "    }\n",
       "\n",
       "    .dataframe tbody tr th {\n",
       "        vertical-align: top;\n",
       "    }\n",
       "\n",
       "    .dataframe thead th {\n",
       "        text-align: right;\n",
       "    }\n",
       "</style>\n",
       "<table border=\"1\" class=\"dataframe\">\n",
       "  <thead>\n",
       "    <tr style=\"text-align: right;\">\n",
       "      <th></th>\n",
       "      <th>A</th>\n",
       "      <th>B</th>\n",
       "    </tr>\n",
       "  </thead>\n",
       "  <tbody>\n",
       "    <tr>\n",
       "      <th>2013-01-02</th>\n",
       "      <td>-1.647502</td>\n",
       "      <td>3.206346</td>\n",
       "    </tr>\n",
       "    <tr>\n",
       "      <th>2013-01-03</th>\n",
       "      <td>-1.703519</td>\n",
       "      <td>0.518502</td>\n",
       "    </tr>\n",
       "    <tr>\n",
       "      <th>2013-01-04</th>\n",
       "      <td>-1.177224</td>\n",
       "      <td>-1.162920</td>\n",
       "    </tr>\n",
       "  </tbody>\n",
       "</table>\n",
       "</div>"
      ],
      "text/plain": [
       "                   A         B\n",
       "2013-01-02 -1.647502  3.206346\n",
       "2013-01-03 -1.703519  0.518502\n",
       "2013-01-04 -1.177224 -1.162920"
      ]
     },
     "execution_count": 53,
     "metadata": {},
     "output_type": "execute_result"
    }
   ],
   "source": [
    "#we can use label slicing and include both endpoints\n",
    "df.loc['20130102' : '20130104', ['A','B']]"
   ]
  },
  {
   "cell_type": "markdown",
   "id": "7b116247",
   "metadata": {},
   "source": [
    "The command above will return the Series and the one below will return just a scalar value, which is simply, a number:"
   ]
  },
  {
   "cell_type": "code",
   "execution_count": 54,
   "id": "ccf4bdfe",
   "metadata": {},
   "outputs": [
    {
     "data": {
      "text/plain": [
       "-0.29915456049484884"
      ]
     },
     "execution_count": 54,
     "metadata": {},
     "output_type": "execute_result"
    }
   ],
   "source": [
    "df.loc[dates[0], 'A']"
   ]
  },
  {
   "cell_type": "markdown",
   "id": "ba3ec8d2",
   "metadata": {},
   "source": [
    "## Select by Position\n",
    "We can also select based on the actual DF position"
   ]
  },
  {
   "cell_type": "code",
   "execution_count": 55,
   "id": "d2d412a9",
   "metadata": {},
   "outputs": [
    {
     "data": {
      "text/plain": [
       "A   -1.177224\n",
       "B   -1.162920\n",
       "C   -0.745135\n",
       "D    0.559658\n",
       "Name: 2013-01-04 00:00:00, dtype: float64"
      ]
     },
     "execution_count": 55,
     "metadata": {},
     "output_type": "execute_result"
    }
   ],
   "source": [
    "df.iloc[3]"
   ]
  },
  {
   "cell_type": "code",
   "execution_count": 56,
   "id": "7454fba2",
   "metadata": {},
   "outputs": [
    {
     "data": {
      "text/html": [
       "<div>\n",
       "<style scoped>\n",
       "    .dataframe tbody tr th:only-of-type {\n",
       "        vertical-align: middle;\n",
       "    }\n",
       "\n",
       "    .dataframe tbody tr th {\n",
       "        vertical-align: top;\n",
       "    }\n",
       "\n",
       "    .dataframe thead th {\n",
       "        text-align: right;\n",
       "    }\n",
       "</style>\n",
       "<table border=\"1\" class=\"dataframe\">\n",
       "  <thead>\n",
       "    <tr style=\"text-align: right;\">\n",
       "      <th></th>\n",
       "      <th>A</th>\n",
       "      <th>B</th>\n",
       "    </tr>\n",
       "  </thead>\n",
       "  <tbody>\n",
       "    <tr>\n",
       "      <th>2013-01-04</th>\n",
       "      <td>-1.177224</td>\n",
       "      <td>-1.162920</td>\n",
       "    </tr>\n",
       "    <tr>\n",
       "      <th>2013-01-05</th>\n",
       "      <td>-0.336356</td>\n",
       "      <td>0.397195</td>\n",
       "    </tr>\n",
       "  </tbody>\n",
       "</table>\n",
       "</div>"
      ],
      "text/plain": [
       "                   A         B\n",
       "2013-01-04 -1.177224 -1.162920\n",
       "2013-01-05 -0.336356  0.397195"
      ]
     },
     "execution_count": 56,
     "metadata": {},
     "output_type": "execute_result"
    }
   ],
   "source": [
    "#We can use slicing as well. This is similar to NumPy/Python\n",
    "df.iloc[3:5, 0:2]"
   ]
  },
  {
   "cell_type": "code",
   "execution_count": 57,
   "id": "b63a2f9b",
   "metadata": {},
   "outputs": [
    {
     "data": {
      "text/html": [
       "<div>\n",
       "<style scoped>\n",
       "    .dataframe tbody tr th:only-of-type {\n",
       "        vertical-align: middle;\n",
       "    }\n",
       "\n",
       "    .dataframe tbody tr th {\n",
       "        vertical-align: top;\n",
       "    }\n",
       "\n",
       "    .dataframe thead th {\n",
       "        text-align: right;\n",
       "    }\n",
       "</style>\n",
       "<table border=\"1\" class=\"dataframe\">\n",
       "  <thead>\n",
       "    <tr style=\"text-align: right;\">\n",
       "      <th></th>\n",
       "      <th>A</th>\n",
       "      <th>B</th>\n",
       "      <th>C</th>\n",
       "      <th>D</th>\n",
       "    </tr>\n",
       "  </thead>\n",
       "  <tbody>\n",
       "    <tr>\n",
       "      <th>2013-01-02</th>\n",
       "      <td>-1.647502</td>\n",
       "      <td>3.206346</td>\n",
       "      <td>-0.222915</td>\n",
       "      <td>1.019781</td>\n",
       "    </tr>\n",
       "    <tr>\n",
       "      <th>2013-01-03</th>\n",
       "      <td>-1.703519</td>\n",
       "      <td>0.518502</td>\n",
       "      <td>-1.142597</td>\n",
       "      <td>0.033134</td>\n",
       "    </tr>\n",
       "  </tbody>\n",
       "</table>\n",
       "</div>"
      ],
      "text/plain": [
       "                   A         B         C         D\n",
       "2013-01-02 -1.647502  3.206346 -0.222915  1.019781\n",
       "2013-01-03 -1.703519  0.518502 -1.142597  0.033134"
      ]
     },
     "execution_count": 57,
     "metadata": {},
     "output_type": "execute_result"
    }
   ],
   "source": [
    "#for all rose, use :\n",
    "df.iloc[1:3, :]"
   ]
  },
  {
   "cell_type": "markdown",
   "id": "3251b28a",
   "metadata": {},
   "source": [
    "## Select by dtype\n",
    "The **select_dtypes()** method implements subsetting of columns based on their dtype. By subsetting, we mean taking only the selection of columns based on their dtype."
   ]
  },
  {
   "cell_type": "code",
   "execution_count": 58,
   "id": "74c8172f",
   "metadata": {},
   "outputs": [],
   "source": [
    "df = pd.DataFrame({'string': list('abc'),\n",
    "                       'int64': list(range(1, 4)),\n",
    "                       'uint8': np.arange(3, 6).astype('u1'),\n",
    "                       'float64': np.arange(4.0, 7.0),\n",
    "                       'bool1': [True, False, True],\n",
    "                       'bool2': [False, True, False],\n",
    "                       'dates': pd.date_range('now', periods=3),\n",
    "                       'category': pd.Series(list(\"ABC\")).astype('category')})"
   ]
  },
  {
   "cell_type": "code",
   "execution_count": 59,
   "id": "4137b428",
   "metadata": {},
   "outputs": [
    {
     "data": {
      "text/html": [
       "<div>\n",
       "<style scoped>\n",
       "    .dataframe tbody tr th:only-of-type {\n",
       "        vertical-align: middle;\n",
       "    }\n",
       "\n",
       "    .dataframe tbody tr th {\n",
       "        vertical-align: top;\n",
       "    }\n",
       "\n",
       "    .dataframe thead th {\n",
       "        text-align: right;\n",
       "    }\n",
       "</style>\n",
       "<table border=\"1\" class=\"dataframe\">\n",
       "  <thead>\n",
       "    <tr style=\"text-align: right;\">\n",
       "      <th></th>\n",
       "      <th>bool1</th>\n",
       "      <th>bool2</th>\n",
       "    </tr>\n",
       "  </thead>\n",
       "  <tbody>\n",
       "    <tr>\n",
       "      <th>0</th>\n",
       "      <td>True</td>\n",
       "      <td>False</td>\n",
       "    </tr>\n",
       "    <tr>\n",
       "      <th>1</th>\n",
       "      <td>False</td>\n",
       "      <td>True</td>\n",
       "    </tr>\n",
       "    <tr>\n",
       "      <th>2</th>\n",
       "      <td>True</td>\n",
       "      <td>False</td>\n",
       "    </tr>\n",
       "  </tbody>\n",
       "</table>\n",
       "</div>"
      ],
      "text/plain": [
       "   bool1  bool2\n",
       "0   True  False\n",
       "1  False   True\n",
       "2   True  False"
      ]
     },
     "execution_count": 59,
     "metadata": {},
     "output_type": "execute_result"
    }
   ],
   "source": [
    "#select only **bool** columns from df above.\n",
    "df.select_dtypes(include=[bool])"
   ]
  },
  {
   "cell_type": "markdown",
   "id": "3af0e14e",
   "metadata": {},
   "source": [
    "## Boolean Indexing\n",
    "in this section, we will use columns' values to filter data."
   ]
  },
  {
   "cell_type": "code",
   "execution_count": 60,
   "id": "af04197a",
   "metadata": {},
   "outputs": [
    {
     "data": {
      "text/html": [
       "<div>\n",
       "<style scoped>\n",
       "    .dataframe tbody tr th:only-of-type {\n",
       "        vertical-align: middle;\n",
       "    }\n",
       "\n",
       "    .dataframe tbody tr th {\n",
       "        vertical-align: top;\n",
       "    }\n",
       "\n",
       "    .dataframe thead th {\n",
       "        text-align: right;\n",
       "    }\n",
       "</style>\n",
       "<table border=\"1\" class=\"dataframe\">\n",
       "  <thead>\n",
       "    <tr style=\"text-align: right;\">\n",
       "      <th></th>\n",
       "      <th>string</th>\n",
       "      <th>int64</th>\n",
       "      <th>uint8</th>\n",
       "      <th>float64</th>\n",
       "      <th>bool1</th>\n",
       "      <th>bool2</th>\n",
       "      <th>dates</th>\n",
       "      <th>category</th>\n",
       "    </tr>\n",
       "  </thead>\n",
       "  <tbody>\n",
       "    <tr>\n",
       "      <th>1</th>\n",
       "      <td>b</td>\n",
       "      <td>2</td>\n",
       "      <td>4</td>\n",
       "      <td>5.0</td>\n",
       "      <td>False</td>\n",
       "      <td>True</td>\n",
       "      <td>2022-09-28 21:27:54.630809</td>\n",
       "      <td>B</td>\n",
       "    </tr>\n",
       "    <tr>\n",
       "      <th>2</th>\n",
       "      <td>c</td>\n",
       "      <td>3</td>\n",
       "      <td>5</td>\n",
       "      <td>6.0</td>\n",
       "      <td>True</td>\n",
       "      <td>False</td>\n",
       "      <td>2022-09-29 21:27:54.630809</td>\n",
       "      <td>C</td>\n",
       "    </tr>\n",
       "  </tbody>\n",
       "</table>\n",
       "</div>"
      ],
      "text/plain": [
       "  string  int64  uint8  float64  bool1  bool2                      dates  \\\n",
       "1      b      2      4      5.0  False   True 2022-09-28 21:27:54.630809   \n",
       "2      c      3      5      6.0   True  False 2022-09-29 21:27:54.630809   \n",
       "\n",
       "  category  \n",
       "1        B  \n",
       "2        C  "
      ]
     },
     "execution_count": 60,
     "metadata": {},
     "output_type": "execute_result"
    }
   ],
   "source": [
    "#take rows where column 'A' is higher than 0\n",
    "df[df['float64'] >= 5]"
   ]
  },
  {
   "cell_type": "markdown",
   "id": "7b73c7a3",
   "metadata": {},
   "source": [
    "We can also use function **isin()** for filters."
   ]
  },
  {
   "cell_type": "code",
   "execution_count": 61,
   "id": "92f69136",
   "metadata": {},
   "outputs": [],
   "source": [
    "#create a copy of df and store in df2\n",
    "df2 = df.copy()\n",
    "df2['E'] = ['one', 'two', 'three']"
   ]
  },
  {
   "cell_type": "code",
   "execution_count": 62,
   "id": "f418d511",
   "metadata": {},
   "outputs": [
    {
     "data": {
      "text/html": [
       "<div>\n",
       "<style scoped>\n",
       "    .dataframe tbody tr th:only-of-type {\n",
       "        vertical-align: middle;\n",
       "    }\n",
       "\n",
       "    .dataframe tbody tr th {\n",
       "        vertical-align: top;\n",
       "    }\n",
       "\n",
       "    .dataframe thead th {\n",
       "        text-align: right;\n",
       "    }\n",
       "</style>\n",
       "<table border=\"1\" class=\"dataframe\">\n",
       "  <thead>\n",
       "    <tr style=\"text-align: right;\">\n",
       "      <th></th>\n",
       "      <th>string</th>\n",
       "      <th>int64</th>\n",
       "      <th>uint8</th>\n",
       "      <th>float64</th>\n",
       "      <th>bool1</th>\n",
       "      <th>bool2</th>\n",
       "      <th>dates</th>\n",
       "      <th>category</th>\n",
       "      <th>E</th>\n",
       "    </tr>\n",
       "  </thead>\n",
       "  <tbody>\n",
       "    <tr>\n",
       "      <th>0</th>\n",
       "      <td>a</td>\n",
       "      <td>1</td>\n",
       "      <td>3</td>\n",
       "      <td>4.0</td>\n",
       "      <td>True</td>\n",
       "      <td>False</td>\n",
       "      <td>2022-09-27 21:27:54.630809</td>\n",
       "      <td>A</td>\n",
       "      <td>one</td>\n",
       "    </tr>\n",
       "    <tr>\n",
       "      <th>1</th>\n",
       "      <td>b</td>\n",
       "      <td>2</td>\n",
       "      <td>4</td>\n",
       "      <td>5.0</td>\n",
       "      <td>False</td>\n",
       "      <td>True</td>\n",
       "      <td>2022-09-28 21:27:54.630809</td>\n",
       "      <td>B</td>\n",
       "      <td>two</td>\n",
       "    </tr>\n",
       "  </tbody>\n",
       "</table>\n",
       "</div>"
      ],
      "text/plain": [
       "  string  int64  uint8  float64  bool1  bool2                      dates  \\\n",
       "0      a      1      3      4.0   True  False 2022-09-27 21:27:54.630809   \n",
       "1      b      2      4      5.0  False   True 2022-09-28 21:27:54.630809   \n",
       "\n",
       "  category    E  \n",
       "0        A  one  \n",
       "1        B  two  "
      ]
     },
     "execution_count": 62,
     "metadata": {},
     "output_type": "execute_result"
    }
   ],
   "source": [
    "#now we can use isin() to take only rows where \n",
    "#E is two or four\n",
    "df2[df2['E'].isin(['one', 'two'])]"
   ]
  },
  {
   "cell_type": "code",
   "execution_count": 63,
   "id": "0305170b",
   "metadata": {},
   "outputs": [],
   "source": [
    "#We can also set values in the DataFrame.\n",
    "#Setting Values by position\n",
    "df.iat[0,1] = -1"
   ]
  },
  {
   "cell_type": "code",
   "execution_count": 65,
   "id": "a6aaf891",
   "metadata": {},
   "outputs": [],
   "source": [
    "#or\n",
    "df.iloc[0,1] = 2"
   ]
  },
  {
   "cell_type": "code",
   "execution_count": 66,
   "id": "bdf76333",
   "metadata": {},
   "outputs": [],
   "source": [
    "#Setting values by label\n",
    "df.at[0, 'float64'] = -10"
   ]
  },
  {
   "cell_type": "code",
   "execution_count": 67,
   "id": "be299845",
   "metadata": {},
   "outputs": [],
   "source": [
    "#or\n",
    "df.loc[0, 'float64'] = -20"
   ]
  },
  {
   "cell_type": "code",
   "execution_count": 68,
   "id": "c3580aa3",
   "metadata": {},
   "outputs": [],
   "source": [
    "#Setting by assigning with a NumPy array:\n",
    "df.loc[:, 'uint8'] = np.array([50] * len(df))"
   ]
  },
  {
   "cell_type": "code",
   "execution_count": null,
   "id": "11ab6467",
   "metadata": {},
   "outputs": [],
   "source": []
  }
 ],
 "metadata": {
  "kernelspec": {
   "display_name": "Python 3 (ipykernel)",
   "language": "python",
   "name": "python3"
  },
  "language_info": {
   "codemirror_mode": {
    "name": "ipython",
    "version": 3
   },
   "file_extension": ".py",
   "mimetype": "text/x-python",
   "name": "python",
   "nbconvert_exporter": "python",
   "pygments_lexer": "ipython3",
   "version": "3.8.13"
  }
 },
 "nbformat": 4,
 "nbformat_minor": 5
}
