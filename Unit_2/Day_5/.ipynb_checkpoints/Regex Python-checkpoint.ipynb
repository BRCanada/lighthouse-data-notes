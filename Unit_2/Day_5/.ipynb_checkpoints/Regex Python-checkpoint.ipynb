{
 "cells": [
  {
   "cell_type": "markdown",
   "id": "73cb9b44",
   "metadata": {},
   "source": [
    "# Using RegEx in Python"
   ]
  },
  {
   "cell_type": "markdown",
   "id": "2ac442cd",
   "metadata": {},
   "source": [
    "## Raw Python Strings\n",
    "When writing regular expressions in python, it is recommended to use raw strings. *Raw strings* are strings with an **r** prefix (similar to f-strings). \n",
    "<br>\n",
    "<br>r-strings tell python to refrain from interpreting backslashes and special metacharacters in the string.\n",
    "<br>\n",
    "<br>This means that a pattern like \"\\n\\w\" will not be interpreted and can be written as r\"\\n\\w\" instead of \"\\\\n\\\\w\" as in other languages."
   ]
  },
  {
   "cell_type": "markdown",
   "id": "18b21015",
   "metadata": {},
   "source": [
    "## Matching a String\n",
    "To test whether a regular expression matches a specific string in Python, you can use **re.search()**. This method either returns None if the pattern doesn't match, or a re.MatchObject with additional information about which part of the match was found. \n",
    "<br>\n",
    "<br>Note that this method stops after the first match, so this is best suited for testing a regular expression more than extracting data.\n",
    "<br>\n",
    "<br> Example:\n",
    "```\n",
    "matchObject = re.search(pattern, input_str, flags=0)\n",
    "```"
   ]
  },
  {
   "cell_type": "code",
   "execution_count": 9,
   "id": "f4dffe52",
   "metadata": {},
   "outputs": [],
   "source": [
    "# Import regex library\n",
    "import re"
   ]
  },
  {
   "cell_type": "code",
   "execution_count": 10,
   "id": "db090ff6",
   "metadata": {},
   "outputs": [
    {
     "name": "stdout",
     "output_type": "stream",
     "text": [
      "Match at index 0, 7\n",
      "Full match: June 24\n",
      "Month: June\n",
      "Day: 24\n"
     ]
    }
   ],
   "source": [
    "# Using a regular expression to match a \n",
    "# date string. Ignore the output as this \n",
    "# is just to test if the regex matches.\n",
    "\n",
    "regex = r\"([a-zA-Z]+) (\\d+)\"\n",
    "if re.search(regex, \"June 24\"):\n",
    "    \n",
    "    # Indeed, the expression matches our date string\n",
    "    \n",
    "    # If we want, we can use the MatchObject's start()\n",
    "    # and end() methods to retrieve where the pattern\n",
    "    # matches in the input string, and the group() method\n",
    "    # to get all the matches and captured groups.\n",
    "    \n",
    "    match = re.search(regex, \"June 24\")\n",
    "    \n",
    "    # This will print [0,7), since it matches at the beginning\n",
    "    # and end of the string.\n",
    "    \n",
    "    print(\"Match at index %s, %s\" % (match.start(), match.end()))\n",
    "    \n",
    "    # The groups contain the matched values. In particular: \n",
    "    #   match.group(0) always returns the fully matched string.\n",
    "    #   match.group(1), match.group(2), ... will return the capture\n",
    "    #      groups in order from left to right in the input string\n",
    "    #   match.group() is equivalent to match.group()\n",
    "    \n",
    "    # So this will print \"June 24\"\n",
    "    print(\"Full match: %s\" % (match.group(0)))\n",
    "    \n",
    "    # This will print 'June'\n",
    "    print(\"Month: %s\" % (match.group(1)))\n",
    "    \n",
    "    # This will print '24'\n",
    "    print(\"Day: %s\" % (match.group(2)))\n",
    "    \n",
    "else:\n",
    "    # If re.search() does not match, then None is returned\n",
    "    print(\"The regex pattern does not match.\")"
   ]
  },
  {
   "cell_type": "markdown",
   "id": "6ca2f585",
   "metadata": {},
   "source": [
    "## Capturing Groups"
   ]
  },
  {
   "cell_type": "markdown",
   "id": "b4654a11",
   "metadata": {},
   "source": [
    "We can use **re.findall()** to perform a global search over the whole input string. If capture groups are found, it will return a list of all captured data. If it can't locate capture groups, it will either return a list of any individual captured items, or an empty list if no captures are made.\n",
    "<br> \n",
    "<br>Method examples:\n",
    "```\n",
    "matchList = re.findall(pattern, input_str, flags=0)\n",
    "```\n",
    "```\n",
    "matchList = re.finditer(pattern, input_str, flags=0)\n",
    "```"
   ]
  },
  {
   "cell_type": "code",
   "execution_count": 11,
   "id": "b13d4a24",
   "metadata": {},
   "outputs": [
    {
     "name": "stdout",
     "output_type": "stream",
     "text": [
      "Full match: June 24\n",
      "Full match: August 9\n",
      "Full match: Dec 12\n"
     ]
    }
   ],
   "source": [
    "# Lets use a regular expression to match a few date strings.\n",
    "regex = r\"[a-zA-Z]+ \\d+\"\n",
    "matches = re.findall(regex, \"June 24, August 9, Dec 12\")\n",
    "for match in matches:\n",
    "    # This will print:\n",
    "    #   June 24\n",
    "    #   August 9\n",
    "    #   Dec 12\n",
    "    print(\"Full match: %s\" % (match))"
   ]
  },
  {
   "cell_type": "code",
   "execution_count": 12,
   "id": "5101756b",
   "metadata": {},
   "outputs": [
    {
     "name": "stdout",
     "output_type": "stream",
     "text": [
      "Match month: June\n",
      "Match month: August\n",
      "Match month: Dec\n"
     ]
    }
   ],
   "source": [
    "# To capture the specific months of each date we can use the following pattern\n",
    "regex = r\"([a-zA-Z]+) \\d+\"\n",
    "matches = re.findall(regex, \"June 24, August 9, Dec 12\")\n",
    "for match in matches:\n",
    "    # This will now print:\n",
    "    #   June\n",
    "    #   August\n",
    "    #   Dec\n",
    "    print(\"Match month: %s\" % (match))"
   ]
  },
  {
   "cell_type": "code",
   "execution_count": 13,
   "id": "fcdf4bd5",
   "metadata": {},
   "outputs": [
    {
     "name": "stdout",
     "output_type": "stream",
     "text": [
      "Match at index: 0, 7\n",
      "Match at index: 9, 17\n",
      "Match at index: 19, 25\n"
     ]
    }
   ],
   "source": [
    "# If we need the exact positions of each match\n",
    "regex = r\"([a-zA-Z]+) \\d+\"\n",
    "matches = re.finditer(regex, \"June 24, August 9, Dec 12\")\n",
    "for match in matches:\n",
    "    # This will now print:\n",
    "    #   0 7\n",
    "    #   9 17\n",
    "    #   19 25\n",
    "    # which corresponds with the start and end of each match in the input string\n",
    "    print(\"Match at index: %s, %s\" % (match.start(), match.end()))"
   ]
  },
  {
   "cell_type": "markdown",
   "id": "872c668e",
   "metadata": {},
   "source": [
    "## Finding and Replacing Strings\n",
    "Another common task is to find and replace part of a string using regex. I.e. to replace all instances of an old email domain, or to swap the order of some text. You can do this in Python with **re.sub()** method. \n",
    "<br>\n",
    "the optional *count* argument is the exact number of replacements to make in the input string, and if this value is less than or equal to zero, then every match in the string is replaced.\n",
    "<br>\n",
    "<br> Method Example:\n",
    "```\n",
    "replacedString = re.sub(pattern, replacement_pattern, input_str, count, flags=0)\n",
    "```"
   ]
  },
  {
   "cell_type": "code",
   "execution_count": 14,
   "id": "fa1d3681",
   "metadata": {},
   "outputs": [
    {
     "name": "stdout",
     "output_type": "stream",
     "text": [
      "24 of June, 9 of August, 12 of Dec\n"
     ]
    }
   ],
   "source": [
    "# Lets try and reverse the order of the day and month in a date \n",
    "# string. Notice how the replacement string also contains metacharacters\n",
    "# (the back references to the captured groups) so we use a raw \n",
    "# string for that as well.\n",
    "regex = r\"([a-zA-Z]+) (\\d+)\"\n",
    "\n",
    "# This will reorder the string and print:\n",
    "#   24 of June, 9 of August, 12 of Dec\n",
    "print(re.sub(regex, r\"\\2 of \\1\", \"June 24, August 9, Dec 12\"))"
   ]
  },
  {
   "cell_type": "markdown",
   "id": "44eb5fd0",
   "metadata": {},
   "source": [
    "## re Flags\n",
    "In the Python regex methods, you will notice they also take optional *flags* arguments. Most of these are a convenience and can just be written into the regex directly. but some can be useful:\n",
    "* **re.IGNORECASE** makes the pattern case insensitive.\n",
    "* **re.MULTILINE** is necessary if your input string has newline characters (\\n), this flag allows the start and end metacharacter (^ and $ respectively) to match at the beginning and end of each line, instead of the whole input string\n",
    "* **re.DOTALL** allows the dot (.) metacharacter match all characters, including newline (\\n)"
   ]
  },
  {
   "cell_type": "markdown",
   "id": "12c388d7",
   "metadata": {},
   "source": [
    "## Compiling a pattern for performance\n",
    "In Python, creating a new regular expression pattern to match many strings can be slow, so it is recommended that you compile them if you need to be testing or extracting information from many input strings using the same expression. This method returns a **re.RegexObject**.\n",
    "```\n",
    "regexObject = re.compile(pattern, flags=0)\n",
    "```\n",
    "The returned object has exactly the same methods as above, except that they take the input string and no longer require the pattern or flags for each call.\n",
    "\n"
   ]
  },
  {
   "cell_type": "code",
   "execution_count": 15,
   "id": "b213df73",
   "metadata": {},
   "outputs": [
    {
     "name": "stdout",
     "output_type": "stream",
     "text": [
      "0 11\n",
      "Hello\n",
      "Bonjour\n",
      "Hello Earth\n"
     ]
    }
   ],
   "source": [
    "# Lets create a pattern and extract some information with it\n",
    "regex = re.compile(r\"(\\w+) World\")\n",
    "result = regex.search(\"Hello World is the easiest\")\n",
    "if result:\n",
    "    # This will print:\n",
    "    #   0 11\n",
    "    # for the start and end of the match\n",
    "    print(result.start(), result.end())\n",
    "\n",
    "# This will print:\n",
    "#   Hello\n",
    "#   Bonjour\n",
    "# for each of the captured groups that matched\n",
    "for result in regex.findall(\"Hello World, Bonjour World\"):\n",
    "    print(result)\n",
    "\n",
    "# This will substitute \"World\" with \"Earth\" and print:\n",
    "#   Hello Earth\n",
    "print(regex.sub(r\"\\1 Earth\", \"Hello World\"))"
   ]
  },
  {
   "cell_type": "code",
   "execution_count": null,
   "id": "bca98227",
   "metadata": {},
   "outputs": [],
   "source": []
  }
 ],
 "metadata": {
  "kernelspec": {
   "display_name": "Python 3 (ipykernel)",
   "language": "python",
   "name": "python3"
  },
  "language_info": {
   "codemirror_mode": {
    "name": "ipython",
    "version": 3
   },
   "file_extension": ".py",
   "mimetype": "text/x-python",
   "name": "python",
   "nbconvert_exporter": "python",
   "pygments_lexer": "ipython3",
   "version": "3.8.13"
  }
 },
 "nbformat": 4,
 "nbformat_minor": 5
}
