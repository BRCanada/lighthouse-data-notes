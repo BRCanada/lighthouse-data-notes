{
 "cells": [
  {
   "cell_type": "code",
   "execution_count": 1,
   "metadata": {},
   "outputs": [],
   "source": [
    "# imports\n",
    "import pandas as pd\n",
    "from pandas import json_normalize\n",
    "import sqlite3 as sq\n",
    "import os\n",
    "import requests\n",
    "import json"
   ]
  },
  {
   "cell_type": "code",
   "execution_count": 2,
   "metadata": {},
   "outputs": [],
   "source": [
    "#Key initialization\n",
    "#set the keys\n",
    "foursquare_id = os.environ[\"FOURSQUARE_API_KEY\"]\n",
    "foursquare_secret = os.environ[\"FOURSQUARE_SECRET\"]"
   ]
  },
  {
   "cell_type": "code",
   "execution_count": 3,
   "metadata": {},
   "outputs": [],
   "source": [
    "#set base url\n",
    "url = \"https://api.foursquare.com/v3/places/search?ll=43.656112128112106%2C-79.3802357750855&radius=1000&categories=10039&fields=rating%2Cname%2Cdistance%2Clocation\"\n",
    "\n",
    "#set header variable\n",
    "headers = {\"accept\": \"application/json\",\n",
    "           \"authorization\": foursquare_id}"
   ]
  },
  {
   "cell_type": "code",
   "execution_count": 4,
   "metadata": {},
   "outputs": [],
   "source": [
    "#---Static-Variables-----\n",
    "\n",
    "location = '43.656112128112106,-79.3802357750855'    #Young-Dundas Square\n",
    "location2 = '43.725543525284145,-79.45215847331576'  #Yorkdale Mall\n",
    "radius = 1000   #in meters\n",
    "\n",
    "# #list of FS category ids to search\n",
    "# cat_ids = [10039, 10041, 10037]"
   ]
  },
  {
   "cell_type": "code",
   "execution_count": 5,
   "metadata": {},
   "outputs": [],
   "source": [
    "# #string variable for category portion of query\n",
    "# catqry = \"&categories=\"\n",
    "\n",
    "#Turn Categories into string for query. %2C represents a comma in urls.\n",
    "#for cat in range(0, len(cat_ids)):\n",
    "#   catqry += \"%2C\" \n",
    "#     catqry += str(cat_ids[cat])"
   ]
  },
  {
   "cell_type": "code",
   "execution_count": 6,
   "metadata": {},
   "outputs": [],
   "source": [
    "def get_venues(urlstr):\n",
    "    response = requests.get(urlstr, headers=headers)\n",
    "    response.raise_for_status()\n",
    "    if response.status_code != 204:\n",
    "        return response"
   ]
  },
  {
   "cell_type": "code",
   "execution_count": 7,
   "metadata": {},
   "outputs": [],
   "source": [
    "#query building function to be called in main pull request loop\n",
    "# def build_query(latlong):\n",
    "#     #make lat and long variables from parameter\n",
    "#     splitll = latlong.split(',')\n",
    "#     lat = f\"%3D{splitll[0]}\"\n",
    "#     long = f\"%2C{splitll[1]}\"\n",
    "    \n",
    "#     #build out query using parameters.\n",
    "#     query = (f\"ll={lat}{long}&radius={radius}{catqry}\")\n",
    "#     fullurl = str(url+query)\n",
    "#     return fullurl\n",
    "#     #get_venues(fullurl)"
   ]
  },
  {
   "cell_type": "markdown",
   "metadata": {},
   "source": [
    "# Foursquare"
   ]
  },
  {
   "cell_type": "markdown",
   "metadata": {},
   "source": [
    "Send a request to Foursquare with a small radius (1000m) with the location of your choice"
   ]
  },
  {
   "cell_type": "code",
   "execution_count": 8,
   "metadata": {},
   "outputs": [],
   "source": [
    "data = get_venues(url)"
   ]
  },
  {
   "cell_type": "markdown",
   "metadata": {},
   "source": [
    "Parse through the response to get the POI details you want (rating, name, location, etc)"
   ]
  },
  {
   "cell_type": "code",
   "execution_count": 9,
   "metadata": {},
   "outputs": [],
   "source": [
    "#turn data into a sorted by keys str\n",
    "parsed_data = data.json()"
   ]
  },
  {
   "cell_type": "code",
   "execution_count": 10,
   "metadata": {},
   "outputs": [
    {
     "data": {
      "text/plain": [
       "dict"
      ]
     },
     "execution_count": 10,
     "metadata": {},
     "output_type": "execute_result"
    }
   ],
   "source": [
    "type(parsed_data)"
   ]
  },
  {
   "cell_type": "markdown",
   "metadata": {},
   "source": [
    "Put your parsed results into a DataFrame"
   ]
  },
  {
   "cell_type": "code",
   "execution_count": 11,
   "metadata": {},
   "outputs": [],
   "source": [
    "#Convert JSON to DataFrame using json_normalize()\n",
    "df = pd.json_normalize(parsed_data['results'])"
   ]
  },
  {
   "cell_type": "code",
   "execution_count": 12,
   "metadata": {},
   "outputs": [
    {
     "name": "stdout",
     "output_type": "stream",
     "text": [
      "Music Venues within 1km of Young-Dundas Square (in meters):\n"
     ]
    },
    {
     "data": {
      "text/html": [
       "<div>\n",
       "<style scoped>\n",
       "    .dataframe tbody tr th:only-of-type {\n",
       "        vertical-align: middle;\n",
       "    }\n",
       "\n",
       "    .dataframe tbody tr th {\n",
       "        vertical-align: top;\n",
       "    }\n",
       "\n",
       "    .dataframe thead th {\n",
       "        text-align: right;\n",
       "    }\n",
       "</style>\n",
       "<table border=\"1\" class=\"dataframe\">\n",
       "  <thead>\n",
       "    <tr style=\"text-align: right;\">\n",
       "      <th></th>\n",
       "      <th>name</th>\n",
       "      <th>address</th>\n",
       "      <th>rating</th>\n",
       "    </tr>\n",
       "  </thead>\n",
       "  <tbody>\n",
       "    <tr>\n",
       "      <th>0</th>\n",
       "      <td>Elgin &amp; Winter Garden Theatre Ctr</td>\n",
       "      <td>189 Yonge St (btwn Queen St E &amp; Shuter St), To...</td>\n",
       "      <td>4.50</td>\n",
       "    </tr>\n",
       "    <tr>\n",
       "      <th>1</th>\n",
       "      <td>The Four Seasons Centre for the Performing Arts</td>\n",
       "      <td>145 Queen St W (at University Ave.), Toronto O...</td>\n",
       "      <td>4.45</td>\n",
       "    </tr>\n",
       "    <tr>\n",
       "      <th>2</th>\n",
       "      <td>Jazz Bistro</td>\n",
       "      <td>251 Victoria St (btwn Dundas St. E &amp; Shuter St...</td>\n",
       "      <td>4.25</td>\n",
       "    </tr>\n",
       "    <tr>\n",
       "      <th>3</th>\n",
       "      <td>Canadian Opera Co</td>\n",
       "      <td>145 Queen St W (University), Toronto ON M5H 4G1</td>\n",
       "      <td>4.00</td>\n",
       "    </tr>\n",
       "    <tr>\n",
       "      <th>4</th>\n",
       "      <td>Betty Oliphant Theatre</td>\n",
       "      <td>400 Jarvis St, Toronto ON M4Y 2G6</td>\n",
       "      <td>3.95</td>\n",
       "    </tr>\n",
       "    <tr>\n",
       "      <th>5</th>\n",
       "      <td>Buddies in Bad Times Theatre</td>\n",
       "      <td>12 Alexander St (Yonge St), Toronto ON M4Y 1B4</td>\n",
       "      <td>3.90</td>\n",
       "    </tr>\n",
       "    <tr>\n",
       "      <th>6</th>\n",
       "      <td>Bar Plus</td>\n",
       "      <td>2Nd Floor, Toronto ON M5B 1S5</td>\n",
       "      <td>3.10</td>\n",
       "    </tr>\n",
       "    <tr>\n",
       "      <th>7</th>\n",
       "      <td>Bluma Appel Theatre</td>\n",
       "      <td>27 Front St E, Toronto ON M5E 1B4</td>\n",
       "      <td>3.10</td>\n",
       "    </tr>\n",
       "    <tr>\n",
       "      <th>8</th>\n",
       "      <td>Ryerson Theatre</td>\n",
       "      <td>43 Gerrard St E (btwn Yonge &amp; Church), Toronto...</td>\n",
       "      <td>3.00</td>\n",
       "    </tr>\n",
       "    <tr>\n",
       "      <th>9</th>\n",
       "      <td>Fusion Rock Radio</td>\n",
       "      <td>10 Dundas St E (at Yonge St.), Toronto ON M5B 2G9</td>\n",
       "      <td>0.00</td>\n",
       "    </tr>\n",
       "  </tbody>\n",
       "</table>\n",
       "</div>"
      ],
      "text/plain": [
       "                                              name  \\\n",
       "0                Elgin & Winter Garden Theatre Ctr   \n",
       "1  The Four Seasons Centre for the Performing Arts   \n",
       "2                                      Jazz Bistro   \n",
       "3                                Canadian Opera Co   \n",
       "4                           Betty Oliphant Theatre   \n",
       "5                     Buddies in Bad Times Theatre   \n",
       "6                                         Bar Plus   \n",
       "7                              Bluma Appel Theatre   \n",
       "8                                  Ryerson Theatre   \n",
       "9                                Fusion Rock Radio   \n",
       "\n",
       "                                             address  rating  \n",
       "0  189 Yonge St (btwn Queen St E & Shuter St), To...    4.50  \n",
       "1  145 Queen St W (at University Ave.), Toronto O...    4.45  \n",
       "2  251 Victoria St (btwn Dundas St. E & Shuter St...    4.25  \n",
       "3    145 Queen St W (University), Toronto ON M5H 4G1    4.00  \n",
       "4                  400 Jarvis St, Toronto ON M4Y 2G6    3.95  \n",
       "5     12 Alexander St (Yonge St), Toronto ON M4Y 1B4    3.90  \n",
       "6                      2Nd Floor, Toronto ON M5B 1S5    3.10  \n",
       "7                  27 Front St E, Toronto ON M5E 1B4    3.10  \n",
       "8  43 Gerrard St E (btwn Yonge & Church), Toronto...    3.00  \n",
       "9  10 Dundas St E (at Yonge St.), Toronto ON M5B 2G9    0.00  "
      ]
     },
     "execution_count": 12,
     "metadata": {},
     "output_type": "execute_result"
    }
   ],
   "source": [
    "print('Music Venues within 1km of Young-Dundas Square (in meters):')\n",
    "sort_fs_df = df[['name', 'location.formatted_address', 'rating']].sort_values('rating', ascending=False).rename(columns={'location.formatted_address': 'address'}).fillna(0.0)\n",
    "sort_fs_df['rating'] = sort_fs_df['rating']*0.5\n",
    "fs_df = sort_fs_df.reset_index(drop=True)\n",
    "fs_df"
   ]
  },
  {
   "cell_type": "markdown",
   "metadata": {},
   "source": [
    "# Yelp"
   ]
  },
  {
   "cell_type": "markdown",
   "metadata": {},
   "source": [
    "Send a request with the same location paramaters (location, radius, etc)"
   ]
  },
  {
   "cell_type": "code",
   "execution_count": 13,
   "metadata": {},
   "outputs": [],
   "source": [
    "#yelp api initialize\n",
    "yelp_api = os.environ[\"YELP_API_KEY\"]\n",
    "yelp_headers = {\"accept\": \"application/json\",\n",
    "           \"Authorization\": f\"BEARER {yelp_api}\"}\n",
    "\n",
    "#yelp query Variables\n",
    "yelp_url = \"https://api.yelp.com/v3/businesses/search?latitude=43.656112128112106&longitude=-79.3802357750855&radius=1000&categories=musicvenues&=\"\n",
    "#yelp data pull\n",
    "yelp_response = requests.get(yelp_url, headers=yelp_headers)\n"
   ]
  },
  {
   "cell_type": "markdown",
   "metadata": {},
   "source": [
    "Parse through your result and get POI details"
   ]
  },
  {
   "cell_type": "code",
   "execution_count": 14,
   "metadata": {},
   "outputs": [],
   "source": [
    "yelp_data = yelp_response.json()"
   ]
  },
  {
   "cell_type": "markdown",
   "metadata": {},
   "source": [
    "Put your parsed results into a DataFrame"
   ]
  },
  {
   "cell_type": "code",
   "execution_count": 44,
   "metadata": {},
   "outputs": [],
   "source": [
    "df = pd.json_normalize(yelp_data['businesses'])\n",
    "sort_yp_df = df[['name', 'location.display_address', 'rating']].sort_values('rating', ascending=False).rename(columns={'location.display_address': 'address'})\n",
    "yp_df = sort_yp_df.reset_index(drop=True)\n"
   ]
  },
  {
   "cell_type": "code",
   "execution_count": 46,
   "metadata": {},
   "outputs": [],
   "source": [
    "yp_df['address'] = yp_df['address'].apply(lambda x: str(x))"
   ]
  },
  {
   "cell_type": "code",
   "execution_count": 47,
   "metadata": {},
   "outputs": [
    {
     "data": {
      "text/html": [
       "<div>\n",
       "<style scoped>\n",
       "    .dataframe tbody tr th:only-of-type {\n",
       "        vertical-align: middle;\n",
       "    }\n",
       "\n",
       "    .dataframe tbody tr th {\n",
       "        vertical-align: top;\n",
       "    }\n",
       "\n",
       "    .dataframe thead th {\n",
       "        text-align: right;\n",
       "    }\n",
       "</style>\n",
       "<table border=\"1\" class=\"dataframe\">\n",
       "  <thead>\n",
       "    <tr style=\"text-align: right;\">\n",
       "      <th></th>\n",
       "      <th>name</th>\n",
       "      <th>address</th>\n",
       "      <th>rating</th>\n",
       "    </tr>\n",
       "  </thead>\n",
       "  <tbody>\n",
       "    <tr>\n",
       "      <th>0</th>\n",
       "      <td>Bar Cathedral</td>\n",
       "      <td>['54 The Esplanade', 'Toronto, ON M5E 1A6', 'C...</td>\n",
       "      <td>5.0</td>\n",
       "    </tr>\n",
       "    <tr>\n",
       "      <th>1</th>\n",
       "      <td>Massey Hall</td>\n",
       "      <td>['178 Victoria Street', 'Toronto, ON M5B 1T7',...</td>\n",
       "      <td>4.0</td>\n",
       "    </tr>\n",
       "    <tr>\n",
       "      <th>2</th>\n",
       "      <td>The Reservoir Lounge</td>\n",
       "      <td>['52  Wellington Street E', 'Toronto, ON M5E 1...</td>\n",
       "      <td>4.0</td>\n",
       "    </tr>\n",
       "    <tr>\n",
       "      <th>3</th>\n",
       "      <td>Ryerson Theatre</td>\n",
       "      <td>['43 Gerrard Street E', 'Toronto, ON M5G 2A7',...</td>\n",
       "      <td>4.0</td>\n",
       "    </tr>\n",
       "    <tr>\n",
       "      <th>4</th>\n",
       "      <td>The Cavern Bar</td>\n",
       "      <td>['76 Church Street', 'Toronto, ON M5C 2G1', 'C...</td>\n",
       "      <td>4.0</td>\n",
       "    </tr>\n",
       "    <tr>\n",
       "      <th>5</th>\n",
       "      <td>Waterfall Stage</td>\n",
       "      <td>['First Canadian Place', '100 King St W', 'Tor...</td>\n",
       "      <td>4.0</td>\n",
       "    </tr>\n",
       "    <tr>\n",
       "      <th>6</th>\n",
       "      <td>C'est What</td>\n",
       "      <td>['67 Front Street E', 'Toronto, ON M5E 1B5', '...</td>\n",
       "      <td>3.5</td>\n",
       "    </tr>\n",
       "    <tr>\n",
       "      <th>7</th>\n",
       "      <td>Jazz Bistro</td>\n",
       "      <td>['251 Victoria Street', 'Toronto, ON M5B 1T8',...</td>\n",
       "      <td>3.5</td>\n",
       "    </tr>\n",
       "    <tr>\n",
       "      <th>8</th>\n",
       "      <td>Adelaide Hall</td>\n",
       "      <td>['250 Adelaide Street W', 'Toronto, ON M5H 1X6...</td>\n",
       "      <td>3.5</td>\n",
       "    </tr>\n",
       "    <tr>\n",
       "      <th>9</th>\n",
       "      <td>The Sultan's Tent &amp; Cafe Moroc</td>\n",
       "      <td>['49 Front Street E', 'Toronto, ON M5E 1B3', '...</td>\n",
       "      <td>3.0</td>\n",
       "    </tr>\n",
       "    <tr>\n",
       "      <th>10</th>\n",
       "      <td>Phoenix Concert Theatre</td>\n",
       "      <td>['410 Sherbourne St', 'Toronto, ON M4X 1K2', '...</td>\n",
       "      <td>3.0</td>\n",
       "    </tr>\n",
       "    <tr>\n",
       "      <th>11</th>\n",
       "      <td>Reillys</td>\n",
       "      <td>['340 Yonge St', 'Toronto, ON M5B 1R8', 'Canada']</td>\n",
       "      <td>2.5</td>\n",
       "    </tr>\n",
       "  </tbody>\n",
       "</table>\n",
       "</div>"
      ],
      "text/plain": [
       "                              name  \\\n",
       "0                    Bar Cathedral   \n",
       "1                      Massey Hall   \n",
       "2             The Reservoir Lounge   \n",
       "3                  Ryerson Theatre   \n",
       "4                   The Cavern Bar   \n",
       "5                  Waterfall Stage   \n",
       "6                       C'est What   \n",
       "7                      Jazz Bistro   \n",
       "8                    Adelaide Hall   \n",
       "9   The Sultan's Tent & Cafe Moroc   \n",
       "10         Phoenix Concert Theatre   \n",
       "11                         Reillys   \n",
       "\n",
       "                                              address  rating  \n",
       "0   ['54 The Esplanade', 'Toronto, ON M5E 1A6', 'C...     5.0  \n",
       "1   ['178 Victoria Street', 'Toronto, ON M5B 1T7',...     4.0  \n",
       "2   ['52  Wellington Street E', 'Toronto, ON M5E 1...     4.0  \n",
       "3   ['43 Gerrard Street E', 'Toronto, ON M5G 2A7',...     4.0  \n",
       "4   ['76 Church Street', 'Toronto, ON M5C 2G1', 'C...     4.0  \n",
       "5   ['First Canadian Place', '100 King St W', 'Tor...     4.0  \n",
       "6   ['67 Front Street E', 'Toronto, ON M5E 1B5', '...     3.5  \n",
       "7   ['251 Victoria Street', 'Toronto, ON M5B 1T8',...     3.5  \n",
       "8   ['250 Adelaide Street W', 'Toronto, ON M5H 1X6...     3.5  \n",
       "9   ['49 Front Street E', 'Toronto, ON M5E 1B3', '...     3.0  \n",
       "10  ['410 Sherbourne St', 'Toronto, ON M4X 1K2', '...     3.0  \n",
       "11  ['340 Yonge St', 'Toronto, ON M5B 1R8', 'Canada']     2.5  "
      ]
     },
     "execution_count": 47,
     "metadata": {},
     "output_type": "execute_result"
    }
   ],
   "source": [
    "yp_df"
   ]
  },
  {
   "cell_type": "code",
   "execution_count": 17,
   "metadata": {},
   "outputs": [],
   "source": [
    "# yp_df2 = yp_df.explode(['address']).reset_index(drop=True)"
   ]
  },
  {
   "cell_type": "code",
   "execution_count": 18,
   "metadata": {},
   "outputs": [],
   "source": [
    "# strJoin = lambda x:\",\".join(x.astype(str))   \n",
    "# yp_df3 = yp_df2.groupby(['name', 'rating']).agg({\"address\":strJoin})"
   ]
  },
  {
   "cell_type": "code",
   "execution_count": 19,
   "metadata": {},
   "outputs": [],
   "source": [
    "# yp_df3"
   ]
  },
  {
   "cell_type": "markdown",
   "metadata": {},
   "source": [
    "# Google (stretch)"
   ]
  },
  {
   "cell_type": "markdown",
   "metadata": {},
   "source": [
    "Use the same process as the first two APIs"
   ]
  },
  {
   "cell_type": "code",
   "execution_count": 21,
   "metadata": {},
   "outputs": [],
   "source": [
    "#Google Places API\n",
    "google_api = os.environ[\"GOOGLE_API_KEY\"]"
   ]
  },
  {
   "cell_type": "code",
   "execution_count": null,
   "metadata": {},
   "outputs": [],
   "source": []
  },
  {
   "cell_type": "code",
   "execution_count": null,
   "metadata": {},
   "outputs": [],
   "source": []
  },
  {
   "cell_type": "code",
   "execution_count": null,
   "metadata": {},
   "outputs": [],
   "source": []
  },
  {
   "cell_type": "markdown",
   "metadata": {},
   "source": [
    "# Database"
   ]
  },
  {
   "cell_type": "markdown",
   "metadata": {},
   "source": [
    "Put all your results in an SQLite3 database (remember, SQLite stores its databases as files in your local machine - make sure to create your database in your project's data/ directory!)"
   ]
  },
  {
   "cell_type": "code",
   "execution_count": 48,
   "metadata": {},
   "outputs": [],
   "source": [
    "# #create database\n",
    "conn = sq.connect('../data/eda_data')\n",
    "# c = conn.cursor()\n",
    "\n",
    "# #initialize the table\n",
    "# #c.execute('CREATE TABLE IF NOT EXISTS locations (name text, rating real, address text)')\n",
    "# conn.commit()"
   ]
  },
  {
   "cell_type": "code",
   "execution_count": 49,
   "metadata": {},
   "outputs": [
    {
     "data": {
      "text/plain": [
       "12"
      ]
     },
     "execution_count": 49,
     "metadata": {},
     "output_type": "execute_result"
    }
   ],
   "source": [
    "# #send dataframes to sql\n",
    "yp_df.to_sql('locations', conn, if_exists='replace', index=False)"
   ]
  },
  {
   "cell_type": "code",
   "execution_count": 50,
   "metadata": {},
   "outputs": [
    {
     "data": {
      "text/plain": [
       "10"
      ]
     },
     "execution_count": 50,
     "metadata": {},
     "output_type": "execute_result"
    }
   ],
   "source": [
    "fs_df.to_sql('locations', conn, if_exists='append', index=False)"
   ]
  },
  {
   "cell_type": "code",
   "execution_count": null,
   "metadata": {},
   "outputs": [],
   "source": []
  },
  {
   "cell_type": "code",
   "execution_count": 52,
   "metadata": {},
   "outputs": [
    {
     "name": "stdout",
     "output_type": "stream",
     "text": [
      "   rating                                             name\n",
      "0    5.00                                    Bar Cathedral\n",
      "1    4.50                Elgin & Winter Garden Theatre Ctr\n",
      "2    4.45  The Four Seasons Centre for the Performing Arts\n",
      "3    4.25                                      Jazz Bistro\n",
      "4    4.00                                      Massey Hall\n",
      "5    4.00                             The Reservoir Lounge\n",
      "6    4.00                                  Ryerson Theatre\n",
      "7    4.00                                   The Cavern Bar\n",
      "8    4.00                                  Waterfall Stage\n",
      "9    4.00                                Canadian Opera Co\n"
     ]
    }
   ],
   "source": [
    "result = pd.read_sql('SELECT rating, name\\\n",
    "                      FROM locations\\\n",
    "                      ORDER BY rating DESC\\\n",
    "                      LIMIT 10', conn)\n",
    "print(result)"
   ]
  },
  {
   "cell_type": "markdown",
   "metadata": {},
   "source": [
    "Get the top 10 restaurants according to their rating"
   ]
  },
  {
   "cell_type": "markdown",
   "metadata": {},
   "source": [
    "# Travelling Salesman Problem (stretch)"
   ]
  },
  {
   "cell_type": "markdown",
   "metadata": {},
   "source": [
    "If you have time, follow the steps in the [ortools tutorial](https://developers.google.com/optimization/routing/tsp) using Google's [Directions API](https://developers.google.com/maps/documentation/directions/start)."
   ]
  },
  {
   "cell_type": "code",
   "execution_count": null,
   "metadata": {},
   "outputs": [],
   "source": []
  }
 ],
 "metadata": {
  "kernelspec": {
   "display_name": "Python 3 (ipykernel)",
   "language": "python",
   "name": "python3"
  },
  "language_info": {
   "codemirror_mode": {
    "name": "ipython",
    "version": 3
   },
   "file_extension": ".py",
   "mimetype": "text/x-python",
   "name": "python",
   "nbconvert_exporter": "python",
   "pygments_lexer": "ipython3",
   "version": "3.8.13"
  }
 },
 "nbformat": 4,
 "nbformat_minor": 4
}
