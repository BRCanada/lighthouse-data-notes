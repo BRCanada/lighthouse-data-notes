{
 "cells": [
  {
   "cell_type": "code",
   "execution_count": 1,
   "id": "24ec09ca",
   "metadata": {},
   "outputs": [],
   "source": [
    "import sqlite3 as sq"
   ]
  },
  {
   "cell_type": "code",
   "execution_count": 2,
   "id": "311648d1",
   "metadata": {},
   "outputs": [],
   "source": [
    "con = sq.connect('hr.db')\n",
    "cur = con.cursor()"
   ]
  },
  {
   "cell_type": "code",
   "execution_count": 3,
   "id": "8bbade1e",
   "metadata": {},
   "outputs": [],
   "source": [
    "SQL = \"\"\"SELECT first_name, last_name, manager_id\n",
    "         FROM employees\n",
    "         WHERE \n",
    "         manager_id = (SELECT employee_id\n",
    "                            FROM employees\n",
    "                            WHERE \n",
    "                            department_id = (SELECT department_id\n",
    "                                            FROM departments\n",
    "                                            WHERE \n",
    "                                            location_id = (SELECT location_id\n",
    "                                                           FROM locations\n",
    "                                                           WHERE\n",
    "                                                           country_id = (SELECT country_id\n",
    "                                                                         FROM countries\n",
    "                                                                         WHERE\n",
    "                                                                         country_name = 'United States'))))\n",
    "\"\"\""
   ]
  },
  {
   "cell_type": "code",
   "execution_count": 11,
   "id": "039b91cd",
   "metadata": {},
   "outputs": [
    {
     "data": {
      "text/plain": [
       "[(1400, '2014 Jabberwocky Rd', '26192', 'Southlake', 'Texas', 'US'),\n",
       " (1500,\n",
       "  '2011 Interiors Blvd',\n",
       "  '99236',\n",
       "  'South San Francisco',\n",
       "  'California',\n",
       "  'US'),\n",
       " (1700, '2004 Charade Rd', '98199', 'Seattle', 'Washington', 'US'),\n",
       " (1800, '147 Spadina Ave', 'M5V 2L7', 'Toronto', 'Ontario', 'CA'),\n",
       " (2400, '8204 Arthur St', None, 'London', None, 'UK'),\n",
       " (2500,\n",
       "  'Magdalen Centre, The Oxford Science Park',\n",
       "  'OX9 9ZB',\n",
       "  'Oxford',\n",
       "  'Oxford',\n",
       "  'UK'),\n",
       " (2700, 'Schwanthalerstr. 7031', '80925', 'Munich', 'Bavaria', 'DE')]"
      ]
     },
     "execution_count": 11,
     "metadata": {},
     "output_type": "execute_result"
    }
   ],
   "source": [
    "cur.execute(\"\"\" SELECT * FROM locations\n",
    "          \"\"\")\n",
    "cur.fetchall()"
   ]
  },
  {
   "cell_type": "code",
   "execution_count": null,
   "id": "553893e2",
   "metadata": {},
   "outputs": [],
   "source": []
  }
 ],
 "metadata": {
  "kernelspec": {
   "display_name": "Python 3 (ipykernel)",
   "language": "python",
   "name": "python3"
  },
  "language_info": {
   "codemirror_mode": {
    "name": "ipython",
    "version": 3
   },
   "file_extension": ".py",
   "mimetype": "text/x-python",
   "name": "python",
   "nbconvert_exporter": "python",
   "pygments_lexer": "ipython3",
   "version": "3.8.13"
  }
 },
 "nbformat": 4,
 "nbformat_minor": 5
}
